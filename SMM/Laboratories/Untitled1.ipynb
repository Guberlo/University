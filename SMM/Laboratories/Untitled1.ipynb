{
 "cells": [
  {
   "cell_type": "code",
   "execution_count": 2,
   "metadata": {},
   "outputs": [
    {
     "data": {
      "text/html": [
       "<div>\n",
       "<style scoped>\n",
       "    .dataframe tbody tr th:only-of-type {\n",
       "        vertical-align: middle;\n",
       "    }\n",
       "\n",
       "    .dataframe tbody tr th {\n",
       "        vertical-align: top;\n",
       "    }\n",
       "\n",
       "    .dataframe thead th {\n",
       "        text-align: right;\n",
       "    }\n",
       "</style>\n",
       "<table border=\"1\" class=\"dataframe\">\n",
       "  <thead>\n",
       "    <tr style=\"text-align: right;\">\n",
       "      <th></th>\n",
       "      <th>manufacturer</th>\n",
       "      <th>model</th>\n",
       "      <th>image</th>\n",
       "      <th>price</th>\n",
       "      <th>reviews_no</th>\n",
       "      <th>availability</th>\n",
       "      <th>rating</th>\n",
       "    </tr>\n",
       "  </thead>\n",
       "  <tbody>\n",
       "    <tr>\n",
       "      <td>0</td>\n",
       "      <td>Harley Benton</td>\n",
       "      <td>Ukulele UK-11DW Brown</td>\n",
       "      <td>https://thumbs.static-thomann.de/thumb/thumb15...</td>\n",
       "      <td>17.9</td>\n",
       "      <td>437</td>\n",
       "      <td>Disponibilità immediata</td>\n",
       "      <td>84.073</td>\n",
       "    </tr>\n",
       "    <tr>\n",
       "      <td>1</td>\n",
       "      <td>Harley Benton</td>\n",
       "      <td>Ukulele Pack</td>\n",
       "      <td>https://thumbs.static-thomann.de/thumb/thumb15...</td>\n",
       "      <td>30.0</td>\n",
       "      <td>20</td>\n",
       "      <td>Disponibilità immediata</td>\n",
       "      <td>88.000</td>\n",
       "    </tr>\n",
       "    <tr>\n",
       "      <td>2</td>\n",
       "      <td>Harley Benton</td>\n",
       "      <td>Hawaii Koa Soprano Ukulele</td>\n",
       "      <td>https://thumbs.static-thomann.de/thumb/thumb15...</td>\n",
       "      <td>99.0</td>\n",
       "      <td>13</td>\n",
       "      <td>Disponibilità immediata</td>\n",
       "      <td>93.846</td>\n",
       "    </tr>\n",
       "    <tr>\n",
       "      <td>3</td>\n",
       "      <td>Harley Benton</td>\n",
       "      <td>UK-12 Black</td>\n",
       "      <td>https://thumbs.static-thomann.de/thumb/thumb15...</td>\n",
       "      <td>19.9</td>\n",
       "      <td>357</td>\n",
       "      <td>Disponibilità immediata</td>\n",
       "      <td>78.543</td>\n",
       "    </tr>\n",
       "    <tr>\n",
       "      <td>4</td>\n",
       "      <td>Baton Rouge</td>\n",
       "      <td>V1-S nat</td>\n",
       "      <td>https://thumbs.static-thomann.de/thumb/thumb15...</td>\n",
       "      <td>49.0</td>\n",
       "      <td>0</td>\n",
       "      <td>Disponibilità immediata</td>\n",
       "      <td>0.000</td>\n",
       "    </tr>\n",
       "  </tbody>\n",
       "</table>\n",
       "</div>"
      ],
      "text/plain": [
       "    manufacturer                       model  \\\n",
       "0  Harley Benton       Ukulele UK-11DW Brown   \n",
       "1  Harley Benton                Ukulele Pack   \n",
       "2  Harley Benton  Hawaii Koa Soprano Ukulele   \n",
       "3  Harley Benton                 UK-12 Black   \n",
       "4    Baton Rouge                    V1-S nat   \n",
       "\n",
       "                                               image  price reviews_no  \\\n",
       "0  https://thumbs.static-thomann.de/thumb/thumb15...   17.9        437   \n",
       "1  https://thumbs.static-thomann.de/thumb/thumb15...   30.0         20   \n",
       "2  https://thumbs.static-thomann.de/thumb/thumb15...   99.0         13   \n",
       "3  https://thumbs.static-thomann.de/thumb/thumb15...   19.9        357   \n",
       "4  https://thumbs.static-thomann.de/thumb/thumb15...   49.0          0   \n",
       "\n",
       "              availability  rating  \n",
       "0  Disponibilità immediata  84.073  \n",
       "1  Disponibilità immediata  88.000  \n",
       "2  Disponibilità immediata  93.846  \n",
       "3  Disponibilità immediata  78.543  \n",
       "4  Disponibilità immediata   0.000  "
      ]
     },
     "execution_count": 2,
     "metadata": {},
     "output_type": "execute_result"
    }
   ],
   "source": [
    "from urllib.request import urlopen as uRequest\n",
    "from bs4 import BeautifulSoup as soup\n",
    "import re\n",
    "import pandas as pd\n",
    "\n",
    "page_url = 'https://www.thomann.de/it/ukulele_soprani.html'\n",
    "uClient = uRequest(page_url)\n",
    "html_page = uClient.read()\n",
    "page_soup = soup(html_page)\n",
    "\n",
    "records = []\n",
    "\n",
    "containers = page_soup.findAll('div', {'class':'extensible-article'})\n",
    "for container in containers:\n",
    "    manufacturer  = container.findAll('span', {'class':'manufacturer'})[0].text #anche se la variabile ha un solo elemento dobbiamo comunque indicizzarlo\n",
    "    model = container.findAll('span', {'class':'model'})[0].text\n",
    "    image  = container.findAll('div',{'class':'product-image'})[0].img['src']\n",
    "    price = container.findAll('span',{'class' : 'article-basketlink'})[0].text\n",
    "    price = float(price.replace('€', '').replace(',','.'))\n",
    "    reviews_no = container.findAll('span', {'class':'count'})[0].text\n",
    "    availability = container.findAll('span', {'class':'rs-layover-trigger-text'})[0].text\n",
    "    rating = container.findAll('span', {'class':'overlay-wrapper'})[0]['style']\n",
    "    rating = float(re.search('[0-9]+(\\.[0-9]+)?',rating).group())\n",
    "    records.append([manufacturer, model, image, price, reviews_no, availability, rating])\n",
    "\n",
    "\n",
    "data = pd.DataFrame(records, columns = ['manufacturer','model','image','price','reviews_no','availability','rating'])\n",
    "data.head()"
   ]
  },
  {
   "cell_type": "markdown",
   "metadata": {},
   "source": [
    "# Domanda 2\n",
    "[0-9]+ \\,[0-9]+"
   ]
  },
  {
   "cell_type": "markdown",
   "metadata": {},
   "source": [
    "# Domanda 3\n",
    "\n",
    "rating = float(rating.replace('%', ''))"
   ]
  },
  {
   "cell_type": "markdown",
   "metadata": {},
   "source": [
    "# Scaricare immagini"
   ]
  },
  {
   "cell_type": "markdown",
   "metadata": {},
   "source": [
    "# 1 Creare directory"
   ]
  },
  {
   "cell_type": "code",
   "execution_count": null,
   "metadata": {},
   "outputs": [],
   "source": [
    "import os\n",
    "\n",
    "dest_dir = 'thaomann_img'\n",
    "try:\n",
    "    os.makedirs(dest_dir)\n",
    "except:\n",
    "    pass"
   ]
  },
  {
   "cell_type": "markdown",
   "metadata": {},
   "source": [
    "# 2 Nome univoco all'immagine"
   ]
  },
  {
   "cell_type": "code",
   "execution_count": null,
   "metadata": {},
   "outputs": [],
   "source": [
    "row = data.iloc[0]\n",
    "ext = re.search('[^.]+$',row['image']).group() #cerchiamo l'estensione dell'immagine es .png\n",
    "img_name = \"img_{id:05d}.{ext:s}\"\n",
    "img_name.format(id=int(row.name), ext = ext)\n"
   ]
  },
  {
   "cell_type": "markdown",
   "metadata": {},
   "source": [
    "# Percorso della cartella"
   ]
  },
  {
   "cell_type": "code",
   "execution_count": null,
   "metadata": {},
   "outputs": [],
   "source": [
    "from os.path import join\n",
    "\n",
    "path = join(dest_dir, img_name.format(id=int(row.name), ext = ext))\n",
    "path"
   ]
  },
  {
   "cell_type": "markdown",
   "metadata": {},
   "source": [
    "# Download dell'immagine"
   ]
  },
  {
   "cell_type": "code",
   "execution_count": null,
   "metadata": {},
   "outputs": [],
   "source": [
    "from urllib.request import urlretrieve as retrieve\n",
    "\n",
    "retrieve(row['image'], path)"
   ]
  },
  {
   "cell_type": "code",
   "execution_count": null,
   "metadata": {},
   "outputs": [],
   "source": [
    "from PIL import Image \n",
    "Image.open(path)"
   ]
  },
  {
   "cell_type": "code",
   "execution_count": null,
   "metadata": {},
   "outputs": [],
   "source": [
    "def download_images(data, dest_dir, img_name = \"img_{id:05d}.{ext:s}\"):\n",
    "    data = data.copy()\n",
    "    data['img_path'] = None\n",
    "    img_paths = []\n",
    "    for i in data.iterrows():\n",
    "        ext = re.search('[^.]+$',row['image']).group() #cerchiamo l'estensione dell'immagine es .png\n",
    "        path = join(dest_dir, img_name.format(id=int(row.name), ext = ext))\n",
    "        retrieve(row['image'],path)\n",
    "        img_paths.append(path)\n",
    "    data['img_path'] = img_paths\n",
    "    return data"
   ]
  },
  {
   "cell_type": "code",
   "execution_count": null,
   "metadata": {},
   "outputs": [],
   "source": [
    "page_links=[c.a['href']for c in list(filter(lambda c:'active'not in c['class'],page_soup.findAll('div',{'class':'page'})))]\n",
    "page_links"
   ]
  },
  {
   "cell_type": "code",
   "execution_count": null,
   "metadata": {},
   "outputs": [],
   "source": [
    "base_url = re.search('http(s)?://[^/]*', page_url).group(0)\n",
    "page_links = [base_url + l for l in page_links]"
   ]
  },
  {
   "cell_type": "code",
   "execution_count": 15,
   "metadata": {},
   "outputs": [
    {
     "name": "stdout",
     "output_type": "stream",
     "text": [
      "<class 'pandas.core.frame.DataFrame'>\n",
      "RangeIndex: 167 entries, 0 to 166\n",
      "Data columns (total 7 columns):\n",
      "manufacturer    167 non-null object\n",
      "model           167 non-null object\n",
      "image           167 non-null object\n",
      "price           167 non-null float64\n",
      "review_no       167 non-null object\n",
      "availability    167 non-null object\n",
      "rating          167 non-null float64\n",
      "dtypes: float64(2), object(5)\n",
      "memory usage: 9.3+ KB\n"
     ]
    },
    {
     "data": {
      "text/html": [
       "<div>\n",
       "<style scoped>\n",
       "    .dataframe tbody tr th:only-of-type {\n",
       "        vertical-align: middle;\n",
       "    }\n",
       "\n",
       "    .dataframe tbody tr th {\n",
       "        vertical-align: top;\n",
       "    }\n",
       "\n",
       "    .dataframe thead th {\n",
       "        text-align: right;\n",
       "    }\n",
       "</style>\n",
       "<table border=\"1\" class=\"dataframe\">\n",
       "  <thead>\n",
       "    <tr style=\"text-align: right;\">\n",
       "      <th></th>\n",
       "      <th>manufacturer</th>\n",
       "      <th>model</th>\n",
       "      <th>image</th>\n",
       "      <th>price</th>\n",
       "      <th>review_no</th>\n",
       "      <th>availability</th>\n",
       "      <th>rating</th>\n",
       "    </tr>\n",
       "  </thead>\n",
       "  <tbody>\n",
       "    <tr>\n",
       "      <td>162</td>\n",
       "      <td>Lanikai</td>\n",
       "      <td>Mahogany Soprano Ukule B-Stock</td>\n",
       "      <td>https://thumbs.static-thomann.de/thumb/thumb15...</td>\n",
       "      <td>93.0</td>\n",
       "      <td>0</td>\n",
       "      <td>Disponibilità immediata</td>\n",
       "      <td>0.0</td>\n",
       "    </tr>\n",
       "    <tr>\n",
       "      <td>163</td>\n",
       "      <td>Kala</td>\n",
       "      <td>Makala Soprano Ukulele B-Stock</td>\n",
       "      <td>https://thumbs.static-thomann.de/thumb/thumb15...</td>\n",
       "      <td>83.0</td>\n",
       "      <td>0</td>\n",
       "      <td>Disponibilità immediata</td>\n",
       "      <td>0.0</td>\n",
       "    </tr>\n",
       "    <tr>\n",
       "      <td>164</td>\n",
       "      <td>Islander</td>\n",
       "      <td>by Kanilea MS 4 HNS So B-Stock</td>\n",
       "      <td>https://thumbs.static-thomann.de/thumb/thumb15...</td>\n",
       "      <td>106.0</td>\n",
       "      <td>0</td>\n",
       "      <td>Disponibilità immediata</td>\n",
       "      <td>0.0</td>\n",
       "    </tr>\n",
       "    <tr>\n",
       "      <td>165</td>\n",
       "      <td>Ibanez</td>\n",
       "      <td>UKS10 B-Stock</td>\n",
       "      <td>https://thumbs.static-thomann.de/thumb/thumb15...</td>\n",
       "      <td>65.0</td>\n",
       "      <td>0</td>\n",
       "      <td>Disponibilità immediata</td>\n",
       "      <td>0.0</td>\n",
       "    </tr>\n",
       "    <tr>\n",
       "      <td>166</td>\n",
       "      <td>Kala</td>\n",
       "      <td>Ukadelic Soprano USA</td>\n",
       "      <td>https://thumbs.static-thomann.de/thumb/thumb15...</td>\n",
       "      <td>48.0</td>\n",
       "      <td>0</td>\n",
       "      <td>Disponibilità immediata</td>\n",
       "      <td>0.0</td>\n",
       "    </tr>\n",
       "  </tbody>\n",
       "</table>\n",
       "</div>"
      ],
      "text/plain": [
       "    manufacturer                           model  \\\n",
       "162      Lanikai  Mahogany Soprano Ukule B-Stock   \n",
       "163         Kala  Makala Soprano Ukulele B-Stock   \n",
       "164     Islander  by Kanilea MS 4 HNS So B-Stock   \n",
       "165       Ibanez                   UKS10 B-Stock   \n",
       "166         Kala            Ukadelic Soprano USA   \n",
       "\n",
       "                                                 image  price review_no  \\\n",
       "162  https://thumbs.static-thomann.de/thumb/thumb15...   93.0         0   \n",
       "163  https://thumbs.static-thomann.de/thumb/thumb15...   83.0         0   \n",
       "164  https://thumbs.static-thomann.de/thumb/thumb15...  106.0         0   \n",
       "165  https://thumbs.static-thomann.de/thumb/thumb15...   65.0         0   \n",
       "166  https://thumbs.static-thomann.de/thumb/thumb15...   48.0         0   \n",
       "\n",
       "                availability  rating  \n",
       "162  Disponibilità immediata     0.0  \n",
       "163  Disponibilità immediata     0.0  \n",
       "164  Disponibilità immediata     0.0  \n",
       "165  Disponibilità immediata     0.0  \n",
       "166  Disponibilità immediata     0.0  "
      ]
     },
     "execution_count": 15,
     "metadata": {},
     "output_type": "execute_result"
    }
   ],
   "source": [
    "from urllib.request import urlopen as uRequest\n",
    "from bs4 import BeautifulSoup as soup\n",
    "import re\n",
    "import pandas as pd\n",
    "import os\n",
    "from glob import glob\n",
    "from os.path import join\n",
    "from urllib.request import urlretrieve as retrieve\n",
    "\n",
    "def scrape(page_url, records = []):\n",
    "    uClient = uRequest(page_url)\n",
    "    html_page = uClient.read()\n",
    "    page_soup = soup(html_page)\n",
    "\n",
    "    records = []\n",
    "\n",
    "    containers = page_soup.findAll('div', {'class':'extensible-article'})\n",
    "    for container in containers:\n",
    "        manufacturer  = container.findAll('span', {'class':'manufacturer'})[0].text #anche se la variabile ha un solo elemento dobbiamo comunque indicizzarlo\n",
    "        model = container.findAll('span', {'class':'model'})[0].text\n",
    "        image  = container.findAll('div',{'class':'product-image'})[0].img['src']\n",
    "        price = container.findAll('span',{'class' : 'article-basketlink'})[0].text\n",
    "        price = float(price.replace('€', '').replace(',','.'))\n",
    "        reviews_no = container.findAll('span', {'class':'count'})[0].text\n",
    "        availability = container.findAll('span', {'class':'rs-layover-trigger-text'})[0].text\n",
    "        rating = container.findAll('span', {'class':'overlay-wrapper'})[0]['style']\n",
    "        rating = float(re.search('[0-9]+(\\.[0-9]+)?',rating).group())\n",
    "        records.append([manufacturer, model, image, price, reviews_no, availability, rating])\n",
    "    return records\n",
    "\n",
    "def navigate_scrape(f_page_url, records = []):\n",
    "    page_html = uRequest(f_page_url).read()\n",
    "    page_soup = soup(page_html)\n",
    "    page_links = [c.a['href'] for c in \\\n",
    "                  list(filter(lambda c: 'active' not in c['class'], page_soup.findAll('div', {'class':'page'})))]\n",
    "    base_url = re.search('http(s)?://[^/]*',f_page_url).group(0)\n",
    "    page_links = [base_url + l for l in page_links]\n",
    "    page_links = [f_page_url] + page_links\n",
    "    \n",
    "    for url in page_links:\n",
    "        records += scrape(url, records)\n",
    "    return records\n",
    "\n",
    "def download_images(data, dest_dir, img_name = \"img_{id:05d}.{ext:s}\"):    \n",
    "    data = data.copy()\n",
    "    data['img_path'] = None\n",
    "    img_paths = []\n",
    "    for i, row in data.iterrows():\n",
    "        ext = re.search('[^.]+$',row['image']).group() #cerchiamo l'estensione dell'immagine es .png\n",
    "        path = join(dest_dir, img_name.format(id=int(row.name), ext = ext))\n",
    "        retrieve(row['image'],path)\n",
    "        img_paths.append(path)\n",
    "    data['img_path'] = img_paths\n",
    "    return data\n",
    "\n",
    "page_url = 'https://www.thomann.de/it/ukulele_soprani.html'\n",
    "records = navigate_scrape(page_url)\n",
    "data = pd.DataFrame(records, columns=['manufacturer','model','image','price','review_no','availability','rating'])\n",
    "data.info()\n",
    "data.tail()"
   ]
  },
  {
   "cell_type": "code",
   "execution_count": null,
   "metadata": {},
   "outputs": [],
   "source": []
  }
 ],
 "metadata": {
  "kernelspec": {
   "display_name": "Python 3",
   "language": "python",
   "name": "python3"
  },
  "language_info": {
   "codemirror_mode": {
    "name": "ipython",
    "version": 3
   },
   "file_extension": ".py",
   "mimetype": "text/x-python",
   "name": "python",
   "nbconvert_exporter": "python",
   "pygments_lexer": "ipython3",
   "version": "3.7.4"
  }
 },
 "nbformat": 4,
 "nbformat_minor": 2
}
