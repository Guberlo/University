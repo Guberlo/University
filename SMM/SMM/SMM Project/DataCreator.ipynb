{
 "cells": [
  {
   "cell_type": "code",
   "execution_count": 6,
   "metadata": {},
   "outputs": [
    {
     "name": "stdout",
     "output_type": "stream",
     "text": [
      "<class 'pandas.core.frame.DataFrame'>\n",
      "RangeIndex: 100 entries, 0 to 99\n",
      "Data columns (total 3 columns):\n",
      "ID          100 non-null object\n",
      "Title       100 non-null object\n",
      "Comments    100 non-null int64\n",
      "dtypes: int64(1), object(2)\n",
      "memory usage: 2.5+ KB\n"
     ]
    },
    {
     "data": {
      "text/html": [
       "<div>\n",
       "<style scoped>\n",
       "    .dataframe tbody tr th:only-of-type {\n",
       "        vertical-align: middle;\n",
       "    }\n",
       "\n",
       "    .dataframe tbody tr th {\n",
       "        vertical-align: top;\n",
       "    }\n",
       "\n",
       "    .dataframe thead th {\n",
       "        text-align: right;\n",
       "    }\n",
       "</style>\n",
       "<table border=\"1\" class=\"dataframe\">\n",
       "  <thead>\n",
       "    <tr style=\"text-align: right;\">\n",
       "      <th></th>\n",
       "      <th>ID</th>\n",
       "      <th>Title</th>\n",
       "      <th>Comments</th>\n",
       "    </tr>\n",
       "  </thead>\n",
       "  <tbody>\n",
       "    <tr>\n",
       "      <td>0</td>\n",
       "      <td>f1j6f9</td>\n",
       "      <td>What do you think about Tom Cruise as an actor?</td>\n",
       "      <td>51</td>\n",
       "    </tr>\n",
       "    <tr>\n",
       "      <td>1</td>\n",
       "      <td>exzvy2</td>\n",
       "      <td>What do you think about dark comedy movies?</td>\n",
       "      <td>9</td>\n",
       "    </tr>\n",
       "    <tr>\n",
       "      <td>2</td>\n",
       "      <td>e3jdy5</td>\n",
       "      <td>What do you think about Carlito's Way?</td>\n",
       "      <td>37</td>\n",
       "    </tr>\n",
       "    <tr>\n",
       "      <td>3</td>\n",
       "      <td>e5ud9d</td>\n",
       "      <td>What do you think about Directors changing mov...</td>\n",
       "      <td>11</td>\n",
       "    </tr>\n",
       "    <tr>\n",
       "      <td>4</td>\n",
       "      <td>ddv0xv</td>\n",
       "      <td>I am making a list of every great movie to wat...</td>\n",
       "      <td>26</td>\n",
       "    </tr>\n",
       "  </tbody>\n",
       "</table>\n",
       "</div>"
      ],
      "text/plain": [
       "       ID                                              Title  Comments\n",
       "0  f1j6f9    What do you think about Tom Cruise as an actor?        51\n",
       "1  exzvy2        What do you think about dark comedy movies?         9\n",
       "2  e3jdy5             What do you think about Carlito's Way?        37\n",
       "3  e5ud9d  What do you think about Directors changing mov...        11\n",
       "4  ddv0xv  I am making a list of every great movie to wat...        26"
      ]
     },
     "execution_count": 6,
     "metadata": {},
     "output_type": "execute_result"
    }
   ],
   "source": [
    "import praw\n",
    "import pandas as pd\n",
    "\n",
    "#create a reddit instance\n",
    "reddit = praw.Reddit(config.client_id,\n",
    "                     config.client_secret,\n",
    "                     config.username,\n",
    "                     config.password,\n",
    "                     config.user_agent)\n",
    "\n",
    "#get the subreddit we are interested in\n",
    "subreddit = reddit.subreddit('movies').search('what do you think about') #not iterable, we need to sort\n",
    "\n",
    "#sort by hot\n",
    "\n",
    "ids = []\n",
    "titles = []\n",
    "n_comments = [] #we will need this in order to create the DataFrame\n",
    "c_authors = [] #same for this one\n",
    "data = pd.DataFrame(columns=['ID','Title','Comments'])\n",
    "\n",
    "for s in subreddit:\n",
    "    #get only what contains our interested keyword\n",
    "    #if 'buy' in s.title:\n",
    "    ids.append(s)\n",
    "    titles.append(s.title)\n",
    "    n_comments.append(len(s.comments))\n",
    "        #print('---------------')\n",
    "        #print(s)\n",
    "        #print(\"Comments: {}\".format(len(s.comments))) #show how many comments a topic has\n",
    "        \n",
    "        #comments = s.comments\n",
    "        #for c in comments:\n",
    "            #print('***************')\n",
    "            #print(c.body)\n",
    "            #r_comments.append(c.body)\n",
    "            #print(\"Author: {}\".format(c.author))\n",
    "            #c_authors.append(str(c.author))\n",
    "data['ID'] = ids\n",
    "data['Title'] = titles\n",
    "data['Comments'] = n_comments\n",
    "\n",
    "data.sort_values(by=['Comments'])\n",
    "data.info()\n",
    "data.head()"
   ]
  },
  {
   "cell_type": "code",
   "execution_count": 11,
   "metadata": {},
   "outputs": [],
   "source": [
    "data.sort_values(by=['Comments'])\n",
    "data.head()\n",
    "data.to_csv('data.csv', index=False)"
   ]
  },
  {
   "cell_type": "code",
   "execution_count": null,
   "metadata": {},
   "outputs": [],
   "source": []
  }
 ],
 "metadata": {
  "kernelspec": {
   "display_name": "Python 3",
   "language": "python",
   "name": "python3"
  },
  "language_info": {
   "codemirror_mode": {
    "name": "ipython",
    "version": 3
   },
   "file_extension": ".py",
   "mimetype": "text/x-python",
   "name": "python",
   "nbconvert_exporter": "python",
   "pygments_lexer": "ipython3",
   "version": "3.7.4"
  }
 },
 "nbformat": 4,
 "nbformat_minor": 2
}
