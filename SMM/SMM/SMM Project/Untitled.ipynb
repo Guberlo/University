{
 "cells": [
  {
   "cell_type": "code",
   "execution_count": 5,
   "metadata": {},
   "outputs": [
    {
     "data": {
      "text/html": [
       "<div>\n",
       "<style scoped>\n",
       "    .dataframe tbody tr th:only-of-type {\n",
       "        vertical-align: middle;\n",
       "    }\n",
       "\n",
       "    .dataframe tbody tr th {\n",
       "        vertical-align: top;\n",
       "    }\n",
       "\n",
       "    .dataframe thead th {\n",
       "        text-align: right;\n",
       "    }\n",
       "</style>\n",
       "<table border=\"1\" class=\"dataframe\">\n",
       "  <thead>\n",
       "    <tr style=\"text-align: right;\">\n",
       "      <th></th>\n",
       "      <th>Title</th>\n",
       "      <th>Comment</th>\n",
       "      <th>User</th>\n",
       "      <th>Sentiment</th>\n",
       "    </tr>\n",
       "  </thead>\n",
       "  <tbody>\n",
       "    <tr>\n",
       "      <td>0</td>\n",
       "      <td>A Clockwork Orange</td>\n",
       "      <td>Loved the book, movie was mediocre</td>\n",
       "      <td>19lins90</td>\n",
       "      <td>0.5994</td>\n",
       "    </tr>\n",
       "    <tr>\n",
       "      <td>1</td>\n",
       "      <td>A Clockwork Orange</td>\n",
       "      <td>My buddy told me it was one of his all time fa...</td>\n",
       "      <td>Anefor</td>\n",
       "      <td>0.6369</td>\n",
       "    </tr>\n",
       "    <tr>\n",
       "      <td>2</td>\n",
       "      <td>A Clockwork Orange</td>\n",
       "      <td>I think it's hard to put the extreme emotions ...</td>\n",
       "      <td>cheddarfire</td>\n",
       "      <td>-0.4310</td>\n",
       "    </tr>\n",
       "    <tr>\n",
       "      <td>3</td>\n",
       "      <td>A Clockwork Orange</td>\n",
       "      <td>I haven't seen it but I'm tempted to watch it....</td>\n",
       "      <td>DanceFactory</td>\n",
       "      <td>-0.5965</td>\n",
       "    </tr>\n",
       "    <tr>\n",
       "      <td>4</td>\n",
       "      <td>A Clockwork Orange</td>\n",
       "      <td>I saw it once, and really enjoyed it but I've ...</td>\n",
       "      <td>High7323</td>\n",
       "      <td>0.1770</td>\n",
       "    </tr>\n",
       "  </tbody>\n",
       "</table>\n",
       "</div>"
      ],
      "text/plain": [
       "                Title                                            Comment  \\\n",
       "0  A Clockwork Orange                 Loved the book, movie was mediocre   \n",
       "1  A Clockwork Orange  My buddy told me it was one of his all time fa...   \n",
       "2  A Clockwork Orange  I think it's hard to put the extreme emotions ...   \n",
       "3  A Clockwork Orange  I haven't seen it but I'm tempted to watch it....   \n",
       "4  A Clockwork Orange  I saw it once, and really enjoyed it but I've ...   \n",
       "\n",
       "           User  Sentiment  \n",
       "0      19lins90     0.5994  \n",
       "1        Anefor     0.6369  \n",
       "2   cheddarfire    -0.4310  \n",
       "3  DanceFactory    -0.5965  \n",
       "4      High7323     0.1770  "
      ]
     },
     "execution_count": 5,
     "metadata": {},
     "output_type": "execute_result"
    }
   ],
   "source": [
    "import pandas as pd\n",
    "\n",
    "data = pd.read_csv('Sentiment.csv')\n",
    "data.head()"
   ]
  },
  {
   "cell_type": "code",
   "execution_count": 10,
   "metadata": {},
   "outputs": [
    {
     "name": "stdout",
     "output_type": "stream",
     "text": [
      "<class 'pandas.core.frame.DataFrame'>\n",
      "Int64Index: 410 entries, 0 to 454\n",
      "Data columns (total 4 columns):\n",
      "Title        410 non-null object\n",
      "Comment      410 non-null object\n",
      "User         410 non-null object\n",
      "Sentiment    410 non-null float64\n",
      "dtypes: float64(1), object(3)\n",
      "memory usage: 16.0+ KB\n"
     ]
    }
   ],
   "source": [
    "noNone = data[data.User != \"None\"]\n",
    "noNone.head()\n",
    "noNone.info()"
   ]
  },
  {
   "cell_type": "code",
   "execution_count": 15,
   "metadata": {},
   "outputs": [
    {
     "data": {
      "text/html": [
       "<div>\n",
       "<style scoped>\n",
       "    .dataframe tbody tr th:only-of-type {\n",
       "        vertical-align: middle;\n",
       "    }\n",
       "\n",
       "    .dataframe tbody tr th {\n",
       "        vertical-align: top;\n",
       "    }\n",
       "\n",
       "    .dataframe thead th {\n",
       "        text-align: right;\n",
       "    }\n",
       "</style>\n",
       "<table border=\"1\" class=\"dataframe\">\n",
       "  <thead>\n",
       "    <tr style=\"text-align: right;\">\n",
       "      <th></th>\n",
       "      <th>Title</th>\n",
       "      <th>Comment</th>\n",
       "      <th>User</th>\n",
       "      <th>Sentiment</th>\n",
       "    </tr>\n",
       "  </thead>\n",
       "  <tbody>\n",
       "    <tr>\n",
       "      <td>110</td>\n",
       "      <td>Dunkirk</td>\n",
       "      <td>I liked it less and less the more times I saw it.</td>\n",
       "      <td>IWW4</td>\n",
       "      <td>0.4215</td>\n",
       "    </tr>\n",
       "    <tr>\n",
       "      <td>124</td>\n",
       "      <td>Dunkirk</td>\n",
       "      <td>Honestly, either or is ok cause I like most of...</td>\n",
       "      <td>speedymini13</td>\n",
       "      <td>0.7717</td>\n",
       "    </tr>\n",
       "    <tr>\n",
       "      <td>126</td>\n",
       "      <td>Dunkirk</td>\n",
       "      <td>I am just gonna post what I said to an overrat...</td>\n",
       "      <td>Thatoneasian9600</td>\n",
       "      <td>0.8916</td>\n",
       "    </tr>\n",
       "    <tr>\n",
       "      <td>129</td>\n",
       "      <td>Dunkirk</td>\n",
       "      <td>Bizarrely at the cinema, I found it pretty col...</td>\n",
       "      <td>XInsects</td>\n",
       "      <td>0.7823</td>\n",
       "    </tr>\n",
       "    <tr>\n",
       "      <td>150</td>\n",
       "      <td>Edge of Tomorrow</td>\n",
       "      <td>It was great until Cruise and Blunt got to the...</td>\n",
       "      <td>IWW4</td>\n",
       "      <td>0.6249</td>\n",
       "    </tr>\n",
       "  </tbody>\n",
       "</table>\n",
       "</div>"
      ],
      "text/plain": [
       "                Title                                            Comment  \\\n",
       "110           Dunkirk  I liked it less and less the more times I saw it.   \n",
       "124           Dunkirk  Honestly, either or is ok cause I like most of...   \n",
       "126           Dunkirk  I am just gonna post what I said to an overrat...   \n",
       "129           Dunkirk  Bizarrely at the cinema, I found it pretty col...   \n",
       "150  Edge of Tomorrow  It was great until Cruise and Blunt got to the...   \n",
       "\n",
       "                 User  Sentiment  \n",
       "110              IWW4     0.4215  \n",
       "124      speedymini13     0.7717  \n",
       "126  Thatoneasian9600     0.8916  \n",
       "129          XInsects     0.7823  \n",
       "150              IWW4     0.6249  "
      ]
     },
     "execution_count": 15,
     "metadata": {},
     "output_type": "execute_result"
    }
   ],
   "source": [
    "duplicatedUsers = noNone[noNone.duplicated('User')]\n",
    "duplicatedUsers.head()"
   ]
  },
  {
   "cell_type": "code",
   "execution_count": 6,
   "metadata": {},
   "outputs": [],
   "source": [
    "from sklearn.model_selection import train_test_split\n",
    "\n",
    "train, test = train_test_split(data, test_size=0.10)"
   ]
  },
  {
   "cell_type": "code",
   "execution_count": null,
   "metadata": {},
   "outputs": [],
   "source": [
    "um = train.pivot_table(index='User')"
   ]
  }
 ],
 "metadata": {
  "kernelspec": {
   "display_name": "Python 3",
   "language": "python",
   "name": "python3"
  },
  "language_info": {
   "codemirror_mode": {
    "name": "ipython",
    "version": 3
   },
   "file_extension": ".py",
   "mimetype": "text/x-python",
   "name": "python",
   "nbconvert_exporter": "python",
   "pygments_lexer": "ipython3",
   "version": "3.7.4"
  }
 },
 "nbformat": 4,
 "nbformat_minor": 2
}
