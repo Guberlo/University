{
 "cells": [
  {
   "cell_type": "markdown",
   "metadata": {},
   "source": [
    "# Convert comments into ratings using Sentiment Analysis"
   ]
  },
  {
   "cell_type": "code",
   "execution_count": 2,
   "metadata": {},
   "outputs": [
    {
     "name": "stdout",
     "output_type": "stream",
     "text": [
      "<class 'pandas.core.frame.DataFrame'>\n",
      "RangeIndex: 501 entries, 0 to 500\n",
      "Data columns (total 3 columns):\n",
      "Title      501 non-null object\n",
      "Comment    501 non-null object\n",
      "User       501 non-null object\n",
      "dtypes: object(3)\n",
      "memory usage: 11.9+ KB\n"
     ]
    }
   ],
   "source": [
    "import pandas as pd\n",
    "\n",
    "data_set = pd.read_csv('data_set.csv')\n",
    "data_set.info()"
   ]
  },
  {
   "cell_type": "code",
   "execution_count": 4,
   "metadata": {},
   "outputs": [
    {
     "data": {
      "text/plain": [
       "0.5318"
      ]
     },
     "execution_count": 4,
     "metadata": {},
     "output_type": "execute_result"
    }
   ],
   "source": [
    "from nltk.sentiment.vader import SentimentIntensityAnalyzer\n",
    "\n",
    "sid = SentimentIntensityAnalyzer()\n",
    "\n",
    "sentiment = lambda x: sid.polarity_scores(x)['compound']\n",
    "sentiment(data_set.loc[0]['Comment'])"
   ]
  },
  {
   "cell_type": "code",
   "execution_count": 7,
   "metadata": {},
   "outputs": [
    {
     "name": "stderr",
     "output_type": "stream",
     "text": [
      "/home/default/anaconda3/lib/python3.7/site-packages/tqdm/std.py:648: FutureWarning: The Panel class is removed from pandas. Accessing it from the top-level namespace will also be removed in the next version\n",
      "  from pandas import Panel\n",
      "100%|██████████| 501/501 [00:00<00:00, 1235.83it/s]\n"
     ]
    },
    {
     "data": {
      "text/html": [
       "<div>\n",
       "<style scoped>\n",
       "    .dataframe tbody tr th:only-of-type {\n",
       "        vertical-align: middle;\n",
       "    }\n",
       "\n",
       "    .dataframe tbody tr th {\n",
       "        vertical-align: top;\n",
       "    }\n",
       "\n",
       "    .dataframe thead th {\n",
       "        text-align: right;\n",
       "    }\n",
       "</style>\n",
       "<table border=\"1\" class=\"dataframe\">\n",
       "  <thead>\n",
       "    <tr style=\"text-align: right;\">\n",
       "      <th></th>\n",
       "      <th>Title</th>\n",
       "      <th>Comment</th>\n",
       "      <th>User</th>\n",
       "      <th>Sentiment</th>\n",
       "    </tr>\n",
       "  </thead>\n",
       "  <tbody>\n",
       "    <tr>\n",
       "      <td>0</td>\n",
       "      <td>What do you think about the movie The Princess...</td>\n",
       "      <td>It never fails to bring laughs, no matter how ...</td>\n",
       "      <td>vicky436</td>\n",
       "      <td>0.5318</td>\n",
       "    </tr>\n",
       "    <tr>\n",
       "      <td>1</td>\n",
       "      <td>What do you think about the movie The Princess...</td>\n",
       "      <td>It's not a good movie, it's the best movie eve...</td>\n",
       "      <td>jakethesnake741</td>\n",
       "      <td>0.4203</td>\n",
       "    </tr>\n",
       "    <tr>\n",
       "      <td>2</td>\n",
       "      <td>What do you think about the movie The Princess...</td>\n",
       "      <td>If your friend doesn't love this movie he does...</td>\n",
       "      <td>jrobertson50</td>\n",
       "      <td>0.4646</td>\n",
       "    </tr>\n",
       "    <tr>\n",
       "      <td>3</td>\n",
       "      <td>What do you think about the movie The Princess...</td>\n",
       "      <td>Not liking the movie is inconceivable!</td>\n",
       "      <td>Antelino</td>\n",
       "      <td>-0.3716</td>\n",
       "    </tr>\n",
       "    <tr>\n",
       "      <td>4</td>\n",
       "      <td>What do you think about the movie The Princess...</td>\n",
       "      <td>#Anybody want a peanut?</td>\n",
       "      <td>UHeardAboutPluto</td>\n",
       "      <td>0.0772</td>\n",
       "    </tr>\n",
       "  </tbody>\n",
       "</table>\n",
       "</div>"
      ],
      "text/plain": [
       "                                               Title  \\\n",
       "0  What do you think about the movie The Princess...   \n",
       "1  What do you think about the movie The Princess...   \n",
       "2  What do you think about the movie The Princess...   \n",
       "3  What do you think about the movie The Princess...   \n",
       "4  What do you think about the movie The Princess...   \n",
       "\n",
       "                                             Comment              User  \\\n",
       "0  It never fails to bring laughs, no matter how ...          vicky436   \n",
       "1  It's not a good movie, it's the best movie eve...   jakethesnake741   \n",
       "2  If your friend doesn't love this movie he does...      jrobertson50   \n",
       "3            Not liking the movie is inconceivable!           Antelino   \n",
       "4                            #Anybody want a peanut?  UHeardAboutPluto   \n",
       "\n",
       "   Sentiment  \n",
       "0     0.5318  \n",
       "1     0.4203  \n",
       "2     0.4646  \n",
       "3    -0.3716  \n",
       "4     0.0772  "
      ]
     },
     "execution_count": 7,
     "metadata": {},
     "output_type": "execute_result"
    }
   ],
   "source": [
    "from tqdm import tqdm\n",
    "\n",
    "tqdm.pandas()\n",
    "data_set['Sentiment'] = data_set['Comment'].progress_apply(sentiment)\n",
    "data_set.head()"
   ]
  },
  {
   "cell_type": "code",
   "execution_count": null,
   "metadata": {},
   "outputs": [],
   "source": []
  }
 ],
 "metadata": {
  "kernelspec": {
   "display_name": "Python 3",
   "language": "python",
   "name": "python3"
  },
  "language_info": {
   "codemirror_mode": {
    "name": "ipython",
    "version": 3
   },
   "file_extension": ".py",
   "mimetype": "text/x-python",
   "name": "python",
   "nbconvert_exporter": "python",
   "pygments_lexer": "ipython3",
   "version": "3.7.4"
  }
 },
 "nbformat": 4,
 "nbformat_minor": 2
}
