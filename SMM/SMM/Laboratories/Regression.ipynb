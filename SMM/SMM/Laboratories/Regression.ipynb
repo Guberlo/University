{
 "cells": [
  {
   "cell_type": "code",
   "execution_count": 1,
   "metadata": {},
   "outputs": [
    {
     "name": "stdout",
     "output_type": "stream",
     "text": [
      "<class 'pandas.core.frame.DataFrame'>\n",
      "RangeIndex: 5006 entries, 0 to 5005\n",
      "Data columns (total 3 columns):\n",
      "author    5006 non-null object\n",
      "review    5006 non-null object\n",
      "rating    5006 non-null float64\n",
      "dtypes: float64(1), object(2)\n",
      "memory usage: 117.5+ KB\n"
     ]
    },
    {
     "data": {
      "text/html": [
       "<div>\n",
       "<style scoped>\n",
       "    .dataframe tbody tr th:only-of-type {\n",
       "        vertical-align: middle;\n",
       "    }\n",
       "\n",
       "    .dataframe tbody tr th {\n",
       "        vertical-align: top;\n",
       "    }\n",
       "\n",
       "    .dataframe thead th {\n",
       "        text-align: right;\n",
       "    }\n",
       "</style>\n",
       "<table border=\"1\" class=\"dataframe\">\n",
       "  <thead>\n",
       "    <tr style=\"text-align: right;\">\n",
       "      <th></th>\n",
       "      <th>author</th>\n",
       "      <th>review</th>\n",
       "      <th>rating</th>\n",
       "    </tr>\n",
       "  </thead>\n",
       "  <tbody>\n",
       "    <tr>\n",
       "      <td>0</td>\n",
       "      <td>Dennis_Schwartz</td>\n",
       "      <td>in my opinion , a movie reviewer's most import...</td>\n",
       "      <td>0.1</td>\n",
       "    </tr>\n",
       "    <tr>\n",
       "      <td>1</td>\n",
       "      <td>Dennis_Schwartz</td>\n",
       "      <td>you can watch this movie , that is based on a ...</td>\n",
       "      <td>0.2</td>\n",
       "    </tr>\n",
       "    <tr>\n",
       "      <td>2</td>\n",
       "      <td>Dennis_Schwartz</td>\n",
       "      <td>this is asking a lot to believe , and though i...</td>\n",
       "      <td>0.2</td>\n",
       "    </tr>\n",
       "    <tr>\n",
       "      <td>3</td>\n",
       "      <td>Dennis_Schwartz</td>\n",
       "      <td>no heroes and no story are the main attributes...</td>\n",
       "      <td>0.2</td>\n",
       "    </tr>\n",
       "    <tr>\n",
       "      <td>4</td>\n",
       "      <td>Dennis_Schwartz</td>\n",
       "      <td>this is not an art movie , yet i saw it an art...</td>\n",
       "      <td>0.2</td>\n",
       "    </tr>\n",
       "  </tbody>\n",
       "</table>\n",
       "</div>"
      ],
      "text/plain": [
       "            author                                             review  rating\n",
       "0  Dennis_Schwartz  in my opinion , a movie reviewer's most import...     0.1\n",
       "1  Dennis_Schwartz  you can watch this movie , that is based on a ...     0.2\n",
       "2  Dennis_Schwartz  this is asking a lot to believe , and though i...     0.2\n",
       "3  Dennis_Schwartz  no heroes and no story are the main attributes...     0.2\n",
       "4  Dennis_Schwartz  this is not an art movie , yet i saw it an art...     0.2"
      ]
     },
     "execution_count": 1,
     "metadata": {},
     "output_type": "execute_result"
    }
   ],
   "source": [
    "import pandas as pd\n",
    "\n",
    "reviews = pd.read_csv('reviews.csv')\n",
    "reviews.info()\n",
    "reviews.head()"
   ]
  },
  {
   "cell_type": "code",
   "execution_count": 2,
   "metadata": {},
   "outputs": [
    {
     "data": {
      "text/html": [
       "<div>\n",
       "<style scoped>\n",
       "    .dataframe tbody tr th:only-of-type {\n",
       "        vertical-align: middle;\n",
       "    }\n",
       "\n",
       "    .dataframe tbody tr th {\n",
       "        vertical-align: top;\n",
       "    }\n",
       "\n",
       "    .dataframe thead th {\n",
       "        text-align: right;\n",
       "    }\n",
       "</style>\n",
       "<table border=\"1\" class=\"dataframe\">\n",
       "  <thead>\n",
       "    <tr style=\"text-align: right;\">\n",
       "      <th></th>\n",
       "      <th>rating</th>\n",
       "    </tr>\n",
       "  </thead>\n",
       "  <tbody>\n",
       "    <tr>\n",
       "      <td>count</td>\n",
       "      <td>5006.000000</td>\n",
       "    </tr>\n",
       "    <tr>\n",
       "      <td>mean</td>\n",
       "      <td>0.581422</td>\n",
       "    </tr>\n",
       "    <tr>\n",
       "      <td>std</td>\n",
       "      <td>0.181725</td>\n",
       "    </tr>\n",
       "    <tr>\n",
       "      <td>min</td>\n",
       "      <td>0.000000</td>\n",
       "    </tr>\n",
       "    <tr>\n",
       "      <td>25%</td>\n",
       "      <td>0.490000</td>\n",
       "    </tr>\n",
       "    <tr>\n",
       "      <td>50%</td>\n",
       "      <td>0.600000</td>\n",
       "    </tr>\n",
       "    <tr>\n",
       "      <td>75%</td>\n",
       "      <td>0.700000</td>\n",
       "    </tr>\n",
       "    <tr>\n",
       "      <td>max</td>\n",
       "      <td>1.000000</td>\n",
       "    </tr>\n",
       "  </tbody>\n",
       "</table>\n",
       "</div>"
      ],
      "text/plain": [
       "            rating\n",
       "count  5006.000000\n",
       "mean      0.581422\n",
       "std       0.181725\n",
       "min       0.000000\n",
       "25%       0.490000\n",
       "50%       0.600000\n",
       "75%       0.700000\n",
       "max       1.000000"
      ]
     },
     "execution_count": 2,
     "metadata": {},
     "output_type": "execute_result"
    }
   ],
   "source": [
    "reviews.describe()"
   ]
  },
  {
   "cell_type": "code",
   "execution_count": 3,
   "metadata": {},
   "outputs": [
    {
     "data": {
      "text/plain": [
       "<Figure size 640x480 with 1 Axes>"
      ]
     },
     "metadata": {},
     "output_type": "display_data"
    }
   ],
   "source": [
    "#number of reviews per author\n",
    "from matplotlib import pyplot as plt\n",
    "reviews.groupby('author')['author'].count().plot.bar()\n",
    "plt.grid()\n",
    "plt.show()"
   ]
  },
  {
   "cell_type": "code",
   "execution_count": 4,
   "metadata": {},
   "outputs": [
    {
     "data": {
      "image/png": "[encoded data removed]",
      "text/plain": [
       "<Figure size 432x288 with 1 Axes>"
      ]
     },
     "metadata": {
      "needs_background": "light"
     },
     "output_type": "display_data"
    }
   ],
   "source": [
    "#mean of the rating per author\n",
    "reviews.groupby('author')['rating'].mean().plot.bar()\n",
    "plt.grid()\n",
    "plt.show()"
   ]
  },
  {
   "cell_type": "code",
   "execution_count": 5,
   "metadata": {},
   "outputs": [
    {
     "data": {
      "image/png": "[encoded data removed]",
      "text/plain": [
       "<Figure size 432x288 with 1 Axes>"
      ]
     },
     "metadata": {
      "needs_background": "light"
     },
     "output_type": "display_data"
    }
   ],
   "source": [
    "#average length of reviews per author\n",
    "#introduce a review_length\n",
    "reviews['review_length'] = reviews['review'].apply(len)\n",
    "reviews.groupby('author')['review_length'].mean().plot.bar()\n",
    "plt.grid()\n",
    "plt.show()"
   ]
  },
  {
   "cell_type": "code",
   "execution_count": 6,
   "metadata": {},
   "outputs": [],
   "source": [
    "#create the training set and test set\n",
    "from sklearn.model_selection import train_test_split\n",
    "import numpy as np\n",
    "\n",
    "np.random.seed(123)\n",
    "reviews_train, reviews_test = train_test_split(reviews, test_size=0.15)"
   ]
  },
  {
   "cell_type": "code",
   "execution_count": 7,
   "metadata": {},
   "outputs": [
    {
     "data": {
      "text/plain": [
       "39499"
      ]
     },
     "execution_count": 7,
     "metadata": {},
     "output_type": "execute_result"
    }
   ],
   "source": [
    "#represent data by bag of word\n",
    "from sklearn.feature_extraction.text import CountVectorizer\n",
    "\n",
    "count_vect = CountVectorizer()\n",
    "\n",
    "x_train = count_vect.fit_transform(reviews_train['review'])\n",
    "x_test = count_vect.transform(reviews_test['review'])\n",
    "\n",
    "y_train = reviews_train['rating']\n",
    "y_test = reviews_test['rating']\n",
    "\n",
    "len(count_vect.vocabulary_)"
   ]
  },
  {
   "cell_type": "markdown",
   "metadata": {},
   "source": [
    "# Domanda 1\n",
    "\n",
    "It contains 39499 words. The number of columns represent the words in the dictionary while the number of the row represent the words of the document"
   ]
  },
  {
   "cell_type": "markdown",
   "metadata": {},
   "source": [
    "# Domanda 2\n",
    "\n",
    "Positive reviews would have \"positive\" terms describing it. It would be great if we'd apply a Sentiment Analysis"
   ]
  },
  {
   "cell_type": "markdown",
   "metadata": {},
   "source": [
    "# Linear Regression"
   ]
  },
  {
   "cell_type": "code",
   "execution_count": 8,
   "metadata": {},
   "outputs": [
    {
     "name": "stdout",
     "output_type": "stream",
     "text": [
      "[-0.00651761  0.00566821  0.0090334  ...  0.00282769 -0.00056078\n",
      " -0.00036791]\n",
      "0.48495053707421476\n"
     ]
    }
   ],
   "source": [
    "from sklearn.linear_model import LinearRegression\n",
    "reg = LinearRegression()\n",
    "reg.fit(x_train,y_train)\n",
    "\n",
    "print(reg.coef_)\n",
    "print(reg.intercept_)"
   ]
  },
  {
   "cell_type": "markdown",
   "metadata": {},
   "source": [
    "# Domanda 3\n",
    "\n",
    "The model has 39500 parameters, which are the 29499 features + theta 0"
   ]
  },
  {
   "cell_type": "code",
   "execution_count": 9,
   "metadata": {},
   "outputs": [],
   "source": [
    "y_train_preds = reg.predict(x_train)\n",
    "y_test_preds = reg.predict(x_test)"
   ]
  },
  {
   "cell_type": "code",
   "execution_count": 10,
   "metadata": {},
   "outputs": [
    {
     "name": "stdout",
     "output_type": "stream",
     "text": [
      "MAE of training set: 0.0000\n",
      "MAE of test set: 0.1218\n"
     ]
    }
   ],
   "source": [
    "#define the MAE Mean Absolute Error\n",
    "def MAE(y_true, y_pred):\n",
    "    return (y_true-y_pred).abs().mean()\n",
    "\n",
    "print('MAE of training set: {:0.4f}'.format(MAE(y_train,y_train_preds)))\n",
    "print('MAE of test set: {:0.4f}'.format(MAE(y_test, y_test_preds)))"
   ]
  },
  {
   "cell_type": "markdown",
   "metadata": {},
   "source": [
    "# Domanda 4\n",
    "\n",
    "training set has less error, test has more. Probably the algorithm doesn't perfectly work except for the starting dataset. And so we have an overfitting"
   ]
  },
  {
   "cell_type": "code",
   "execution_count": 11,
   "metadata": {},
   "outputs": [
    {
     "data": {
      "image/png": "[encoded data removed]",
      "text/plain": [
       "<Figure size 432x288 with 1 Axes>"
      ]
     },
     "metadata": {
      "needs_background": "light"
     },
     "output_type": "display_data"
    }
   ],
   "source": [
    "# We can see if we are doing good comparing it with respect of a baseline wich always predicts rating of 0.5\n",
    "scores = pd.DataFrame({'Method':['Baseline','LR_WCount'], 'MAE':[MAE(y_test, 0.5), MAE(y_test,y_test_preds)]})\n",
    "scores = scores.set_index('Method')\n",
    "scores.plot.barh()\n",
    "plt.grid()\n",
    "plt.show()"
   ]
  },
  {
   "cell_type": "markdown",
   "metadata": {},
   "source": [
    "# From the previous result we could say that we have an overfitting problem (training set ok, test set bad) We can try to solve this adding a regularization term"
   ]
  },
  {
   "cell_type": "code",
   "execution_count": 12,
   "metadata": {},
   "outputs": [
    {
     "name": "stdout",
     "output_type": "stream",
     "text": [
      "MAE on the training set: 0.0398\n",
      "MAE on the test set: 0.1017\n"
     ]
    }
   ],
   "source": [
    "from sklearn.linear_model import Ridge\n",
    "\n",
    "count_vect = CountVectorizer()\n",
    "\n",
    "x_train = count_vect.fit_transform(reviews_train['review'])\n",
    "x_test = count_vect.transform(reviews_test['review'])\n",
    "\n",
    "y_train = reviews_train['rating']\n",
    "y_test = reviews_test['rating']\n",
    "\n",
    "lr = Ridge()\n",
    "lr.fit(x_train, y_train)\n",
    "\n",
    "y_train_pred_rg = lr.predict(x_train)\n",
    "y_test_pred_rg = lr.predict(x_test)\n",
    "\n",
    "print(\"MAE on the training set: {:0.4f}\".format(MAE(y_train,y_train_pred_rg)))\n",
    "print(\"MAE on the test set: {:0.4f}\".format(MAE(y_test,y_test_pred_rg)))"
   ]
  },
  {
   "cell_type": "markdown",
   "metadata": {},
   "source": [
    "# Domanda 5\n",
    "\n",
    "We might get underfitting. Training got worse but test got better. This is a good compromise since we need good results on the test set"
   ]
  },
  {
   "cell_type": "markdown",
   "metadata": {},
   "source": [
    "# Domanda 6\n",
    "\n",
    "La norma del regressore regolarizzato sarà più piccola visto che alcuni parametri theta verranno posti a zero in modo da minimizzare il costo"
   ]
  },
  {
   "cell_type": "code",
   "execution_count": 13,
   "metadata": {},
   "outputs": [
    {
     "name": "stdout",
     "output_type": "stream",
     "text": [
      "46.087174360920315\n",
      "115.70048241262306\n"
     ]
    }
   ],
   "source": [
    "# norma l2\n",
    "\n",
    "c = lr.coef_\n",
    "\n",
    "l2lr = np.sqrt(c**2).sum()\n",
    "print(l2lr)\n",
    "\n",
    "k = reg.coef_\n",
    "l2reg = np.sqrt(k**2).sum()\n",
    "print(l2reg)"
   ]
  },
  {
   "cell_type": "code",
   "execution_count": 14,
   "metadata": {},
   "outputs": [
    {
     "data": {
      "image/png": "[encoded data removed]",
      "text/plain": [
       "<Figure size 432x288 with 1 Axes>"
      ]
     },
     "metadata": {
      "needs_background": "light"
     },
     "output_type": "display_data"
    }
   ],
   "source": [
    "new_score = pd.Series({'MAE':MAE(y_test, y_test_pred_rg)},name='LR-REG')\n",
    "scores = scores.append(new_score)\n",
    "scores.plot.barh()\n",
    "plt.grid()\n",
    "plt.show()"
   ]
  },
  {
   "cell_type": "markdown",
   "metadata": {},
   "source": [
    "# Problems\n",
    "\n",
    "We got some problem since long and short reviews will get different representation because there is no normalization\n",
    "Frequent words might dominate this representation. We can solve this using TF-IDF"
   ]
  },
  {
   "cell_type": "code",
   "execution_count": 15,
   "metadata": {},
   "outputs": [
    {
     "name": "stdout",
     "output_type": "stream",
     "text": [
      "MAE on training: 0.0560\n",
      "MAE on test: 0.0955\n"
     ]
    }
   ],
   "source": [
    "from sklearn.feature_extraction.text import TfidfTransformer\n",
    "\n",
    "count_vect = CountVectorizer()\n",
    "tf = TfidfTransformer()\n",
    "\n",
    "x_train_count = count_vect.fit_transform(reviews_train['review'])\n",
    "x_train = tf.fit_transform(x_train_count)\n",
    "\n",
    "x_test_count = count_vect.transform(reviews_test['review'])\n",
    "x_test = tf.transform(x_test_count)\n",
    "\n",
    "lr = Ridge()\n",
    "lr.fit(x_train, y_train)\n",
    "\n",
    "y_train_pred = lr.predict(x_train)\n",
    "y_test_pred = lr.predict(x_test)\n",
    "\n",
    "print('MAE on training: {:0.4f}'.format(MAE(y_train, y_train_pred)))\n",
    "print('MAE on test: {:0.4f}'.format(MAE(y_test, y_test_pred)))"
   ]
  },
  {
   "cell_type": "code",
   "execution_count": 16,
   "metadata": {},
   "outputs": [
    {
     "data": {
      "image/png": "[encoded data removed]",
      "text/plain": [
       "<Figure size 432x288 with 1 Axes>"
      ]
     },
     "metadata": {
      "needs_background": "light"
     },
     "output_type": "display_data"
    }
   ],
   "source": [
    "new_score = pd.Series({'MAE':MAE(y_test, y_test_pred)}, name='LR-TFIDF')\n",
    "scores = scores.append(new_score)\n",
    "scores.plot.barh()\n",
    "plt.grid()\n",
    "plt.show()"
   ]
  },
  {
   "cell_type": "code",
   "execution_count": 17,
   "metadata": {},
   "outputs": [
    {
     "name": "stdout",
     "output_type": "stream",
     "text": [
      "True rating: 0.70, Predicted rating: 0.72\n",
      "Review: oscar wilde -- satirist , playwright , and novelist -- was one of the great figures of the late 19th century . like many artistic figures throughout history , wilde's reputation has waxed and waned with the mutation of the social climate . today , he is regarded as a literary giant , and perhaps the best playwright of the second half of the 19th century . despite an uneven script and a rather mundane , occasionally-plodding narrative , the movie is compelling , largely because wilde's life was fascinating . throw in a number of top- notch performances and , even without any flourishes , the film offers a solid two hours of entertainment , and , for anyone unfamiliar with wilde or his work , perhaps education . as is often the case with a movie that crams 15 years of history into 120 minutes ( for the non-mathematical , that's only 8 minutes per year ) , there's a lack of consistency in the tone . certain characters and subplots are sadly neglected . in particular , i was disappointed with the handling of wilde's home life and marriage , which , for a man of his nature , was surely a point of great personal conflict and uncertainty . the few brief scenes of wilde with his wife and children didn't satisfy my curiosity , and the resolution of this story aspect felt sadly incomplete . there are times throughout the entire film when subplots drag on a little too long -- the relationship between wilde and bosie is a prime example . ironically , despite the languid pace of much of the film , the last 20 to 30 minutes have a rushed feel , almost as if the director realized he was running out of time and wanted to compress as much into the proceedings as he could . through it all , however , wilde stands tall as the magnetic central figure . for fry , this is a dream role -- in a recent conversation over dinner , he spoke eloquently and at length about his passion for wilde and his work . considering the sprawling nature of the narrative , fry is given a daunting task -- keep the audience involved in the story and anchored to the character -- that he carries off without seeming difficulty . volatile , passionate , occasionally spiteful , and often impatient , bosie has the kind of multifaceted personality that captures and holds our attention . law's careful performance makes it impossible to love or hate the man -- at times , he's a monster ; at other times , he's an angel . despite limited screen time , ehle manages to fashion connie wilde into a heartbreakingly sympathetic character , which makes the truncation of that subplot all the more frustrating . one of the many things wilde does right is to convey a sense of the man apart from his work . during the course of the film , wilde is often compared to some sort of literary prophet ( he has \" disciples \" ) , and it's easy to see how young men would be attracted to this charming , erudite man who uses his \" wit as a foil . \" ultimately , while wilde lacks the depth and substance of the best biographical features , it's nevertheless a strong enough contender to deserve a trip to the local theater , especially with pickings so slim this summer . \" my belief is that no movie , nothing in life , leaves people neutral . you either leave them up or you leave them down . \" -- david puttnam \n",
      "\n"
     ]
    }
   ],
   "source": [
    "def rate(text):\n",
    "    feats = count_vect.transform([text])\n",
    "    feats = tf.transform(feats)\n",
    "    return lr.predict(feats)[0]\n",
    "\n",
    "i = 40 #index of an arbitrary review\n",
    "review = reviews_test.iloc[i]['review']\n",
    "true_rating = reviews_test.iloc[i]['rating']\n",
    "rating = rate(review)\n",
    "print(\"True rating: {:0.2f}, Predicted rating: {:0.2f}\".format(true_rating, rating))\n",
    "print(\"Review: {}\".format(review))"
   ]
  },
  {
   "cell_type": "markdown",
   "metadata": {},
   "source": [
    "# Polynomial regression\n",
    "\n",
    "Since with many features polynomial regression can be too time consuming, we need to simplify our representation by including less words. We will include just words with a frequency of 50% or more and exclude terms wich are too frequent"
   ]
  },
  {
   "cell_type": "code",
   "execution_count": 18,
   "metadata": {},
   "outputs": [
    {
     "name": "stdout",
     "output_type": "stream",
     "text": [
      "(4255, 37)\n"
     ]
    }
   ],
   "source": [
    "count_vect = CountVectorizer(min_df=0.5, max_df=0.8)\n",
    "x_train_count = count_vect.fit_transform(reviews_train['review'])\n",
    "print(x_train_count.shape)"
   ]
  },
  {
   "cell_type": "markdown",
   "metadata": {},
   "source": [
    "# Domanda 8 \n",
    "\n",
    "choosing lower number for min_df means that we will include more non frequent words, so we can get more information. Choosing lower value for max_df means that we will delete frequent words from our dataset. "
   ]
  },
  {
   "cell_type": "code",
   "execution_count": 19,
   "metadata": {},
   "outputs": [
    {
     "name": "stdout",
     "output_type": "stream",
     "text": [
      "MAE of train: 0.1399\n",
      "MAE of test: 0.1449\n"
     ]
    }
   ],
   "source": [
    "#try linear regression with reduced features\n",
    "\n",
    "count_vect = CountVectorizer(min_df=0.5, max_df=0.8)\n",
    "\n",
    "x_train = count_vect.fit_transform(reviews_train['review'])\n",
    "x_test = count_vect.transform(reviews_test['review'])\n",
    "\n",
    "lr = Ridge()\n",
    "lr.fit(x_train, y_train)\n",
    "\n",
    "y_trainp = lr.predict(x_train)\n",
    "y_testp = lr.predict(x_test)\n",
    "\n",
    "print(\"MAE of train: {:0.4f}\".format(MAE(y_train, y_trainp)))\n",
    "print(\"MAE of test: {:0.4f}\".format(MAE(y_test, y_testp)))"
   ]
  },
  {
   "cell_type": "code",
   "execution_count": 20,
   "metadata": {},
   "outputs": [
    {
     "name": "stdout",
     "output_type": "stream",
     "text": [
      "MAE of train: 0.1302\n",
      "MAE of test: 0.1430\n"
     ]
    }
   ],
   "source": [
    "#polynomial regression with reduced feature\n",
    "\n",
    "from sklearn.preprocessing import PolynomialFeatures\n",
    "\n",
    "pf = PolynomialFeatures(degree=2)\n",
    "\n",
    "x_train_poly = pf.fit_transform(x_train)\n",
    "x_test_poly = pf.transform(x_test)\n",
    "\n",
    "lr = Ridge()\n",
    "lr.fit(x_train_poly, y_train)\n",
    "\n",
    "y_trainp = lr.predict(x_train_poly)\n",
    "y_testp = lr.predict(x_test_poly)\n",
    "\n",
    "print(\"MAE of train: {:0.4f}\".format(MAE(y_train, y_trainp)))\n",
    "print(\"MAE of test: {:0.4f}\".format(MAE(y_test, y_testp)))"
   ]
  },
  {
   "cell_type": "markdown",
   "metadata": {},
   "source": [
    "# Domanda 9 \n",
    "\n",
    "The process was slower than before despite the fact that we reduced the number of features. It was not worth since we didn't gain nothing."
   ]
  },
  {
   "cell_type": "markdown",
   "metadata": {},
   "source": [
    "# Logistic Regression\n",
    "\n",
    "We will consider a review positeve if its rating is greater than 0.5, negative otherwise"
   ]
  },
  {
   "cell_type": "code",
   "execution_count": 21,
   "metadata": {},
   "outputs": [
    {
     "name": "stdout",
     "output_type": "stream",
     "text": [
      "4164    0.60\n",
      "893     0.70\n",
      "591     0.50\n",
      "1318    0.50\n",
      "4629    0.70\n",
      "627     0.60\n",
      "1896    0.74\n",
      "4542    0.70\n",
      "4672    0.70\n",
      "661     0.60\n",
      "Name: rating, dtype: float64 4164    1\n",
      "893     1\n",
      "591     0\n",
      "1318    0\n",
      "4629    1\n",
      "627     1\n",
      "1896    1\n",
      "4542    1\n",
      "4672    1\n",
      "661     1\n",
      "Name: rating, dtype: int64\n"
     ]
    }
   ],
   "source": [
    "y_train_class = (y_train>0.5).astype(int)\n",
    "print(y_train[:10], y_train_class[:10])"
   ]
  },
  {
   "cell_type": "code",
   "execution_count": 22,
   "metadata": {},
   "outputs": [
    {
     "data": {
      "text/plain": [
       "<matplotlib.axes._subplots.AxesSubplot at 0x7ff83aee7490>"
      ]
     },
     "execution_count": 22,
     "metadata": {},
     "output_type": "execute_result"
    },
    {
     "data": {
      "image/png": "[encoded data removed]",
      "text/plain": [
       "<Figure size 432x288 with 1 Axes>"
      ]
     },
     "metadata": {
      "needs_background": "light"
     },
     "output_type": "display_data"
    }
   ],
   "source": [
    "#transform both train and test set\n",
    "\n",
    "y_train_class = (y_train>0.5).astype(int)\n",
    "y_test_class = (y_test>0.5).astype(int)\n",
    "\n",
    "#let's see if the values of the two classes  are balanced on the train set\n",
    "y_train_class.value_counts().plot.bar()"
   ]
  },
  {
   "cell_type": "code",
   "execution_count": 23,
   "metadata": {},
   "outputs": [
    {
     "name": "stderr",
     "output_type": "stream",
     "text": [
      "/home/default/anaconda3/lib/python3.7/site-packages/sklearn/linear_model/logistic.py:432: FutureWarning: Default solver will be changed to 'lbfgs' in 0.22. Specify a solver to silence this warning.\n",
      "  FutureWarning)\n"
     ]
    },
    {
     "data": {
      "text/plain": [
       "39499"
      ]
     },
     "execution_count": 23,
     "metadata": {},
     "output_type": "execute_result"
    }
   ],
   "source": [
    "from sklearn.linear_model import LogisticRegression\n",
    "\n",
    "count_vect = CountVectorizer()\n",
    "tf = TfidfTransformer()\n",
    "log = LogisticRegression()\n",
    "\n",
    "x_train = count_vect.fit_transform(reviews_train['review'])\n",
    "x_train = tf.fit_transform(x_train)\n",
    "\n",
    "x_test = count_vect.transform(reviews_test['review'])\n",
    "x_test = tf.transform(x_test)\n",
    "\n",
    "log.fit(x_train, y_train_class)\n",
    "\n",
    "len(count_vect.vocabulary_)"
   ]
  },
  {
   "cell_type": "markdown",
   "metadata": {},
   "source": [
    "# Domanda 11\n",
    "\n",
    "There are a total of 38 parameters, 37 coefficients and 1 intercept. Because we have 37 features"
   ]
  },
  {
   "cell_type": "code",
   "execution_count": 24,
   "metadata": {},
   "outputs": [
    {
     "name": "stdout",
     "output_type": "stream",
     "text": [
      "Accuracy on training: 0.91\n",
      "Accuracy on test: 0.80\n"
     ]
    }
   ],
   "source": [
    "#predictions\n",
    "\n",
    "y_trainp = log.predict(x_train)\n",
    "y_testp = log.predict(x_test)\n",
    "\n",
    "print(\"Accuracy on training: {:0.2f}\".format(log.score(x_train, y_train_class)))\n",
    "print(\"Accuracy on test: {:0.2f}\".format(log.score(x_test, y_test_class)))"
   ]
  },
  {
   "cell_type": "code",
   "execution_count": 25,
   "metadata": {},
   "outputs": [
    {
     "name": "stdout",
     "output_type": "stream",
     "text": [
      "Accuracy on training: 0.91\n",
      "Accuracy on test: 0.80\n"
     ]
    }
   ],
   "source": [
    "from sklearn.metrics import accuracy_score\n",
    "print(\"Accuracy on training: {:0.2f}\".format(accuracy_score(y_train_class,y_trainp)))\n",
    "print(\"Accuracy on test: {:0.2f}\".format(accuracy_score(y_test_class,y_testp)))"
   ]
  },
  {
   "cell_type": "code",
   "execution_count": 26,
   "metadata": {},
   "outputs": [
    {
     "name": "stdout",
     "output_type": "stream",
     "text": [
      "F1 training scores: 0.89 0.93\n",
      "F1 test scores: 0.73 0.84\n"
     ]
    }
   ],
   "source": [
    "#compute the F1 score\n",
    "\n",
    "from sklearn.metrics import f1_score\n",
    "print(\"F1 training scores: {:0.2f} {:0.2f}\".format(*f1_score(y_train_class, y_trainp, average=None)))\n",
    "print(\"F1 test scores: {:0.2f} {:0.2f}\".format(*f1_score(y_test_class,y_testp,average=None)))"
   ]
  },
  {
   "cell_type": "code",
   "execution_count": null,
   "metadata": {},
   "outputs": [],
   "source": []
  }
 ],
 "metadata": {
  "kernelspec": {
   "display_name": "Python 3",
   "language": "python",
   "name": "python3"
  },
  "language_info": {
   "codemirror_mode": {
    "name": "ipython",
    "version": 3
   },
   "file_extension": ".py",
   "mimetype": "text/x-python",
   "name": "python",
   "nbconvert_exporter": "python",
   "pygments_lexer": "ipython3",
   "version": "3.7.4"
  }
 },
 "nbformat": 4,
 "nbformat_minor": 2
}
