{
 "cells": [
  {
   "cell_type": "code",
   "execution_count": 1,
   "metadata": {},
   "outputs": [],
   "source": [
    "import spacy \n",
    "\n",
    "nlp = spacy.load('en_core_web_md')\n",
    "doc = nlp(\"Is this the region, is this the soil, the clime\")"
   ]
  },
  {
   "cell_type": "code",
   "execution_count": 2,
   "metadata": {},
   "outputs": [
    {
     "name": "stdout",
     "output_type": "stream",
     "text": [
      "300\n"
     ]
    },
    {
     "data": {
      "text/plain": [
       "array([-8.4961e-02,  5.0200e-01,  2.3823e-03, -1.6755e-01,  3.0721e-01,\n",
       "       -2.3762e-01,  1.6069e-01, -3.6786e-01, -5.8347e-02,  2.4990e+00],\n",
       "      dtype=float32)"
      ]
     },
     "execution_count": 2,
     "metadata": {},
     "output_type": "execute_result"
    }
   ],
   "source": [
    "vec = doc[0].vector\n",
    "print(len(vec))\n",
    "vec[:10]"
   ]
  },
  {
   "cell_type": "code",
   "execution_count": 3,
   "metadata": {},
   "outputs": [
    {
     "name": "stdout",
     "output_type": "stream",
     "text": [
      "Heilo \t True False 0.0\n",
      "how \t False True 5.2509694\n",
      "are \t False True 5.41568\n",
      "you \t False True 5.1979666\n",
      "? \t False True 5.1608233\n"
     ]
    }
   ],
   "source": [
    "doc = nlp(\"Heilo how are you?\")\n",
    "\n",
    "for w in doc:\n",
    "    print(w.text, \"\\t\", w.is_oov, w.has_vector, w.vector_norm)"
   ]
  },
  {
   "cell_type": "markdown",
   "metadata": {},
   "source": [
    " Come possiamo vedere la parola heilo non è presente nel vocabolario e visto che non esiste un word embedding per questa parola la sua norma è pari a 0"
   ]
  },
  {
   "cell_type": "code",
   "execution_count": 4,
   "metadata": {},
   "outputs": [
    {
     "data": {
      "text/plain": [
       "array([-0.12565279,  0.1822664 , -0.23188598, -0.14474145,  0.08241   ,\n",
       "       -0.090287  ,  0.09519981, -0.045398  , -0.0420998 ,  1.88006   ],\n",
       "      dtype=float32)"
      ]
     },
     "execution_count": 4,
     "metadata": {},
     "output_type": "execute_result"
    }
   ],
   "source": [
    "# we can obtain a word vector for a document by averaging the vectors of all the words\n",
    "import numpy as np\n",
    "\n",
    "v = np.mean([w.vector for w in doc], 0)\n",
    "v[:10]"
   ]
  },
  {
   "cell_type": "code",
   "execution_count": 5,
   "metadata": {},
   "outputs": [
    {
     "name": "stdout",
     "output_type": "stream",
     "text": [
      "Do vs cupcakes \t 0.21\n",
      "you vs cupcakes \t 0.23\n",
      "like vs cupcakes \t 0.28\n",
      "cups vs cupcakes \t 0.48\n",
      "or vs cupcakes \t 0.18\n",
      "cuppuluni vs cupcakes \t 0.00\n",
      "or vs cupcakes \t 0.18\n",
      "cupcake vs cupcakes \t 1.00\n",
      "? vs cupcakes \t 0.18\n"
     ]
    },
    {
     "name": "stderr",
     "output_type": "stream",
     "text": [
      "/home/default/anaconda3/lib/python3.7/runpy.py:193: UserWarning: [W008] Evaluating Token.similarity based on empty vectors.\n",
      "  \"__main__\", mod_spec)\n"
     ]
    }
   ],
   "source": [
    "#similarity check\n",
    "\n",
    "doc = nlp(\"Do you like cups or cuppuluni or cupcake?\")\n",
    "word = nlp(\"cupcakes\")\n",
    "\n",
    "for w in doc:\n",
    "    print(\"{} vs {} \\t {:0.2f}\".format(w.text, word.text, w.similarity(word)))\n"
   ]
  },
  {
   "cell_type": "code",
   "execution_count": 6,
   "metadata": {},
   "outputs": [
    {
     "name": "stdout",
     "output_type": "stream",
     "text": [
      "Similarities between document 1 and 2: 0.00\n",
      "Similarities between document 1 and 3: 0.26\n"
     ]
    },
    {
     "name": "stderr",
     "output_type": "stream",
     "text": [
      "/home/default/anaconda3/lib/python3.7/runpy.py:193: UserWarning: [W008] Evaluating Doc.similarity based on empty vectors.\n",
      "  \"__main__\", mod_spec)\n"
     ]
    }
   ],
   "source": [
    "#we can do so by using documents\n",
    "\n",
    "doc1 = nlp(\"Spacchi e Piriti\")\n",
    "doc2 = nlp(\"Padroni\")\n",
    "doc3 = nlp(\"BACARA'\")\n",
    "\n",
    "print(\"Similarities between document 1 and 2: {:0.2f}\".format(doc1.similarity(doc2)))\n",
    "print(\"Similarities between document 1 and 3: {:0.2f}\".format(doc1.similarity(doc3)))"
   ]
  },
  {
   "cell_type": "markdown",
   "metadata": {},
   "source": [
    "# Word Arithmetics"
   ]
  },
  {
   "cell_type": "code",
   "execution_count": 7,
   "metadata": {},
   "outputs": [
    {
     "name": "stderr",
     "output_type": "stream",
     "text": [
      "100%|██████████| 1340248/1340248 [00:18<00:00, 72461.81it/s]\n"
     ]
    },
    {
     "data": {
      "text/plain": [
       "array(['sister', '4-year-old', 'daughter', ..., 'avaiation', 'invizimals',\n",
       "       'sqli'], dtype='<U66')"
      ]
     },
     "execution_count": 7,
     "metadata": {},
     "output_type": "execute_result"
    }
   ],
   "source": [
    "from tqdm import tqdm\n",
    "\n",
    "w = nlp(\"brother\")\n",
    "man = nlp(\"man\")\n",
    "woman = nlp(\"woman\")\n",
    "\n",
    "v = w.vector - man.vector + woman.vector\n",
    "\n",
    "cd = lambda x,y: np.dot(x,y)/ (np.sqrt(np.dot(x,x)) * np.sqrt(np.dot(y,y)))\n",
    "\n",
    "words = []\n",
    "similarities = []\n",
    "for word in tqdm(nlp.vocab, total = len(nlp.vocab)):\n",
    "    if word.has_vector:\n",
    "        if word.is_lower:\n",
    "            words.append(word.text)\n",
    "            similarities.append(cd(v, word.vector))\n",
    "np.array(words)[np.argsort(similarities)[::-1]]            "
   ]
  },
  {
   "cell_type": "markdown",
   "metadata": {},
   "source": [
    "# Domanda 6\n",
    "\n",
    "Maybe because sister, 4-year-old and daughter are words that are used together "
   ]
  },
  {
   "cell_type": "markdown",
   "metadata": {},
   "source": [
    "# Sentiment Analysis with VADER"
   ]
  },
  {
   "cell_type": "code",
   "execution_count": 8,
   "metadata": {},
   "outputs": [
    {
     "name": "stderr",
     "output_type": "stream",
     "text": [
      "[nltk_data] Downloading package vader_lexicon to\n",
      "[nltk_data]     /home/default/nltk_data...\n",
      "[nltk_data]   Package vader_lexicon is already up-to-date!\n"
     ]
    },
    {
     "data": {
      "text/plain": [
       "True"
      ]
     },
     "execution_count": 8,
     "metadata": {},
     "output_type": "execute_result"
    }
   ],
   "source": [
    "import nltk\n",
    "nltk.download('vader_lexicon')"
   ]
  },
  {
   "cell_type": "code",
   "execution_count": 9,
   "metadata": {},
   "outputs": [
    {
     "data": {
      "text/plain": [
       "{'neg': 0.524, 'neu': 0.476, 'pos': 0.0, 'compound': -0.5118}"
      ]
     },
     "execution_count": 9,
     "metadata": {},
     "output_type": "execute_result"
    }
   ],
   "source": [
    "from nltk.sentiment.vader import SentimentIntensityAnalyzer\n",
    "\n",
    "sid = SentimentIntensityAnalyzer()\n",
    "\n",
    "sid.polarity_scores(\"This is kinda shitty\")"
   ]
  },
  {
   "cell_type": "markdown",
   "metadata": {},
   "source": [
    "# Domanda 7\n",
    "\n",
    "The third one has a greater score since we got great written in caps, which gives more emphasis and at the end we also have the esclamation mark"
   ]
  },
  {
   "cell_type": "code",
   "execution_count": 10,
   "metadata": {},
   "outputs": [
    {
     "name": "stdout",
     "output_type": "stream",
     "text": [
      "<class 'pandas.core.frame.DataFrame'>\n",
      "RangeIndex: 5006 entries, 0 to 5005\n",
      "Data columns (total 3 columns):\n",
      "author    5006 non-null object\n",
      "review    5006 non-null object\n",
      "rating    5006 non-null float64\n",
      "dtypes: float64(1), object(2)\n",
      "memory usage: 117.5+ KB\n"
     ]
    },
    {
     "data": {
      "text/html": [
       "<div>\n",
       "<style scoped>\n",
       "    .dataframe tbody tr th:only-of-type {\n",
       "        vertical-align: middle;\n",
       "    }\n",
       "\n",
       "    .dataframe tbody tr th {\n",
       "        vertical-align: top;\n",
       "    }\n",
       "\n",
       "    .dataframe thead th {\n",
       "        text-align: right;\n",
       "    }\n",
       "</style>\n",
       "<table border=\"1\" class=\"dataframe\">\n",
       "  <thead>\n",
       "    <tr style=\"text-align: right;\">\n",
       "      <th></th>\n",
       "      <th>author</th>\n",
       "      <th>review</th>\n",
       "      <th>rating</th>\n",
       "    </tr>\n",
       "  </thead>\n",
       "  <tbody>\n",
       "    <tr>\n",
       "      <td>0</td>\n",
       "      <td>Dennis_Schwartz</td>\n",
       "      <td>in my opinion , a movie reviewer's most import...</td>\n",
       "      <td>0.1</td>\n",
       "    </tr>\n",
       "    <tr>\n",
       "      <td>1</td>\n",
       "      <td>Dennis_Schwartz</td>\n",
       "      <td>you can watch this movie , that is based on a ...</td>\n",
       "      <td>0.2</td>\n",
       "    </tr>\n",
       "    <tr>\n",
       "      <td>2</td>\n",
       "      <td>Dennis_Schwartz</td>\n",
       "      <td>this is asking a lot to believe , and though i...</td>\n",
       "      <td>0.2</td>\n",
       "    </tr>\n",
       "    <tr>\n",
       "      <td>3</td>\n",
       "      <td>Dennis_Schwartz</td>\n",
       "      <td>no heroes and no story are the main attributes...</td>\n",
       "      <td>0.2</td>\n",
       "    </tr>\n",
       "    <tr>\n",
       "      <td>4</td>\n",
       "      <td>Dennis_Schwartz</td>\n",
       "      <td>this is not an art movie , yet i saw it an art...</td>\n",
       "      <td>0.2</td>\n",
       "    </tr>\n",
       "  </tbody>\n",
       "</table>\n",
       "</div>"
      ],
      "text/plain": [
       "            author                                             review  rating\n",
       "0  Dennis_Schwartz  in my opinion , a movie reviewer's most import...     0.1\n",
       "1  Dennis_Schwartz  you can watch this movie , that is based on a ...     0.2\n",
       "2  Dennis_Schwartz  this is asking a lot to believe , and though i...     0.2\n",
       "3  Dennis_Schwartz  no heroes and no story are the main attributes...     0.2\n",
       "4  Dennis_Schwartz  this is not an art movie , yet i saw it an art...     0.2"
      ]
     },
     "execution_count": 10,
     "metadata": {},
     "output_type": "execute_result"
    }
   ],
   "source": [
    "# import reviews db and apply sentiment analysis\n",
    "import pandas as pd\n",
    "\n",
    "reviews = pd.read_csv('http://antoninofurnari.it/downloads/reviews.csv')\n",
    "reviews.info()\n",
    "reviews.head()"
   ]
  },
  {
   "cell_type": "code",
   "execution_count": 11,
   "metadata": {},
   "outputs": [
    {
     "data": {
      "text/plain": [
       "{'neg': 0.134, 'neu': 0.753, 'pos': 0.113, 'compound': -0.8923}"
      ]
     },
     "execution_count": 11,
     "metadata": {},
     "output_type": "execute_result"
    }
   ],
   "source": [
    "#Analyize the first review with vader\n",
    "\n",
    "sid.polarity_scores(reviews.loc[0]['review'])"
   ]
  },
  {
   "cell_type": "code",
   "execution_count": 12,
   "metadata": {},
   "outputs": [
    {
     "data": {
      "text/plain": [
       "-0.8923"
      ]
     },
     "execution_count": 12,
     "metadata": {},
     "output_type": "execute_result"
    }
   ],
   "source": [
    "#define a function to compute polarity using compound\n",
    "\n",
    "vader_polarity = lambda x: sid.polarity_scores(x)['compound']\n",
    "vader_polarity(reviews.loc[0]['review'])"
   ]
  },
  {
   "cell_type": "code",
   "execution_count": 13,
   "metadata": {},
   "outputs": [
    {
     "name": "stderr",
     "output_type": "stream",
     "text": [
      "/home/default/anaconda3/lib/python3.7/site-packages/tqdm/std.py:648: FutureWarning: The Panel class is removed from pandas. Accessing it from the top-level namespace will also be removed in the next version\n",
      "  from pandas import Panel\n",
      "100%|██████████| 5006/5006 [00:27<00:00, 182.44it/s]\n"
     ]
    },
    {
     "data": {
      "text/html": [
       "<div>\n",
       "<style scoped>\n",
       "    .dataframe tbody tr th:only-of-type {\n",
       "        vertical-align: middle;\n",
       "    }\n",
       "\n",
       "    .dataframe tbody tr th {\n",
       "        vertical-align: top;\n",
       "    }\n",
       "\n",
       "    .dataframe thead th {\n",
       "        text-align: right;\n",
       "    }\n",
       "</style>\n",
       "<table border=\"1\" class=\"dataframe\">\n",
       "  <thead>\n",
       "    <tr style=\"text-align: right;\">\n",
       "      <th></th>\n",
       "      <th>author</th>\n",
       "      <th>review</th>\n",
       "      <th>rating</th>\n",
       "      <th>polarity</th>\n",
       "    </tr>\n",
       "  </thead>\n",
       "  <tbody>\n",
       "    <tr>\n",
       "      <td>0</td>\n",
       "      <td>Dennis_Schwartz</td>\n",
       "      <td>in my opinion , a movie reviewer's most import...</td>\n",
       "      <td>0.1</td>\n",
       "      <td>-0.8923</td>\n",
       "    </tr>\n",
       "    <tr>\n",
       "      <td>1</td>\n",
       "      <td>Dennis_Schwartz</td>\n",
       "      <td>you can watch this movie , that is based on a ...</td>\n",
       "      <td>0.2</td>\n",
       "      <td>0.8927</td>\n",
       "    </tr>\n",
       "    <tr>\n",
       "      <td>2</td>\n",
       "      <td>Dennis_Schwartz</td>\n",
       "      <td>this is asking a lot to believe , and though i...</td>\n",
       "      <td>0.2</td>\n",
       "      <td>0.9772</td>\n",
       "    </tr>\n",
       "    <tr>\n",
       "      <td>3</td>\n",
       "      <td>Dennis_Schwartz</td>\n",
       "      <td>no heroes and no story are the main attributes...</td>\n",
       "      <td>0.2</td>\n",
       "      <td>0.0316</td>\n",
       "    </tr>\n",
       "    <tr>\n",
       "      <td>4</td>\n",
       "      <td>Dennis_Schwartz</td>\n",
       "      <td>this is not an art movie , yet i saw it an art...</td>\n",
       "      <td>0.2</td>\n",
       "      <td>0.9904</td>\n",
       "    </tr>\n",
       "  </tbody>\n",
       "</table>\n",
       "</div>"
      ],
      "text/plain": [
       "            author                                             review  rating  \\\n",
       "0  Dennis_Schwartz  in my opinion , a movie reviewer's most import...     0.1   \n",
       "1  Dennis_Schwartz  you can watch this movie , that is based on a ...     0.2   \n",
       "2  Dennis_Schwartz  this is asking a lot to believe , and though i...     0.2   \n",
       "3  Dennis_Schwartz  no heroes and no story are the main attributes...     0.2   \n",
       "4  Dennis_Schwartz  this is not an art movie , yet i saw it an art...     0.2   \n",
       "\n",
       "   polarity  \n",
       "0   -0.8923  \n",
       "1    0.8927  \n",
       "2    0.9772  \n",
       "3    0.0316  \n",
       "4    0.9904  "
      ]
     },
     "execution_count": 13,
     "metadata": {},
     "output_type": "execute_result"
    }
   ],
   "source": [
    "#compute the compound for each review\n",
    "\n",
    "tqdm.pandas()\n",
    "reviews['polarity'] = reviews['review'].progress_apply(vader_polarity)\n",
    "reviews.head()"
   ]
  },
  {
   "cell_type": "code",
   "execution_count": 14,
   "metadata": {},
   "outputs": [
    {
     "data": {
      "text/html": [
       "<div>\n",
       "<style scoped>\n",
       "    .dataframe tbody tr th:only-of-type {\n",
       "        vertical-align: middle;\n",
       "    }\n",
       "\n",
       "    .dataframe tbody tr th {\n",
       "        vertical-align: top;\n",
       "    }\n",
       "\n",
       "    .dataframe thead th {\n",
       "        text-align: right;\n",
       "    }\n",
       "</style>\n",
       "<table border=\"1\" class=\"dataframe\">\n",
       "  <thead>\n",
       "    <tr style=\"text-align: right;\">\n",
       "      <th></th>\n",
       "      <th>author</th>\n",
       "      <th>review</th>\n",
       "      <th>rating</th>\n",
       "      <th>polarity</th>\n",
       "      <th>label</th>\n",
       "      <th>predicted_label</th>\n",
       "    </tr>\n",
       "  </thead>\n",
       "  <tbody>\n",
       "    <tr>\n",
       "      <td>0</td>\n",
       "      <td>Dennis_Schwartz</td>\n",
       "      <td>in my opinion , a movie reviewer's most import...</td>\n",
       "      <td>0.1</td>\n",
       "      <td>-0.8923</td>\n",
       "      <td>False</td>\n",
       "      <td>False</td>\n",
       "    </tr>\n",
       "    <tr>\n",
       "      <td>1</td>\n",
       "      <td>Dennis_Schwartz</td>\n",
       "      <td>you can watch this movie , that is based on a ...</td>\n",
       "      <td>0.2</td>\n",
       "      <td>0.8927</td>\n",
       "      <td>False</td>\n",
       "      <td>True</td>\n",
       "    </tr>\n",
       "    <tr>\n",
       "      <td>2</td>\n",
       "      <td>Dennis_Schwartz</td>\n",
       "      <td>this is asking a lot to believe , and though i...</td>\n",
       "      <td>0.2</td>\n",
       "      <td>0.9772</td>\n",
       "      <td>False</td>\n",
       "      <td>True</td>\n",
       "    </tr>\n",
       "    <tr>\n",
       "      <td>3</td>\n",
       "      <td>Dennis_Schwartz</td>\n",
       "      <td>no heroes and no story are the main attributes...</td>\n",
       "      <td>0.2</td>\n",
       "      <td>0.0316</td>\n",
       "      <td>False</td>\n",
       "      <td>True</td>\n",
       "    </tr>\n",
       "    <tr>\n",
       "      <td>4</td>\n",
       "      <td>Dennis_Schwartz</td>\n",
       "      <td>this is not an art movie , yet i saw it an art...</td>\n",
       "      <td>0.2</td>\n",
       "      <td>0.9904</td>\n",
       "      <td>False</td>\n",
       "      <td>True</td>\n",
       "    </tr>\n",
       "  </tbody>\n",
       "</table>\n",
       "</div>"
      ],
      "text/plain": [
       "            author                                             review  rating  \\\n",
       "0  Dennis_Schwartz  in my opinion , a movie reviewer's most import...     0.1   \n",
       "1  Dennis_Schwartz  you can watch this movie , that is based on a ...     0.2   \n",
       "2  Dennis_Schwartz  this is asking a lot to believe , and though i...     0.2   \n",
       "3  Dennis_Schwartz  no heroes and no story are the main attributes...     0.2   \n",
       "4  Dennis_Schwartz  this is not an art movie , yet i saw it an art...     0.2   \n",
       "\n",
       "   polarity  label  predicted_label  \n",
       "0   -0.8923  False            False  \n",
       "1    0.8927  False             True  \n",
       "2    0.9772  False             True  \n",
       "3    0.0316  False             True  \n",
       "4    0.9904  False             True  "
      ]
     },
     "execution_count": 14,
     "metadata": {},
     "output_type": "execute_result"
    }
   ],
   "source": [
    "#consider a review negative if the rating is smaller than 0.5\n",
    "#consider a review positive if the polarity is positive\n",
    "\n",
    "reviews['label'] = reviews['rating']>=0.5\n",
    "reviews['predicted_label'] = reviews['polarity']>0\n",
    "reviews.head()"
   ]
  },
  {
   "cell_type": "code",
   "execution_count": 15,
   "metadata": {},
   "outputs": [
    {
     "name": "stdout",
     "output_type": "stream",
     "text": [
      "Accuracy: 73.93%\n"
     ]
    }
   ],
   "source": [
    "from sklearn.metrics import accuracy_score, confusion_matrix\n",
    "\n",
    "print(\"Accuracy: {:0.2f}%\".format(accuracy_score(reviews['label'], reviews['predicted_label'])*100))\n"
   ]
  },
  {
   "cell_type": "code",
   "execution_count": 16,
   "metadata": {},
   "outputs": [
    {
     "data": {
      "text/plain": [
       "array([ 0.134 ,  0.753 ,  0.113 , -0.8923])"
      ]
     },
     "execution_count": 16,
     "metadata": {},
     "output_type": "execute_result"
    }
   ],
   "source": [
    "#we will now use vader scores as features for training\n",
    "vader_features = lambda x: np.array(list(sid.polarity_scores(x).values()))\n",
    "vader_features(reviews.iloc[0]['review'])"
   ]
  },
  {
   "cell_type": "code",
   "execution_count": 18,
   "metadata": {},
   "outputs": [
    {
     "name": "stdout",
     "output_type": "stream",
     "text": [
      "50\n"
     ]
    }
   ],
   "source": [
    "#use a little portion of data\n",
    "from sklearn.model_selection import train_test_split\n",
    "\n",
    "np.random.seed(123)\n",
    "reviews_train, reviews_test = train_test_split(reviews, test_size=0.99)\n",
    "print(len(reviews_train))"
   ]
  },
  {
   "cell_type": "code",
   "execution_count": 19,
   "metadata": {},
   "outputs": [
    {
     "name": "stderr",
     "output_type": "stream",
     "text": [
      "100%|██████████| 50/50 [00:00<00:00, 162.63it/s]\n",
      "100%|██████████| 4956/4956 [00:28<00:00, 174.83it/s]\n"
     ]
    }
   ],
   "source": [
    "#compute a feature vector for each review\n",
    "\n",
    "x_train = np.vstack(list(reviews_train['review'].progress_apply(vader_features)))\n",
    "x_test = np.vstack(list(reviews_test['review'].progress_apply(vader_features)))\n"
   ]
  },
  {
   "cell_type": "code",
   "execution_count": 21,
   "metadata": {},
   "outputs": [],
   "source": [
    "#save the labels\n",
    "y_train = reviews_train['label']\n",
    "y_test = reviews_test['label']\n"
   ]
  },
  {
   "cell_type": "code",
   "execution_count": 22,
   "metadata": {},
   "outputs": [
    {
     "name": "stderr",
     "output_type": "stream",
     "text": [
      "/home/default/anaconda3/lib/python3.7/site-packages/sklearn/linear_model/logistic.py:432: FutureWarning: Default solver will be changed to 'lbfgs' in 0.22. Specify a solver to silence this warning.\n",
      "  FutureWarning)\n"
     ]
    },
    {
     "data": {
      "text/plain": [
       "0.7495964487489911"
      ]
     },
     "execution_count": 22,
     "metadata": {},
     "output_type": "execute_result"
    }
   ],
   "source": [
    "#try with a logistic regressor\n",
    "\n",
    "from sklearn.linear_model import LogisticRegression\n",
    "from sklearn.preprocessing import MinMaxScaler #normalize features\n",
    "\n",
    "scale = MinMaxScaler()\n",
    "reg = LogisticRegression()\n",
    "\n",
    "x_trains = scale.fit_transform(x_train)\n",
    "reg.fit(x_trains, y_train)\n",
    "\n",
    "x_tests = scale.transform(x_test)\n",
    "reg.score(x_tests, y_test)\n"
   ]
  },
  {
   "cell_type": "code",
   "execution_count": 24,
   "metadata": {},
   "outputs": [
    {
     "data": {
      "text/plain": [
       "0.1411718850494114"
      ]
     },
     "execution_count": 24,
     "metadata": {},
     "output_type": "execute_result"
    }
   ],
   "source": [
    "# try with a linear regressor\n",
    "\n",
    "def mae(y_true, y_pred):\n",
    "    return (y_true-y_pred).abs().mean()\n",
    "\n",
    "from sklearn.linear_model import LinearRegression\n",
    "from sklearn.preprocessing import MinMaxScaler #normalize features\n",
    "\n",
    "y_train = reviews_train['rating']\n",
    "y_test = reviews_test['rating']\n",
    "\n",
    "scale = MinMaxScaler()\n",
    "reg = LinearRegression()\n",
    "\n",
    "x_trains = scale.fit_transform(x_train)\n",
    "reg.fit(x_trains, y_train)\n",
    "\n",
    "x_tests = scale.transform(x_test)\n",
    "\n",
    "y_testp = reg.predict(x_tests)\n",
    "\n",
    "mae(y_test, y_testp)"
   ]
  },
  {
   "cell_type": "code",
   "execution_count": null,
   "metadata": {},
   "outputs": [],
   "source": []
  }
 ],
 "metadata": {
  "kernelspec": {
   "display_name": "Python 3",
   "language": "python",
   "name": "python3"
  },
  "language_info": {
   "codemirror_mode": {
    "name": "ipython",
    "version": 3
   },
   "file_extension": ".py",
   "mimetype": "text/x-python",
   "name": "python",
   "nbconvert_exporter": "python",
   "pygments_lexer": "ipython3",
   "version": "3.7.4"
  }
 },
 "nbformat": 4,
 "nbformat_minor": 2
}
