{
 "cells": [
  {
   "cell_type": "markdown",
   "metadata": {
    "slideshow": {
     "slide_type": "slide"
    }
   },
   "source": [
    "# Let's get into "
   ]
  },
  {
   "cell_type": "markdown",
   "metadata": {
    "slideshow": {
     "slide_type": "fragment"
    }
   },
   "source": [
    "<img src=\"https://www.gelestatic.it/thimg/NTnDnRY33bExL8Hmmn2VnwjHDDs=/fit-in/960x540/https%3A//www.lastampa.it/image/contentid/policy%3A1.33596732%3A1561901170/570024ce-2fc3-11e9-9516-6327b7720fee_google_reddit_acquisizione-kllD-U11202209014162EGI-1024x576%40LaStampa.it.png%3Ff%3Ddetail_558%26h%3D720%26w%3D1280%26%24p%24f%24h%24w%3D5bc7233\" />"
   ]
  },
  {
   "cell_type": "markdown",
   "metadata": {
    "slideshow": {
     "slide_type": "slide"
    }
   },
   "source": [
    "# What is it?"
   ]
  },
  {
   "cell_type": "markdown",
   "metadata": {
    "slideshow": {
     "slide_type": "fragment"
    }
   },
   "source": [
    "Reddit is a social media based on social news media aggregation. As a Redditor, a reddit's user, you can create posts. The most important thing about posts is that they are organized into subject's clusters. Those are also called as subreddits.  "
   ]
  },
  {
   "cell_type": "markdown",
   "metadata": {
    "slideshow": {
     "slide_type": "subslide"
    }
   },
   "source": [
    "<img src=\"https://i.redd.it/9a7zda77s7z01.png\" width=1200 heigth=1000 align=\"center\"/>"
   ]
  },
  {
   "cell_type": "markdown",
   "metadata": {
    "slideshow": {
     "slide_type": "slide"
    }
   },
   "source": [
    "# What do those r/ things contain?"
   ]
  },
  {
   "cell_type": "markdown",
   "metadata": {
    "slideshow": {
     "slide_type": "fragment"
    }
   },
   "source": [
    "What a subreddit does is gather informations which concern itself.   \n",
    "Indeed, what it contains is actually defined in it's name. For example, if we are looking for games discussion/guides and so on, the first thing we'd be looking at is r/games."
   ]
  },
  {
   "cell_type": "markdown",
   "metadata": {
    "slideshow": {
     "slide_type": "subslide"
    }
   },
   "source": [
    "<img src=\"Images/games.png\"/>"
   ]
  },
  {
   "cell_type": "markdown",
   "metadata": {
    "slideshow": {
     "slide_type": "slide"
    }
   },
   "source": [
    "# Subreddits... how are they created?"
   ]
  },
  {
   "cell_type": "markdown",
   "metadata": {
    "slideshow": {
     "slide_type": "fragment"
    }
   },
   "source": [
    "Subreddits are not pre-created. Indeed, any user can create a subreddit and promote it. \n",
    "If a subreddit has some interesting contents users can upvote or downvote discussions and comments.\n",
    "Discussions with an high number of upvotes have the possibility to get on top of the subreddit page and, if the number of upvotes is very high, it can also be displayed in the home page of reddit. "
   ]
  },
  {
   "cell_type": "markdown",
   "metadata": {
    "slideshow": {
     "slide_type": "slide"
    }
   },
   "source": [
    "# Ok thank you but now..."
   ]
  },
  {
   "cell_type": "markdown",
   "metadata": {
    "slideshow": {
     "slide_type": "fragment"
    }
   },
   "source": [
    "<img src=\"https://secure.meetupstatic.com/photos/event/e/1/6/b/highres_457317707.jpeg\"/>"
   ]
  },
  {
   "cell_type": "markdown",
   "metadata": {
    "slideshow": {
     "slide_type": "slide"
    }
   },
   "source": [
    "# Getting tokens for OAuth in order to authenticate"
   ]
  },
  {
   "cell_type": "markdown",
   "metadata": {
    "slideshow": {
     "slide_type": "fragment"
    }
   },
   "source": [
    "In order to be able to use Reddit API, after we have created our account, we need to obtain two tokens:\n",
    "* **client id**\n",
    "* **client secret**"
   ]
  },
  {
   "cell_type": "markdown",
   "metadata": {
    "slideshow": {
     "slide_type": "subslide"
    }
   },
   "source": [
    "To get those, we need to log in in reddit, go to ***Preferences->Apps->Create a new app***\n",
    "\n",
    "<img src=\"Images/create_newapp.png\"/>"
   ]
  },
  {
   "cell_type": "markdown",
   "metadata": {
    "slideshow": {
     "slide_type": "subslide"
    }
   },
   "source": [
    "Let's now fill all the information:\n",
    "* **name**: give your app a name, maybe a good one whic explains what it does.\n",
    "* **app type**: we are going to choose script, since that's all we need.\n",
    "* **description**: type a little description of what the app does\n",
    "* **about url**: link to information about the app, we can leave this blank if we want\n",
    "* **redirect uri**: we can just to paste this link *http://www.example.com/unused/redirect/uri*\n"
   ]
  },
  {
   "cell_type": "markdown",
   "metadata": {
    "slideshow": {
     "slide_type": "fragment"
    }
   },
   "source": [
    "After filling those fields, just click on create app."
   ]
  },
  {
   "cell_type": "markdown",
   "metadata": {
    "slideshow": {
     "slide_type": "subslide"
    }
   },
   "source": [
    "In the displaying page let's save our app's client ID and secret:\n",
    "\n",
    "<img src=\"Images/secret.png\"/>"
   ]
  },
  {
   "cell_type": "markdown",
   "metadata": {
    "slideshow": {
     "slide_type": "slide"
    }
   },
   "source": [
    "# Still before showing some code.."
   ]
  },
  {
   "cell_type": "markdown",
   "metadata": {
    "slideshow": {
     "slide_type": "fragment"
    }
   },
   "source": [
    "In order to code we need to define the last things:\n",
    "* We are going to use python as programming language\n",
    "* We are going to use the PRAW library in order to work with reddit api"
   ]
  },
  {
   "cell_type": "markdown",
   "metadata": {
    "slideshow": {
     "slide_type": "subslide"
    }
   },
   "source": [
    "# Install PRAW library\n",
    "\n",
    "If you are running linux, you can just open your terminal and type "
   ]
  },
  {
   "cell_type": "markdown",
   "metadata": {
    "slideshow": {
     "slide_type": "fragment"
    }
   },
   "source": [
    "\n",
    "pip install praw"
   ]
  },
  {
   "cell_type": "markdown",
   "metadata": {
    "slideshow": {
     "slide_type": "fragment"
    }
   },
   "source": [
    "If running python on anaconda just type"
   ]
  },
  {
   "cell_type": "markdown",
   "metadata": {
    "slideshow": {
     "slide_type": "fragment"
    }
   },
   "source": [
    "\n",
    "conda install -c conda-forge praw "
   ]
  },
  {
   "cell_type": "markdown",
   "metadata": {
    "slideshow": {
     "slide_type": "slide"
    }
   },
   "source": [
    "# FINALLY, let's dive into coding!\n",
    "\n",
    "Praw offers a connector between us and reddit. What we need to do is create an instace of reddit passing our username, password, client ID, client secret and the user agent."
   ]
  },
  {
   "cell_type": "markdown",
   "metadata": {
    "slideshow": {
     "slide_type": "fragment"
    }
   },
   "source": [
    "reddit = praw.Reddit(client_id='my client id',\n",
    "                     client_secret='my client secret',\n",
    "                     username='my username',\n",
    "                     password='my password',\n",
    "                     user_agent='my user agent')"
   ]
  },
  {
   "cell_type": "markdown",
   "metadata": {
    "slideshow": {
     "slide_type": "subslide"
    }
   },
   "source": [
    "In order to avoid to hard-code our credentials inside our script program, let's just create a new python file, called config, in the same directory where our script is located and write our credentials in there."
   ]
  },
  {
   "cell_type": "markdown",
   "metadata": {
    "slideshow": {
     "slide_type": "fragment"
    }
   },
   "source": [
    "<img src=\"Images/no_hardcode.jpg\" width=50% height=50%/>"
   ]
  },
  {
   "cell_type": "markdown",
   "metadata": {
    "slideshow": {
     "slide_type": "subslide"
    }
   },
   "source": [
    "# config.py\n",
    "\n",
    "<img src=\"Images/config.png\"/>"
   ]
  },
  {
   "cell_type": "markdown",
   "metadata": {
    "slideshow": {
     "slide_type": "slide"
    }
   },
   "source": [
    "# Let's now create our main script\n",
    "\n",
    "Create a new python file and name it whatever you want. This will be the script in which we will do all of our work."
   ]
  },
  {
   "cell_type": "markdown",
   "metadata": {
    "slideshow": {
     "slide_type": "fragment"
    }
   },
   "source": [
    "Let's authenticate on reddit using the praw connector:"
   ]
  },
  {
   "cell_type": "code",
   "execution_count": 1,
   "metadata": {
    "slideshow": {
     "slide_type": "fragment"
    }
   },
   "outputs": [],
   "source": [
    "import praw\n",
    "import config #this imports the file we cerated befor with our credentials\n",
    "\n",
    "reddit = praw.Reddit(client_id = config.client_id,\n",
    "                     client_secret = config.client_secret,\n",
    "                     username = config.username,\n",
    "                     password = config.password,\n",
    "                     user_agent = config.user_agent)"
   ]
  },
  {
   "cell_type": "markdown",
   "metadata": {
    "slideshow": {
     "slide_type": "slide"
    }
   },
   "source": [
    "# Let's choose a subreddit to analyze\n",
    "\n",
    "In this tutorial, we are going to start analyzing r/coronavirus.. let's see what we'll find out!"
   ]
  },
  {
   "cell_type": "code",
   "execution_count": 2,
   "metadata": {
    "slideshow": {
     "slide_type": "fragment"
    }
   },
   "outputs": [
    {
     "name": "stderr",
     "output_type": "stream",
     "text": [
      "2it [00:01,  1.74it/s]"
     ]
    },
    {
     "name": "stdout",
     "output_type": "stream",
     "text": [
      "Gino Fasoli was 73 years old. He was italian and he was a family doctor and an emergency room manager. In Africa they even kidnapped him to cure the sick. Then he retired. Days ago he received a phone call: \"Can you help us out?\".He came back. He was infected by Covid-19. He died like a true hero.\n",
      "\n",
      "\n",
      "How to stop a virus from spreading\n",
      "\n",
      "\n"
     ]
    },
    {
     "name": "stderr",
     "output_type": "stream",
     "text": [
      "\n"
     ]
    }
   ],
   "source": [
    "from tqdm import tqdm\n",
    "\n",
    "#obtaining an instance of r/coronavirus\n",
    "r_corona = reddit.subreddit('coronavirus')\n",
    "\n",
    "#let's see what are the top 2 posts made in this subreddit this month\n",
    "for post in tqdm(r_corona.top('month', limit=2)):\n",
    "    print (post.title)\n",
    "    print('\\n')"
   ]
  },
  {
   "cell_type": "markdown",
   "metadata": {
    "slideshow": {
     "slide_type": "slide"
    }
   },
   "source": [
    "# Save some data from the top 200 posts\n",
    "\n",
    "Let's create a dictionary which will contain our interesting data"
   ]
  },
  {
   "cell_type": "code",
   "execution_count": 3,
   "metadata": {
    "slideshow": {
     "slide_type": "fragment"
    }
   },
   "outputs": [
    {
     "name": "stderr",
     "output_type": "stream",
     "text": [
      "200it [11:58,  3.59s/it]"
     ]
    },
    {
     "name": "stdout",
     "output_type": "stream",
     "text": [
      "{'id': 'fgi2pi', 'title': 'Even if COVID-19 is unavoidable, delaying infections can flatten the peak number of illnesses to within hospital capacity and significantly reduce deaths.', 'num_comments': 4405, 'score': 128069, 'upvote_ratio': 0.96, 'date': datetime.datetime(2020, 3, 10, 18, 4, 1), 'author': 'finchdad'}\n"
     ]
    },
    {
     "name": "stderr",
     "output_type": "stream",
     "text": [
      "\n"
     ]
    }
   ],
   "source": [
    "import pandas as pd\n",
    "from datetime import datetime\n",
    "\n",
    "post_stats = []\n",
    "\n",
    "#taking the top 200 posts made this year\n",
    "for post in tqdm(r_corona.top('year', limit=200)):\n",
    "    if post.author: #removing all the none accounts\n",
    "        data = {\n",
    "            'id' : post.id,\n",
    "            'title' : post.title,\n",
    "            'num_comments' : post.num_comments,\n",
    "            'score' : post.score,\n",
    "            'upvote_ratio' : post.upvote_ratio,\n",
    "            'date' : datetime.utcfromtimestamp(post.created_utc),\n",
    "            'author' : post.author.name\n",
    "        }\n",
    "\n",
    "        post_stats.append(data)\n",
    "#data example\n",
    "print(post_stats[0])"
   ]
  },
  {
   "cell_type": "markdown",
   "metadata": {
    "slideshow": {
     "slide_type": "subslide"
    }
   },
   "source": [
    "Let's now save those data in a dataframe, which is a very useful and efficient data structure and start some analysis."
   ]
  },
  {
   "cell_type": "code",
   "execution_count": 4,
   "metadata": {
    "slideshow": {
     "slide_type": "fragment"
    }
   },
   "outputs": [
    {
     "data": {
      "text/html": [
       "<div>\n",
       "<style scoped>\n",
       "    .dataframe tbody tr th:only-of-type {\n",
       "        vertical-align: middle;\n",
       "    }\n",
       "\n",
       "    .dataframe tbody tr th {\n",
       "        vertical-align: top;\n",
       "    }\n",
       "\n",
       "    .dataframe thead th {\n",
       "        text-align: right;\n",
       "    }\n",
       "</style>\n",
       "<table border=\"1\" class=\"dataframe\">\n",
       "  <thead>\n",
       "    <tr style=\"text-align: right;\">\n",
       "      <th></th>\n",
       "      <th>id</th>\n",
       "      <th>title</th>\n",
       "      <th>num_comments</th>\n",
       "      <th>score</th>\n",
       "      <th>upvote_ratio</th>\n",
       "      <th>date</th>\n",
       "      <th>author</th>\n",
       "    </tr>\n",
       "  </thead>\n",
       "  <tbody>\n",
       "    <tr>\n",
       "      <td>186</td>\n",
       "      <td>fjfv80</td>\n",
       "      <td>4 of 4 babies test negative for coronavirus af...</td>\n",
       "      <td>611</td>\n",
       "      <td>25372</td>\n",
       "      <td>0.98</td>\n",
       "      <td>2020-03-16 05:34:58</td>\n",
       "      <td>TooFewForTwo</td>\n",
       "    </tr>\n",
       "  </tbody>\n",
       "</table>\n",
       "</div>"
      ],
      "text/plain": [
       "         id                                              title  num_comments  \\\n",
       "186  fjfv80  4 of 4 babies test negative for coronavirus af...           611   \n",
       "\n",
       "     score  upvote_ratio                date        author  \n",
       "186  25372          0.98 2020-03-16 05:34:58  TooFewForTwo  "
      ]
     },
     "execution_count": 4,
     "metadata": {},
     "output_type": "execute_result"
    }
   ],
   "source": [
    "coronaStats = pd.DataFrame(post_stats)\n",
    "\n",
    "#Get the top upvoted post\n",
    "maxTopVoted = coronaStats[coronaStats['upvote_ratio'] == coronaStats['upvote_ratio'].max()]\n",
    "maxTopVoted"
   ]
  },
  {
   "cell_type": "markdown",
   "metadata": {
    "slideshow": {
     "slide_type": "slide"
    }
   },
   "source": [
    "# Let's now see if there are and who are the top authors\n",
    "\n",
    "We are going to do this just considering the number of occurences in our data of a certain user, since we are looking at the top posts. If a user appears more than once, it means he has created a succesful post more than once."
   ]
  },
  {
   "cell_type": "code",
   "execution_count": 5,
   "metadata": {
    "slideshow": {
     "slide_type": "fragment"
    }
   },
   "outputs": [
    {
     "data": {
      "text/plain": [
       "Frocharocha          4\n",
       "mythrowawaybabies    4\n",
       "Trooper9520          4\n",
       "skuzgang             4\n",
       "WorkTomorrow         4\n",
       "                    ..\n",
       "coffee_lake_tree     1\n",
       "birdcore             1\n",
       "chirex               1\n",
       "AdamCannon           1\n",
       "the_tico_life        1\n",
       "Name: author, Length: 164, dtype: int64"
      ]
     },
     "execution_count": 5,
     "metadata": {},
     "output_type": "execute_result"
    }
   ],
   "source": [
    "#display the number of top posts createdby a user\n",
    "coronaStats.author.value_counts()"
   ]
  },
  {
   "cell_type": "markdown",
   "metadata": {
    "slideshow": {
     "slide_type": "fragment"
    }
   },
   "source": [
    "The most succesful redditor here is the user 'Frocharocha'. Let's get some infos about him"
   ]
  },
  {
   "cell_type": "code",
   "execution_count": 20,
   "metadata": {
    "slideshow": {
     "slide_type": "subslide"
    }
   },
   "outputs": [
    {
     "name": "stderr",
     "output_type": "stream",
     "text": [
      "50it [01:09,  1.38s/it]\n"
     ]
    },
    {
     "data": {
      "text/plain": [
       "{'id': 'ficm32',\n",
       " 'title': \"Here's my take on the Doom Eternal: Nintendo Switch Edition\",\n",
       " 'num_comments': 374,\n",
       " 'score': 22535,\n",
       " 'upvote_ratio': 0.91,\n",
       " 'date': datetime.datetime(2020, 3, 14, 3, 55, 26),\n",
       " 'author': 'Frocharocha',\n",
       " 'nsfw': False,\n",
       " 'subreddit': 'Nintendo Switch - News, Updates, & Information'}"
      ]
     },
     "execution_count": 20,
     "metadata": {},
     "output_type": "execute_result"
    }
   ],
   "source": [
    "user = reddit.redditor('Frocharocha')\n",
    "fr_stats = []\n",
    "\n",
    "#let's look at some of his new activities \n",
    "for sub in tqdm(user.submissions.new(limit=50)):\n",
    "    data = {\n",
    "        'id' : sub.id,\n",
    "        'title' : sub.title,\n",
    "        'num_comments' : sub.num_comments,\n",
    "        'score' : sub.score,\n",
    "        'upvote_ratio' : sub.upvote_ratio,\n",
    "        'date' : datetime.utcfromtimestamp(sub.created_utc),\n",
    "        'author' : sub.author.name,\n",
    "        'nsfw' : sub.over_18,\n",
    "        'subreddit' : sub.subreddit.title\n",
    "    }\n",
    "    fr_stats.append(data)\n",
    "fr_stats[0]"
   ]
  },
  {
   "cell_type": "code",
   "execution_count": 23,
   "metadata": {
    "slideshow": {
     "slide_type": "subslide"
    }
   },
   "outputs": [
    {
     "data": {
      "text/html": [
       "<div>\n",
       "<style scoped>\n",
       "    .dataframe tbody tr th:only-of-type {\n",
       "        vertical-align: middle;\n",
       "    }\n",
       "\n",
       "    .dataframe tbody tr th {\n",
       "        vertical-align: top;\n",
       "    }\n",
       "\n",
       "    .dataframe thead th {\n",
       "        text-align: right;\n",
       "    }\n",
       "</style>\n",
       "<table border=\"1\" class=\"dataframe\">\n",
       "  <thead>\n",
       "    <tr style=\"text-align: right;\">\n",
       "      <th></th>\n",
       "      <th>id</th>\n",
       "      <th>title</th>\n",
       "      <th>num_comments</th>\n",
       "      <th>score</th>\n",
       "      <th>upvote_ratio</th>\n",
       "      <th>date</th>\n",
       "      <th>author</th>\n",
       "      <th>nsfw</th>\n",
       "      <th>subreddit</th>\n",
       "    </tr>\n",
       "  </thead>\n",
       "  <tbody>\n",
       "    <tr>\n",
       "      <td>0</td>\n",
       "      <td>ficm32</td>\n",
       "      <td>Here's my take on the Doom Eternal: Nintendo S...</td>\n",
       "      <td>374</td>\n",
       "      <td>22535</td>\n",
       "      <td>0.91</td>\n",
       "      <td>2020-03-14 03:55:26</td>\n",
       "      <td>Frocharocha</td>\n",
       "      <td>False</td>\n",
       "      <td>Nintendo Switch - News, Updates, &amp; Information</td>\n",
       "    </tr>\n",
       "    <tr>\n",
       "      <td>1</td>\n",
       "      <td>g0iivf</td>\n",
       "      <td>\"Cells at Work! Code Black\" anime announced fo...</td>\n",
       "      <td>1</td>\n",
       "      <td>5</td>\n",
       "      <td>1.00</td>\n",
       "      <td>2020-04-13 13:02:42</td>\n",
       "      <td>Frocharocha</td>\n",
       "      <td>False</td>\n",
       "      <td>Cells At Work - Hataraku Saibou - Bacteria At ...</td>\n",
       "    </tr>\n",
       "    <tr>\n",
       "      <td>2</td>\n",
       "      <td>g0ii4h</td>\n",
       "      <td>\"Cells at Work! Code Black\" anime announced fo...</td>\n",
       "      <td>19</td>\n",
       "      <td>36</td>\n",
       "      <td>1.00</td>\n",
       "      <td>2020-04-13 13:01:16</td>\n",
       "      <td>Frocharocha</td>\n",
       "      <td>False</td>\n",
       "      <td>/r/Anime</td>\n",
       "    </tr>\n",
       "    <tr>\n",
       "      <td>3</td>\n",
       "      <td>g0h9ly</td>\n",
       "      <td>More Resident Evil 4 Remake details emerge: ‘L...</td>\n",
       "      <td>8</td>\n",
       "      <td>33</td>\n",
       "      <td>0.93</td>\n",
       "      <td>2020-04-13 11:35:06</td>\n",
       "      <td>Frocharocha</td>\n",
       "      <td>False</td>\n",
       "      <td>The place for gaming leaks, rumours and news</td>\n",
       "    </tr>\n",
       "    <tr>\n",
       "      <td>4</td>\n",
       "      <td>g0h869</td>\n",
       "      <td>VGC: More Resident Evil 4 Remake details emerg...</td>\n",
       "      <td>9</td>\n",
       "      <td>6</td>\n",
       "      <td>1.00</td>\n",
       "      <td>2020-04-13 11:32:06</td>\n",
       "      <td>Frocharocha</td>\n",
       "      <td>False</td>\n",
       "      <td>Resident Evil</td>\n",
       "    </tr>\n",
       "    <tr>\n",
       "      <td>5</td>\n",
       "      <td>g0h806</td>\n",
       "      <td>More Resident Evil 4 Remake details emerge: ‘L...</td>\n",
       "      <td>0</td>\n",
       "      <td>1</td>\n",
       "      <td>0.57</td>\n",
       "      <td>2020-04-13 11:31:41</td>\n",
       "      <td>Frocharocha</td>\n",
       "      <td>False</td>\n",
       "      <td>/r/XboxOne - The home of everything Xbox One o...</td>\n",
       "    </tr>\n",
       "    <tr>\n",
       "      <td>6</td>\n",
       "      <td>g0h7yy</td>\n",
       "      <td>More Resident Evil 4 Remake details emerge: ‘L...</td>\n",
       "      <td>15</td>\n",
       "      <td>11</td>\n",
       "      <td>0.73</td>\n",
       "      <td>2020-04-13 11:31:37</td>\n",
       "      <td>Frocharocha</td>\n",
       "      <td>False</td>\n",
       "      <td>PC Gaming</td>\n",
       "    </tr>\n",
       "    <tr>\n",
       "      <td>7</td>\n",
       "      <td>g0gtzc</td>\n",
       "      <td>The Legend of Zelda: Breath of the Wild is now...</td>\n",
       "      <td>3</td>\n",
       "      <td>0</td>\n",
       "      <td>0.52</td>\n",
       "      <td>2020-04-13 11:02:35</td>\n",
       "      <td>Frocharocha</td>\n",
       "      <td>False</td>\n",
       "      <td>Nintendo Switch - News, Updates, &amp; Information</td>\n",
       "    </tr>\n",
       "    <tr>\n",
       "      <td>8</td>\n",
       "      <td>g0gti9</td>\n",
       "      <td>Rio statue at the end of the Easter Day lit up...</td>\n",
       "      <td>0</td>\n",
       "      <td>10</td>\n",
       "      <td>0.81</td>\n",
       "      <td>2020-04-13 11:01:32</td>\n",
       "      <td>Frocharocha</td>\n",
       "      <td>False</td>\n",
       "      <td>Reddit Pics</td>\n",
       "    </tr>\n",
       "    <tr>\n",
       "      <td>9</td>\n",
       "      <td>g0gs65</td>\n",
       "      <td>Coronavirus fuels calls to clamp down on EU wi...</td>\n",
       "      <td>2</td>\n",
       "      <td>18</td>\n",
       "      <td>0.78</td>\n",
       "      <td>2020-04-13 10:58:46</td>\n",
       "      <td>Frocharocha</td>\n",
       "      <td>False</td>\n",
       "      <td>Novel Coronavirus (COVID-19)</td>\n",
       "    </tr>\n",
       "    <tr>\n",
       "      <td>10</td>\n",
       "      <td>g0gqjd</td>\n",
       "      <td>Guilty Gear Strive closed beta emails going ou...</td>\n",
       "      <td>0</td>\n",
       "      <td>0</td>\n",
       "      <td>0.53</td>\n",
       "      <td>2020-04-13 10:55:21</td>\n",
       "      <td>Frocharocha</td>\n",
       "      <td>False</td>\n",
       "      <td>PC Gaming</td>\n",
       "    </tr>\n",
       "    <tr>\n",
       "      <td>11</td>\n",
       "      <td>g0gpmp</td>\n",
       "      <td>PC makers caught off guard as shipments can’t ...</td>\n",
       "      <td>2</td>\n",
       "      <td>10</td>\n",
       "      <td>0.69</td>\n",
       "      <td>2020-04-13 10:53:16</td>\n",
       "      <td>Frocharocha</td>\n",
       "      <td>False</td>\n",
       "      <td>PC Gaming</td>\n",
       "    </tr>\n",
       "    <tr>\n",
       "      <td>12</td>\n",
       "      <td>g0gnqq</td>\n",
       "      <td>A male employee working at Sony Interactive En...</td>\n",
       "      <td>4</td>\n",
       "      <td>0</td>\n",
       "      <td>0.50</td>\n",
       "      <td>2020-04-13 10:49:25</td>\n",
       "      <td>Frocharocha</td>\n",
       "      <td>False</td>\n",
       "      <td>PlayStation 5 - News • Discussion • Community</td>\n",
       "    </tr>\n",
       "    <tr>\n",
       "      <td>13</td>\n",
       "      <td>g0gnnl</td>\n",
       "      <td>A male employee working at Sony Interactive En...</td>\n",
       "      <td>0</td>\n",
       "      <td>0</td>\n",
       "      <td>0.17</td>\n",
       "      <td>2020-04-13 10:49:15</td>\n",
       "      <td>Frocharocha</td>\n",
       "      <td>False</td>\n",
       "      <td>PlayStation</td>\n",
       "    </tr>\n",
       "    <tr>\n",
       "      <td>14</td>\n",
       "      <td>g0ghs2</td>\n",
       "      <td>Caribbean nations can’t get U.S. masks, ventil...</td>\n",
       "      <td>0</td>\n",
       "      <td>1</td>\n",
       "      <td>1.00</td>\n",
       "      <td>2020-04-13 10:36:33</td>\n",
       "      <td>Frocharocha</td>\n",
       "      <td>False</td>\n",
       "      <td>Novel Coronavirus (COVID-19)</td>\n",
       "    </tr>\n",
       "    <tr>\n",
       "      <td>15</td>\n",
       "      <td>g07q64</td>\n",
       "      <td>Final Fantasy 7 Remake was the best-selling bo...</td>\n",
       "      <td>0</td>\n",
       "      <td>4</td>\n",
       "      <td>0.67</td>\n",
       "      <td>2020-04-13 00:00:52</td>\n",
       "      <td>Frocharocha</td>\n",
       "      <td>False</td>\n",
       "      <td>Final Fantasy</td>\n",
       "    </tr>\n",
       "    <tr>\n",
       "      <td>16</td>\n",
       "      <td>g07otb</td>\n",
       "      <td>The Prime Minister of Taiwan Defended Gaming a...</td>\n",
       "      <td>11</td>\n",
       "      <td>121</td>\n",
       "      <td>0.91</td>\n",
       "      <td>2020-04-12 23:58:29</td>\n",
       "      <td>Frocharocha</td>\n",
       "      <td>False</td>\n",
       "      <td>World News</td>\n",
       "    </tr>\n",
       "    <tr>\n",
       "      <td>17</td>\n",
       "      <td>g07m81</td>\n",
       "      <td>PEGI confirms it is working remotely with \"min...</td>\n",
       "      <td>2</td>\n",
       "      <td>74</td>\n",
       "      <td>0.85</td>\n",
       "      <td>2020-04-12 23:54:01</td>\n",
       "      <td>Frocharocha</td>\n",
       "      <td>False</td>\n",
       "      <td>Nintendo Switch - News, Updates, &amp; Information</td>\n",
       "    </tr>\n",
       "    <tr>\n",
       "      <td>18</td>\n",
       "      <td>g07llb</td>\n",
       "      <td>In a interview with Gamesindustry, Ndreams', P...</td>\n",
       "      <td>11</td>\n",
       "      <td>14</td>\n",
       "      <td>0.67</td>\n",
       "      <td>2020-04-12 23:53:02</td>\n",
       "      <td>Frocharocha</td>\n",
       "      <td>False</td>\n",
       "      <td>PlayStation 5 - News • Discussion • Community</td>\n",
       "    </tr>\n",
       "    <tr>\n",
       "      <td>19</td>\n",
       "      <td>g07k8x</td>\n",
       "      <td>AndroidPolice: : Doom Eternal is a grisly deli...</td>\n",
       "      <td>11</td>\n",
       "      <td>77</td>\n",
       "      <td>0.89</td>\n",
       "      <td>2020-04-12 23:50:41</td>\n",
       "      <td>Frocharocha</td>\n",
       "      <td>False</td>\n",
       "      <td>Official Community for Stadia</td>\n",
       "    </tr>\n",
       "    <tr>\n",
       "      <td>20</td>\n",
       "      <td>g03u1c</td>\n",
       "      <td>McDonald’s and other business are now turning ...</td>\n",
       "      <td>786</td>\n",
       "      <td>2607</td>\n",
       "      <td>0.94</td>\n",
       "      <td>2020-04-12 20:12:45</td>\n",
       "      <td>Frocharocha</td>\n",
       "      <td>False</td>\n",
       "      <td>Novel Coronavirus (COVID-19)</td>\n",
       "    </tr>\n",
       "    <tr>\n",
       "      <td>21</td>\n",
       "      <td>g03smi</td>\n",
       "      <td>Kentucky church fills Easter service to near c...</td>\n",
       "      <td>3864</td>\n",
       "      <td>85933</td>\n",
       "      <td>0.90</td>\n",
       "      <td>2020-04-12 20:10:28</td>\n",
       "      <td>Frocharocha</td>\n",
       "      <td>False</td>\n",
       "      <td>Novel Coronavirus (COVID-19)</td>\n",
       "    </tr>\n",
       "    <tr>\n",
       "      <td>22</td>\n",
       "      <td>g03qar</td>\n",
       "      <td>Final Fantast VII Remake has sold 60,000 physi...</td>\n",
       "      <td>1</td>\n",
       "      <td>4</td>\n",
       "      <td>0.83</td>\n",
       "      <td>2020-04-12 20:06:37</td>\n",
       "      <td>Frocharocha</td>\n",
       "      <td>False</td>\n",
       "      <td>Final Fantasy VII Remake</td>\n",
       "    </tr>\n",
       "    <tr>\n",
       "      <td>23</td>\n",
       "      <td>g03nzz</td>\n",
       "      <td>McDonalds and other businesses in China refuse...</td>\n",
       "      <td>67</td>\n",
       "      <td>86</td>\n",
       "      <td>0.84</td>\n",
       "      <td>2020-04-12 20:03:02</td>\n",
       "      <td>Frocharocha</td>\n",
       "      <td>False</td>\n",
       "      <td>World News</td>\n",
       "    </tr>\n",
       "    <tr>\n",
       "      <td>24</td>\n",
       "      <td>g03l51</td>\n",
       "      <td>The Last of Us: Part 2 is rumored to be a stor...</td>\n",
       "      <td>0</td>\n",
       "      <td>2</td>\n",
       "      <td>1.00</td>\n",
       "      <td>2020-04-12 19:58:33</td>\n",
       "      <td>Frocharocha</td>\n",
       "      <td>False</td>\n",
       "      <td>The Last of Us | Reddit</td>\n",
       "    </tr>\n",
       "    <tr>\n",
       "      <td>25</td>\n",
       "      <td>g03agw</td>\n",
       "      <td>Capcom is working on a Resident Evil 4 remake</td>\n",
       "      <td>45</td>\n",
       "      <td>75</td>\n",
       "      <td>0.90</td>\n",
       "      <td>2020-04-12 19:42:13</td>\n",
       "      <td>Frocharocha</td>\n",
       "      <td>False</td>\n",
       "      <td>PlayStation 5 - News • Discussion • Community</td>\n",
       "    </tr>\n",
       "    <tr>\n",
       "      <td>26</td>\n",
       "      <td>g039un</td>\n",
       "      <td>VGC: Capcom is working on a Resident Evil 4 re...</td>\n",
       "      <td>0</td>\n",
       "      <td>2</td>\n",
       "      <td>1.00</td>\n",
       "      <td>2020-04-12 19:41:16</td>\n",
       "      <td>Frocharocha</td>\n",
       "      <td>False</td>\n",
       "      <td>Resident Evil</td>\n",
       "    </tr>\n",
       "    <tr>\n",
       "      <td>27</td>\n",
       "      <td>g00vf9</td>\n",
       "      <td>In Brazil, COVID-19 outbreak paves way for inv...</td>\n",
       "      <td>2</td>\n",
       "      <td>25</td>\n",
       "      <td>0.71</td>\n",
       "      <td>2020-04-12 17:27:51</td>\n",
       "      <td>Frocharocha</td>\n",
       "      <td>False</td>\n",
       "      <td>Novel Coronavirus (COVID-19)</td>\n",
       "    </tr>\n",
       "    <tr>\n",
       "      <td>29</td>\n",
       "      <td>fzy00j</td>\n",
       "      <td>Self Hanging with doorknob</td>\n",
       "      <td>2</td>\n",
       "      <td>2</td>\n",
       "      <td>0.66</td>\n",
       "      <td>2020-04-12 14:50:27</td>\n",
       "      <td>Frocharocha</td>\n",
       "      <td>False</td>\n",
       "      <td>Peer support for anyone struggling with suicid...</td>\n",
       "    </tr>\n",
       "    <tr>\n",
       "      <td>32</td>\n",
       "      <td>fzxegz</td>\n",
       "      <td>Coronavirus pandemic needs global response, ur...</td>\n",
       "      <td>5</td>\n",
       "      <td>0</td>\n",
       "      <td>0.44</td>\n",
       "      <td>2020-04-12 14:12:25</td>\n",
       "      <td>Frocharocha</td>\n",
       "      <td>False</td>\n",
       "      <td>World News</td>\n",
       "    </tr>\n",
       "    <tr>\n",
       "      <td>33</td>\n",
       "      <td>fzxd4r</td>\n",
       "      <td>Coronavirus: Trump has declared major disaster...</td>\n",
       "      <td>15</td>\n",
       "      <td>0</td>\n",
       "      <td>0.15</td>\n",
       "      <td>2020-04-12 14:09:59</td>\n",
       "      <td>Frocharocha</td>\n",
       "      <td>False</td>\n",
       "      <td>Politics</td>\n",
       "    </tr>\n",
       "    <tr>\n",
       "      <td>34</td>\n",
       "      <td>fzx9c7</td>\n",
       "      <td>Raccoon City through the lens of a fixed camer...</td>\n",
       "      <td>54</td>\n",
       "      <td>284</td>\n",
       "      <td>0.98</td>\n",
       "      <td>2020-04-12 14:03:02</td>\n",
       "      <td>Frocharocha</td>\n",
       "      <td>False</td>\n",
       "      <td>Resident Evil</td>\n",
       "    </tr>\n",
       "    <tr>\n",
       "      <td>36</td>\n",
       "      <td>fzlrk8</td>\n",
       "      <td>Mais assustador que o vírus é o próprio brasil...</td>\n",
       "      <td>7</td>\n",
       "      <td>65</td>\n",
       "      <td>0.91</td>\n",
       "      <td>2020-04-11 23:45:13</td>\n",
       "      <td>Frocharocha</td>\n",
       "      <td>False</td>\n",
       "      <td>r/Brasil</td>\n",
       "    </tr>\n",
       "    <tr>\n",
       "      <td>37</td>\n",
       "      <td>fzl7hz</td>\n",
       "      <td>I hope this is true</td>\n",
       "      <td>46</td>\n",
       "      <td>17</td>\n",
       "      <td>0.66</td>\n",
       "      <td>2020-04-11 23:12:11</td>\n",
       "      <td>Frocharocha</td>\n",
       "      <td>False</td>\n",
       "      <td>Call of Duty: Modern Warfare | Reddit</td>\n",
       "    </tr>\n",
       "    <tr>\n",
       "      <td>38</td>\n",
       "      <td>fzl6rc</td>\n",
       "      <td>[MW2]Modern Warfare 2 Remastered Multiplayer C...</td>\n",
       "      <td>12</td>\n",
       "      <td>20</td>\n",
       "      <td>0.95</td>\n",
       "      <td>2020-04-11 23:10:57</td>\n",
       "      <td>Frocharocha</td>\n",
       "      <td>False</td>\n",
       "      <td>Call of Duty | Reddit</td>\n",
       "    </tr>\n",
       "    <tr>\n",
       "      <td>39</td>\n",
       "      <td>fzl29x</td>\n",
       "      <td>[Kite] Earth-chan is on her period.</td>\n",
       "      <td>1</td>\n",
       "      <td>60</td>\n",
       "      <td>0.90</td>\n",
       "      <td>2020-04-11 23:03:52</td>\n",
       "      <td>Frocharocha</td>\n",
       "      <td>False</td>\n",
       "      <td>Animemes!</td>\n",
       "    </tr>\n",
       "    <tr>\n",
       "      <td>40</td>\n",
       "      <td>fzkz9t</td>\n",
       "      <td>Earth-chan by warningpoodle</td>\n",
       "      <td>1</td>\n",
       "      <td>20</td>\n",
       "      <td>0.87</td>\n",
       "      <td>2020-04-11 22:58:42</td>\n",
       "      <td>Frocharocha</td>\n",
       "      <td>False</td>\n",
       "      <td>Earth chan</td>\n",
       "    </tr>\n",
       "    <tr>\n",
       "      <td>41</td>\n",
       "      <td>fzkxmh</td>\n",
       "      <td>Earth-chan drawn by 地球の日</td>\n",
       "      <td>1</td>\n",
       "      <td>36</td>\n",
       "      <td>0.95</td>\n",
       "      <td>2020-04-11 22:55:43</td>\n",
       "      <td>Frocharocha</td>\n",
       "      <td>False</td>\n",
       "      <td>Earth chan</td>\n",
       "    </tr>\n",
       "    <tr>\n",
       "      <td>42</td>\n",
       "      <td>fzkt20</td>\n",
       "      <td>Earth-chan is back, and she is not amused.</td>\n",
       "      <td>4</td>\n",
       "      <td>75</td>\n",
       "      <td>0.94</td>\n",
       "      <td>2020-04-11 22:48:02</td>\n",
       "      <td>Frocharocha</td>\n",
       "      <td>True</td>\n",
       "      <td>dankmemes</td>\n",
       "    </tr>\n",
       "    <tr>\n",
       "      <td>43</td>\n",
       "      <td>fzkhob</td>\n",
       "      <td>Earth-chan is not amused in 2020.</td>\n",
       "      <td>3</td>\n",
       "      <td>50</td>\n",
       "      <td>0.89</td>\n",
       "      <td>2020-04-11 22:28:10</td>\n",
       "      <td>Frocharocha</td>\n",
       "      <td>False</td>\n",
       "      <td>/r/Memes the original since 2008</td>\n",
       "    </tr>\n",
       "    <tr>\n",
       "      <td>44</td>\n",
       "      <td>fzkh4l</td>\n",
       "      <td>Someone is pissed</td>\n",
       "      <td>34</td>\n",
       "      <td>1076</td>\n",
       "      <td>0.98</td>\n",
       "      <td>2020-04-11 22:27:11</td>\n",
       "      <td>Frocharocha</td>\n",
       "      <td>False</td>\n",
       "      <td>Earth chan</td>\n",
       "    </tr>\n",
       "    <tr>\n",
       "      <td>45</td>\n",
       "      <td>fzk8p8</td>\n",
       "      <td>[Pokémon] Earth': \"No rest for these fuckers\"</td>\n",
       "      <td>87</td>\n",
       "      <td>6238</td>\n",
       "      <td>0.99</td>\n",
       "      <td>2020-04-11 22:12:31</td>\n",
       "      <td>Frocharocha</td>\n",
       "      <td>False</td>\n",
       "      <td>Animemes!</td>\n",
       "    </tr>\n",
       "    <tr>\n",
       "      <td>46</td>\n",
       "      <td>fzk85i</td>\n",
       "      <td>Earth: \"Time to show who is boss\"</td>\n",
       "      <td>1</td>\n",
       "      <td>42</td>\n",
       "      <td>0.91</td>\n",
       "      <td>2020-04-11 22:11:35</td>\n",
       "      <td>Frocharocha</td>\n",
       "      <td>False</td>\n",
       "      <td>/r/Memes the original since 2008</td>\n",
       "    </tr>\n",
       "    <tr>\n",
       "      <td>47</td>\n",
       "      <td>fzk4x7</td>\n",
       "      <td>Anak Krakatoa Eruption in Indonesia, April 10,...</td>\n",
       "      <td>4</td>\n",
       "      <td>55</td>\n",
       "      <td>0.86</td>\n",
       "      <td>2020-04-11 22:06:06</td>\n",
       "      <td>Frocharocha</td>\n",
       "      <td>False</td>\n",
       "      <td>Reddit Pics</td>\n",
       "    </tr>\n",
       "    <tr>\n",
       "      <td>49</td>\n",
       "      <td>fzjuxh</td>\n",
       "      <td>Krakatoa Volcano Erupted Along with Three Othe...</td>\n",
       "      <td>106</td>\n",
       "      <td>830</td>\n",
       "      <td>0.95</td>\n",
       "      <td>2020-04-11 21:49:17</td>\n",
       "      <td>Frocharocha</td>\n",
       "      <td>False</td>\n",
       "      <td>World News</td>\n",
       "    </tr>\n",
       "  </tbody>\n",
       "</table>\n",
       "</div>"
      ],
      "text/plain": [
       "        id                                              title  num_comments  \\\n",
       "0   ficm32  Here's my take on the Doom Eternal: Nintendo S...           374   \n",
       "1   g0iivf  \"Cells at Work! Code Black\" anime announced fo...             1   \n",
       "2   g0ii4h  \"Cells at Work! Code Black\" anime announced fo...            19   \n",
       "3   g0h9ly  More Resident Evil 4 Remake details emerge: ‘L...             8   \n",
       "4   g0h869  VGC: More Resident Evil 4 Remake details emerg...             9   \n",
       "5   g0h806  More Resident Evil 4 Remake details emerge: ‘L...             0   \n",
       "6   g0h7yy  More Resident Evil 4 Remake details emerge: ‘L...            15   \n",
       "7   g0gtzc  The Legend of Zelda: Breath of the Wild is now...             3   \n",
       "8   g0gti9  Rio statue at the end of the Easter Day lit up...             0   \n",
       "9   g0gs65  Coronavirus fuels calls to clamp down on EU wi...             2   \n",
       "10  g0gqjd  Guilty Gear Strive closed beta emails going ou...             0   \n",
       "11  g0gpmp  PC makers caught off guard as shipments can’t ...             2   \n",
       "12  g0gnqq  A male employee working at Sony Interactive En...             4   \n",
       "13  g0gnnl  A male employee working at Sony Interactive En...             0   \n",
       "14  g0ghs2  Caribbean nations can’t get U.S. masks, ventil...             0   \n",
       "15  g07q64  Final Fantasy 7 Remake was the best-selling bo...             0   \n",
       "16  g07otb  The Prime Minister of Taiwan Defended Gaming a...            11   \n",
       "17  g07m81  PEGI confirms it is working remotely with \"min...             2   \n",
       "18  g07llb  In a interview with Gamesindustry, Ndreams', P...            11   \n",
       "19  g07k8x  AndroidPolice: : Doom Eternal is a grisly deli...            11   \n",
       "20  g03u1c  McDonald’s and other business are now turning ...           786   \n",
       "21  g03smi  Kentucky church fills Easter service to near c...          3864   \n",
       "22  g03qar  Final Fantast VII Remake has sold 60,000 physi...             1   \n",
       "23  g03nzz  McDonalds and other businesses in China refuse...            67   \n",
       "24  g03l51  The Last of Us: Part 2 is rumored to be a stor...             0   \n",
       "25  g03agw      Capcom is working on a Resident Evil 4 remake            45   \n",
       "26  g039un  VGC: Capcom is working on a Resident Evil 4 re...             0   \n",
       "27  g00vf9  In Brazil, COVID-19 outbreak paves way for inv...             2   \n",
       "29  fzy00j                         Self Hanging with doorknob             2   \n",
       "32  fzxegz  Coronavirus pandemic needs global response, ur...             5   \n",
       "33  fzxd4r  Coronavirus: Trump has declared major disaster...            15   \n",
       "34  fzx9c7  Raccoon City through the lens of a fixed camer...            54   \n",
       "36  fzlrk8  Mais assustador que o vírus é o próprio brasil...             7   \n",
       "37  fzl7hz                                I hope this is true            46   \n",
       "38  fzl6rc  [MW2]Modern Warfare 2 Remastered Multiplayer C...            12   \n",
       "39  fzl29x                [Kite] Earth-chan is on her period.             1   \n",
       "40  fzkz9t                        Earth-chan by warningpoodle             1   \n",
       "41  fzkxmh                           Earth-chan drawn by 地球の日             1   \n",
       "42  fzkt20         Earth-chan is back, and she is not amused.             4   \n",
       "43  fzkhob                  Earth-chan is not amused in 2020.             3   \n",
       "44  fzkh4l                                  Someone is pissed            34   \n",
       "45  fzk8p8      [Pokémon] Earth': \"No rest for these fuckers\"            87   \n",
       "46  fzk85i                  Earth: \"Time to show who is boss\"             1   \n",
       "47  fzk4x7  Anak Krakatoa Eruption in Indonesia, April 10,...             4   \n",
       "49  fzjuxh  Krakatoa Volcano Erupted Along with Three Othe...           106   \n",
       "\n",
       "    score  upvote_ratio                date       author   nsfw  \\\n",
       "0   22535          0.91 2020-03-14 03:55:26  Frocharocha  False   \n",
       "1       5          1.00 2020-04-13 13:02:42  Frocharocha  False   \n",
       "2      36          1.00 2020-04-13 13:01:16  Frocharocha  False   \n",
       "3      33          0.93 2020-04-13 11:35:06  Frocharocha  False   \n",
       "4       6          1.00 2020-04-13 11:32:06  Frocharocha  False   \n",
       "5       1          0.57 2020-04-13 11:31:41  Frocharocha  False   \n",
       "6      11          0.73 2020-04-13 11:31:37  Frocharocha  False   \n",
       "7       0          0.52 2020-04-13 11:02:35  Frocharocha  False   \n",
       "8      10          0.81 2020-04-13 11:01:32  Frocharocha  False   \n",
       "9      18          0.78 2020-04-13 10:58:46  Frocharocha  False   \n",
       "10      0          0.53 2020-04-13 10:55:21  Frocharocha  False   \n",
       "11     10          0.69 2020-04-13 10:53:16  Frocharocha  False   \n",
       "12      0          0.50 2020-04-13 10:49:25  Frocharocha  False   \n",
       "13      0          0.17 2020-04-13 10:49:15  Frocharocha  False   \n",
       "14      1          1.00 2020-04-13 10:36:33  Frocharocha  False   \n",
       "15      4          0.67 2020-04-13 00:00:52  Frocharocha  False   \n",
       "16    121          0.91 2020-04-12 23:58:29  Frocharocha  False   \n",
       "17     74          0.85 2020-04-12 23:54:01  Frocharocha  False   \n",
       "18     14          0.67 2020-04-12 23:53:02  Frocharocha  False   \n",
       "19     77          0.89 2020-04-12 23:50:41  Frocharocha  False   \n",
       "20   2607          0.94 2020-04-12 20:12:45  Frocharocha  False   \n",
       "21  85933          0.90 2020-04-12 20:10:28  Frocharocha  False   \n",
       "22      4          0.83 2020-04-12 20:06:37  Frocharocha  False   \n",
       "23     86          0.84 2020-04-12 20:03:02  Frocharocha  False   \n",
       "24      2          1.00 2020-04-12 19:58:33  Frocharocha  False   \n",
       "25     75          0.90 2020-04-12 19:42:13  Frocharocha  False   \n",
       "26      2          1.00 2020-04-12 19:41:16  Frocharocha  False   \n",
       "27     25          0.71 2020-04-12 17:27:51  Frocharocha  False   \n",
       "29      2          0.66 2020-04-12 14:50:27  Frocharocha  False   \n",
       "32      0          0.44 2020-04-12 14:12:25  Frocharocha  False   \n",
       "33      0          0.15 2020-04-12 14:09:59  Frocharocha  False   \n",
       "34    284          0.98 2020-04-12 14:03:02  Frocharocha  False   \n",
       "36     65          0.91 2020-04-11 23:45:13  Frocharocha  False   \n",
       "37     17          0.66 2020-04-11 23:12:11  Frocharocha  False   \n",
       "38     20          0.95 2020-04-11 23:10:57  Frocharocha  False   \n",
       "39     60          0.90 2020-04-11 23:03:52  Frocharocha  False   \n",
       "40     20          0.87 2020-04-11 22:58:42  Frocharocha  False   \n",
       "41     36          0.95 2020-04-11 22:55:43  Frocharocha  False   \n",
       "42     75          0.94 2020-04-11 22:48:02  Frocharocha   True   \n",
       "43     50          0.89 2020-04-11 22:28:10  Frocharocha  False   \n",
       "44   1076          0.98 2020-04-11 22:27:11  Frocharocha  False   \n",
       "45   6238          0.99 2020-04-11 22:12:31  Frocharocha  False   \n",
       "46     42          0.91 2020-04-11 22:11:35  Frocharocha  False   \n",
       "47     55          0.86 2020-04-11 22:06:06  Frocharocha  False   \n",
       "49    830          0.95 2020-04-11 21:49:17  Frocharocha  False   \n",
       "\n",
       "                                            subreddit  \n",
       "0      Nintendo Switch - News, Updates, & Information  \n",
       "1   Cells At Work - Hataraku Saibou - Bacteria At ...  \n",
       "2                                            /r/Anime  \n",
       "3        The place for gaming leaks, rumours and news  \n",
       "4                                       Resident Evil  \n",
       "5   /r/XboxOne - The home of everything Xbox One o...  \n",
       "6                                           PC Gaming  \n",
       "7      Nintendo Switch - News, Updates, & Information  \n",
       "8                                         Reddit Pics  \n",
       "9                        Novel Coronavirus (COVID-19)  \n",
       "10                                          PC Gaming  \n",
       "11                                          PC Gaming  \n",
       "12      PlayStation 5 - News • Discussion • Community  \n",
       "13                                        PlayStation  \n",
       "14                       Novel Coronavirus (COVID-19)  \n",
       "15                                      Final Fantasy  \n",
       "16                                         World News  \n",
       "17     Nintendo Switch - News, Updates, & Information  \n",
       "18      PlayStation 5 - News • Discussion • Community  \n",
       "19                      Official Community for Stadia  \n",
       "20                       Novel Coronavirus (COVID-19)  \n",
       "21                       Novel Coronavirus (COVID-19)  \n",
       "22                           Final Fantasy VII Remake  \n",
       "23                                         World News  \n",
       "24                            The Last of Us | Reddit  \n",
       "25      PlayStation 5 - News • Discussion • Community  \n",
       "26                                      Resident Evil  \n",
       "27                       Novel Coronavirus (COVID-19)  \n",
       "29  Peer support for anyone struggling with suicid...  \n",
       "32                                         World News  \n",
       "33                                           Politics  \n",
       "34                                      Resident Evil  \n",
       "36                                           r/Brasil  \n",
       "37              Call of Duty: Modern Warfare | Reddit  \n",
       "38                              Call of Duty | Reddit  \n",
       "39                                          Animemes!  \n",
       "40                                         Earth chan  \n",
       "41                                         Earth chan  \n",
       "42                                          dankmemes  \n",
       "43                   /r/Memes the original since 2008  \n",
       "44                                         Earth chan  \n",
       "45                                          Animemes!  \n",
       "46                   /r/Memes the original since 2008  \n",
       "47                                        Reddit Pics  \n",
       "49                                         World News  "
      ]
     },
     "execution_count": 23,
     "metadata": {},
     "output_type": "execute_result"
    }
   ],
   "source": [
    "#Check if he interacts also on other subreddits\n",
    "frDf = pd.DataFrame(fr_stats)\n",
    "frDf.groupby('subreddit').head()\n"
   ]
  },
  {
   "cell_type": "markdown",
   "metadata": {
    "slideshow": {
     "slide_type": "slide"
    }
   },
   "source": [
    "# Check his popularity among all of this subreddit\n",
    "\n",
    "We will now make some plots in order to show some stats about his popularity on those subreddits. We are now going to see some posts he has created."
   ]
  },
  {
   "cell_type": "markdown",
   "metadata": {
    "slideshow": {
     "slide_type": "subslide"
    }
   },
   "source": [
    "# Mean comments of the user's posts for each different subreddit "
   ]
  },
  {
   "cell_type": "code",
   "execution_count": 24,
   "metadata": {
    "slideshow": {
     "slide_type": "fragment"
    }
   },
   "outputs": [
    {
     "data": {
      "image/png": "[encoded data removed]",
      "text/plain": [
       "<Figure size 576x288 with 1 Axes>"
      ]
     },
     "metadata": {
      "needs_background": "light"
     },
     "output_type": "display_data"
    }
   ],
   "source": [
    "from matplotlib import pyplot as plt\n",
    "\n",
    "\n",
    "plt.figure(figsize=(8,4))\n",
    "frDf.groupby('subreddit')['num_comments'].mean().plot.bar()\n",
    "plt.grid()\n",
    "plt.show()"
   ]
  },
  {
   "cell_type": "markdown",
   "metadata": {
    "slideshow": {
     "slide_type": "subslide"
    }
   },
   "source": [
    "# Mean upvote ratio of the user's posts for each different subreddit"
   ]
  },
  {
   "cell_type": "code",
   "execution_count": 27,
   "metadata": {
    "slideshow": {
     "slide_type": "fragment"
    }
   },
   "outputs": [
    {
     "data": {
      "image/png": "[encoded data removed]",
      "text/plain": [
       "<Figure size 576x288 with 1 Axes>"
      ]
     },
     "metadata": {
      "needs_background": "light"
     },
     "output_type": "display_data"
    }
   ],
   "source": [
    "plt.figure(figsize=(8,4))\n",
    "frDf.groupby('subreddit')['upvote_ratio'].mean().plot.bar()\n",
    "plt.title(\"Mean upvote ratio per each subreddit for the user's submit\")\n",
    "plt.grid()\n",
    "plt.show()"
   ]
  },
  {
   "cell_type": "markdown",
   "metadata": {
    "slideshow": {
     "slide_type": "subslide"
    }
   },
   "source": [
    "# Mean score of the user's posts for each different subreddit "
   ]
  },
  {
   "cell_type": "code",
   "execution_count": 28,
   "metadata": {
    "slideshow": {
     "slide_type": "fragment"
    }
   },
   "outputs": [
    {
     "data": {
      "image/png": "[encoded data removed]",
      "text/plain": [
       "<Figure size 576x288 with 1 Axes>"
      ]
     },
     "metadata": {
      "needs_background": "light"
     },
     "output_type": "display_data"
    }
   ],
   "source": [
    "plt.figure(figsize=(8,4))\n",
    "frDf.groupby('subreddit')['score'].mean().plot.bar()\n",
    "plt.title(\"Mean score per each subreddit for the user's submit\")\n",
    "plt.grid()\n",
    "plt.show()"
   ]
  },
  {
   "cell_type": "markdown",
   "metadata": {
    "slideshow": {
     "slide_type": "slide"
    }
   },
   "source": [
    "# Get back to our subreddit \n",
    "\n",
    "We are now going to check the relationship between the number of comments and the post's score in our original subreddit"
   ]
  },
  {
   "cell_type": "code",
   "execution_count": 30,
   "metadata": {
    "slideshow": {
     "slide_type": "fragment"
    }
   },
   "outputs": [
    {
     "data": {
      "image/png": "[encoded data removed]",
      "text/plain": [
       "<Figure size 432x288 with 1 Axes>"
      ]
     },
     "metadata": {
      "needs_background": "light"
     },
     "output_type": "display_data"
    }
   ],
   "source": [
    "import numpy\n",
    "\n",
    "ax = coronaStats.plot(grid=True,kind='scatter', x='score', y='num_comments', s=50, c='k', alpha=0.4)\n",
    "ax.set_xlim((0,170000))\n",
    "ax.set_ylim((0,10000))\n",
    "ax.set_facecolor(\"grey\")"
   ]
  },
  {
   "cell_type": "markdown",
   "metadata": {
    "slideshow": {
     "slide_type": "slide"
    }
   },
   "source": [
    "# Relationship between the scoreand the upvote ratio"
   ]
  },
  {
   "cell_type": "code",
   "execution_count": 12,
   "metadata": {
    "slideshow": {
     "slide_type": "fragment"
    }
   },
   "outputs": [
    {
     "data": {
      "image/png": "[encoded data removed]",
      "text/plain": [
       "<Figure size 432x288 with 1 Axes>"
      ]
     },
     "metadata": {
      "needs_background": "light"
     },
     "output_type": "display_data"
    }
   ],
   "source": [
    "ax = coronaStats.plot(grid=True,kind='scatter', x='score', y='upvote_ratio', s=50, c='k', alpha=0.4)\n",
    "ax.set_xlim((0,170000))\n",
    "ax.set_ylim((0.65,1))\n",
    "ax.set_facecolor(\"grey\")"
   ]
  },
  {
   "cell_type": "markdown",
   "metadata": {
    "slideshow": {
     "slide_type": "slide"
    }
   },
   "source": [
    "# Relationship between upvote ratio and number of comments"
   ]
  },
  {
   "cell_type": "code",
   "execution_count": 13,
   "metadata": {
    "slideshow": {
     "slide_type": "fragment"
    }
   },
   "outputs": [
    {
     "data": {
      "image/png": "[encoded data removed]",
      "text/plain": [
       "<Figure size 432x288 with 1 Axes>"
      ]
     },
     "metadata": {
      "needs_background": "light"
     },
     "output_type": "display_data"
    }
   ],
   "source": [
    "ax = coronaStats.plot(grid=True,kind='scatter', x='upvote_ratio', y='num_comments', s=50, c='k', alpha=0.4)\n",
    "ax.set_xlim((0.65,1))\n",
    "ax.set_ylim((0,10000))\n",
    "ax.set_facecolor(\"grey\")"
   ]
  },
  {
   "cell_type": "markdown",
   "metadata": {
    "slideshow": {
     "slide_type": "slide"
    }
   },
   "source": [
    "# Get back to our subreddit and check the submission ratio per day"
   ]
  },
  {
   "cell_type": "code",
   "execution_count": 14,
   "metadata": {
    "slideshow": {
     "slide_type": "fragment"
    }
   },
   "outputs": [
    {
     "data": {
      "text/plain": [
       "9"
      ]
     },
     "execution_count": 14,
     "metadata": {},
     "output_type": "execute_result"
    }
   ],
   "source": [
    "#making a copy of our dataframe and format the date in the format 2020-03-02\n",
    "df = coronaStats\n",
    "df['date'] = df['date'].dt.strftime('%Y-%m-%d')\n",
    "df = df.sort_values(by='date')\n",
    "\n",
    "#getting the unique days \n",
    "dates = df['date'].unique()\n",
    "posts_per_day = []\n",
    "\n",
    "#create an empty array of the length of days which are in our dataset\n",
    "for i in range(0,len(dates)):\n",
    "    posts_per_day.append(0)\n",
    "\n",
    "#scanning each row of the dataframe and each row of the date array and incrementing the corresponding cell of posts per day\n",
    "for i in range(0,len(df)):\n",
    "    for j in range(0,len(dates)):\n",
    "        if df['date'].iloc[i] == dates[j]:\n",
    "            posts_per_day[j] += 1\n",
    "\n",
    "max(posts_per_day)"
   ]
  },
  {
   "cell_type": "markdown",
   "metadata": {
    "slideshow": {
     "slide_type": "slide"
    }
   },
   "source": [
    "# Plot the obtained data"
   ]
  },
  {
   "cell_type": "code",
   "execution_count": 15,
   "metadata": {
    "slideshow": {
     "slide_type": "fragment"
    }
   },
   "outputs": [
    {
     "data": {
      "text/plain": [
       "[<matplotlib.lines.Line2D at 0x7fb32c2c5a90>]"
      ]
     },
     "execution_count": 15,
     "metadata": {},
     "output_type": "execute_result"
    },
    {
     "data": {
      "image/png": "[encoded data removed]",
      "text/plain": [
       "<Figure size 1440x432 with 1 Axes>"
      ]
     },
     "metadata": {
      "needs_background": "light"
     },
     "output_type": "display_data"
    }
   ],
   "source": [
    "plt.figure(figsize = (20,6))\n",
    "plt.xticks(rotation=45)\n",
    "plt.xlabel('days')\n",
    "plt.ylabel('num_posts_created')\n",
    "plt.plot(dates, posts_per_day, 'go-', markerfacecolor='g', markersize=8)"
   ]
  },
  {
   "cell_type": "markdown",
   "metadata": {
    "slideshow": {
     "slide_type": "slide"
    }
   },
   "source": [
    "# Let's now make the last solid example!\n",
    "\n",
    "Since we'll need a bit more data to work with, we are going to use another API which helps to cut down the processing time."
   ]
  },
  {
   "cell_type": "markdown",
   "metadata": {
    "slideshow": {
     "slide_type": "slide"
    }
   },
   "source": [
    "# PushShift API\n",
    "\n",
    "This API was designed and created by the /r/datasets mod team to help provide enhanced functionality and search capabilities for searching Reddit comments and submissions. It gives a really big boost to speed and process time."
   ]
  },
  {
   "cell_type": "markdown",
   "metadata": {
    "slideshow": {
     "slide_type": "fragment"
    }
   },
   "source": [
    "Let's now pull a big number of comments from the subreddit we are working with. In order to do so there are two main endpoints used to search all publicly available comments and submissions on Reddit:\n",
    "\n",
    "*    /reddit/search/comment\n",
    "*    /reddit/search/submission\n"
   ]
  },
  {
   "cell_type": "markdown",
   "metadata": {
    "slideshow": {
     "slide_type": "fragment"
    }
   },
   "source": [
    "So, what we need to do is make a request to the pushshift api adding the endpoint we are interested in:\n",
    "    https://api.pushshift.io/reddit/search/comment/?subreddit=coronavirus"
   ]
  },
  {
   "cell_type": "markdown",
   "metadata": {
    "slideshow": {
     "slide_type": "subslide"
    }
   },
   "source": [
    "# This is an example of a response\n",
    "\n",
    "<img src=\"Images/pushshift_example.png\"/>"
   ]
  },
  {
   "cell_type": "markdown",
   "metadata": {
    "slideshow": {
     "slide_type": "slide"
    }
   },
   "source": [
    "# What are we going to do here?"
   ]
  },
  {
   "cell_type": "markdown",
   "metadata": {
    "slideshow": {
     "slide_type": "fragment"
    }
   },
   "source": [
    "We are going to do some data-visualization using wordcloud API. The end goal will be to create an image made up of the most common words in the comments of our subreddit. "
   ]
  },
  {
   "cell_type": "markdown",
   "metadata": {
    "slideshow": {
     "slide_type": "fragment"
    }
   },
   "source": [
    "<img src=\"Images/wordcloud_example.jpg\" width=32% height=32%/>"
   ]
  },
  {
   "cell_type": "markdown",
   "metadata": {
    "slideshow": {
     "slide_type": "slide"
    }
   },
   "source": [
    "# Now let's start to write our code!"
   ]
  },
  {
   "cell_type": "code",
   "execution_count": 16,
   "metadata": {
    "slideshow": {
     "slide_type": "fragment"
    }
   },
   "outputs": [],
   "source": [
    "from wordcloud import WordCloud, STOPWORDS\n",
    "import requests\n",
    "\n",
    "#we can just add the name of the subreddit so that we don't have to change everytime the whole link\n",
    "base_url = 'https://api.pushshift.io/reddit/comment/search/?subreddit=' \n",
    "\n",
    "subreddit = 'coronavirus'\n",
    "\n",
    "#adding the name of our subreddit to the link\n",
    "url = f\"{base_url}{subreddit}\" \n",
    "\n",
    "#making the request to the api and getting the response\n",
    "res = requests.get(url)\n",
    "data = res.json()['data'] #we are going to store the results in a dictionary (look at the response example)\n",
    "\n"
   ]
  },
  {
   "cell_type": "markdown",
   "metadata": {
    "slideshow": {
     "slide_type": "subslide"
    }
   },
   "source": [
    "# Solve some problems"
   ]
  },
  {
   "cell_type": "markdown",
   "metadata": {
    "slideshow": {
     "slide_type": "fragment"
    }
   },
   "source": [
    "Now right now, we have an array of strings. This is a problem because wordcloud api processes a whole document, so what we need to do is just join all of our comments into a unique document."
   ]
  },
  {
   "cell_type": "code",
   "execution_count": 17,
   "metadata": {
    "slideshow": {
     "slide_type": "fragment"
    }
   },
   "outputs": [],
   "source": [
    "#joining each comment together of our 'body' in the data\n",
    "document = \" \".join(comment['body'] for comment in data)"
   ]
  },
  {
   "cell_type": "markdown",
   "metadata": {
    "slideshow": {
     "slide_type": "slide"
    }
   },
   "source": [
    "# Work with WordCloud API"
   ]
  },
  {
   "cell_type": "code",
   "execution_count": 18,
   "metadata": {},
   "outputs": [],
   "source": [
    "#create an instance of WordCloud\n",
    "\n",
    "#generate a wordcloud object\n",
    "wc = WordCloud().generate(document)\n",
    "\n",
    "image = wc.to_file('img.png')"
   ]
  },
  {
   "cell_type": "markdown",
   "metadata": {
    "slideshow": {
     "slide_type": "fragment"
    }
   },
   "source": [
    "<img src=\"img.png\"/>"
   ]
  },
  {
   "cell_type": "markdown",
   "metadata": {
    "slideshow": {
     "slide_type": "slide"
    }
   },
   "source": [
    "# Now let's try to make something a bit more aestetichs"
   ]
  },
  {
   "cell_type": "markdown",
   "metadata": {
    "slideshow": {
     "slide_type": "fragment"
    }
   },
   "source": [
    "We are going to import a shape of an image and fit the text inside of it.. since we are talking about coronavirus we are going to use this image!"
   ]
  },
  {
   "cell_type": "markdown",
   "metadata": {
    "slideshow": {
     "slide_type": "fragment"
    }
   },
   "source": [
    "<img src=\"Images/corona.png\" width=35% height=35%/>"
   ]
  },
  {
   "cell_type": "code",
   "execution_count": 19,
   "metadata": {
    "slideshow": {
     "slide_type": "subslide"
    }
   },
   "outputs": [
    {
     "data": {
      "text/plain": [
       "<wordcloud.wordcloud.WordCloud at 0x7fb32fa55d50>"
      ]
     },
     "execution_count": 19,
     "metadata": {},
     "output_type": "execute_result"
    }
   ],
   "source": [
    "from os import path\n",
    "from PIL import Image\n",
    "import os\n",
    "import numpy as np\n",
    "\n",
    "\n",
    "# get data directory (using getcwd() is needed to support running example in generated IPython notebook)\n",
    "d = path.dirname(__file__) if \"__file__\" in locals() else os.getcwd()\n",
    "\n",
    "# read the mask image\n",
    "corona_mask = np.array(Image.open(path.join(d, 'Images/corona.png')))\n",
    "\n",
    "#removing some non meaningful words\n",
    "stopwords = set(STOPWORDS)\n",
    "stopwords.add(\"know\")\n",
    "stopwords.add(\"now\")\n",
    "stopwords.add(\"many\")\n",
    "stopwords.add(\"lot\")\n",
    "stopwords.add(\"much\")\n",
    "stopwords.add(\"thing\")\n",
    "\n",
    "wc1 = WordCloud(background_color=\"white\", max_words=2000, mask=corona_mask,\n",
    "               stopwords=stopwords, contour_width=3, contour_color='steelblue')\n",
    "                \n",
    "wc1.generate(document)\n",
    "\n",
    "wc1.to_file(\"corona_w.png\")"
   ]
  },
  {
   "cell_type": "markdown",
   "metadata": {
    "slideshow": {
     "slide_type": "slide"
    }
   },
   "source": [
    "# And... this is the result!"
   ]
  },
  {
   "cell_type": "markdown",
   "metadata": {
    "slideshow": {
     "slide_type": "subslide"
    }
   },
   "source": [
    "<img src=\"corona_w.png\" />"
   ]
  },
  {
   "cell_type": "markdown",
   "metadata": {
    "slideshow": {
     "slide_type": "slide"
    }
   },
   "source": [
    "# End references\n",
    "\n",
    "If you are interested in the topic and want to know more here are some references:\n",
    "\n",
    "* PRAW: https://praw.readthedocs.io/\n",
    "* PushShift: https://github.com/pushshift/api\n",
    "* WordCloud: https://github.com/amueller/word_cloud"
   ]
  },
  {
   "cell_type": "code",
   "execution_count": null,
   "metadata": {},
   "outputs": [],
   "source": []
  }
 ],
 "metadata": {
  "celltoolbar": "Slideshow",
  "kernelspec": {
   "display_name": "Python 3",
   "language": "python",
   "name": "python3"
  },
  "language_info": {
   "codemirror_mode": {
    "name": "ipython",
    "version": 3
   },
   "file_extension": ".py",
   "mimetype": "text/x-python",
   "name": "python",
   "nbconvert_exporter": "python",
   "pygments_lexer": "ipython3",
   "version": "3.7.4"
  }
 },
 "nbformat": 4,
 "nbformat_minor": 2
}
