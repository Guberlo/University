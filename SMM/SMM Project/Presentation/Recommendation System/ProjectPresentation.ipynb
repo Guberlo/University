{
 "cells": [
  {
   "cell_type": "markdown",
   "metadata": {
    "slideshow": {
     "slide_type": "slide"
    }
   },
   "source": [
    "# Advertising recommendation system "
   ]
  },
  {
   "cell_type": "markdown",
   "metadata": {
    "slideshow": {
     "slide_type": "fragment"
    }
   },
   "source": [
    "Usually, a recommendation system is used by corporations in order to suggest something to their users. This \"something\" is usually valuable in money so suggesting an item that could be interesting for the user is positive both for the company and for the user."
   ]
  },
  {
   "cell_type": "markdown",
   "metadata": {
    "slideshow": {
     "slide_type": "slide"
    }
   },
   "source": [
    "# Why \"advertising\"?"
   ]
  },
  {
   "cell_type": "markdown",
   "metadata": {
    "slideshow": {
     "slide_type": "fragment"
    }
   },
   "source": [
    "Advertising the right customers about a product could make the difference. \n",
    "The idea behind this project is to give to the company a suggestion on which users, who are really interested in the product, to advertise. Doing this, we will avoid to spam ads which are not interesting for the user."
   ]
  },
  {
   "cell_type": "markdown",
   "metadata": {
    "slideshow": {
     "slide_type": "fragment"
    }
   },
   "source": [
    "<img src=\"Images/ads.jpg\" />"
   ]
  },
  {
   "cell_type": "markdown",
   "metadata": {
    "slideshow": {
     "slide_type": "slide"
    }
   },
   "source": [
    "# Building a recommendation system"
   ]
  },
  {
   "cell_type": "markdown",
   "metadata": {
    "slideshow": {
     "slide_type": "fragment"
    }
   },
   "source": [
    "We are going to try to build this kind of recommendation system with only a small amount of data crawled from reddit.\n",
    "In particular, we are going to get some data from r/movies."
   ]
  },
  {
   "cell_type": "markdown",
   "metadata": {
    "slideshow": {
     "slide_type": "slide"
    }
   },
   "source": [
    "# What do we need to build a recommendation system?"
   ]
  },
  {
   "cell_type": "markdown",
   "metadata": {
    "slideshow": {
     "slide_type": "fragment"
    }
   },
   "source": [
    "The main answer is **DATA!**"
   ]
  },
  {
   "cell_type": "markdown",
   "metadata": {
    "slideshow": {
     "slide_type": "fragment"
    }
   },
   "source": [
    "In particular, we need data about users. Indeed, in order to build a recommendation system, we need people's opinions about items. So, in our case, what we need to do is to look for discussions in which users are asked to say something about a film."
   ]
  },
  {
   "cell_type": "markdown",
   "metadata": {
    "slideshow": {
     "slide_type": "slide"
    }
   },
   "source": [
    "# Take a look at our data"
   ]
  },
  {
   "cell_type": "markdown",
   "metadata": {
    "slideshow": {
     "slide_type": "fragment"
    }
   },
   "source": [
    "After we've collected our data using PRAW API, let's give it a look."
   ]
  },
  {
   "cell_type": "code",
   "execution_count": 4,
   "metadata": {
    "scrolled": false,
    "slideshow": {
     "slide_type": "fragment"
    }
   },
   "outputs": [
    {
     "data": {
      "text/html": [
       "<div>\n",
       "<style scoped>\n",
       "    .dataframe tbody tr th:only-of-type {\n",
       "        vertical-align: middle;\n",
       "    }\n",
       "\n",
       "    .dataframe tbody tr th {\n",
       "        vertical-align: top;\n",
       "    }\n",
       "\n",
       "    .dataframe thead th {\n",
       "        text-align: right;\n",
       "    }\n",
       "</style>\n",
       "<table border=\"1\" class=\"dataframe\">\n",
       "  <thead>\n",
       "    <tr style=\"text-align: right;\">\n",
       "      <th></th>\n",
       "      <th>Title</th>\n",
       "      <th>Comment</th>\n",
       "      <th>User</th>\n",
       "    </tr>\n",
       "  </thead>\n",
       "  <tbody>\n",
       "    <tr>\n",
       "      <td>0</td>\n",
       "      <td>What do you think about the movie The Princess...</td>\n",
       "      <td>It never fails to bring laughs, no matter how ...</td>\n",
       "      <td>vicky436</td>\n",
       "    </tr>\n",
       "    <tr>\n",
       "      <td>1</td>\n",
       "      <td>What do you think about the movie The Princess...</td>\n",
       "      <td>It's not a good movie, it's the best movie eve...</td>\n",
       "      <td>jakethesnake741</td>\n",
       "    </tr>\n",
       "    <tr>\n",
       "      <td>2</td>\n",
       "      <td>What do you think about the movie The Princess...</td>\n",
       "      <td>If your friend doesn't love this movie he does...</td>\n",
       "      <td>jrobertson50</td>\n",
       "    </tr>\n",
       "    <tr>\n",
       "      <td>3</td>\n",
       "      <td>What do you think about the movie The Princess...</td>\n",
       "      <td>Not liking the movie is inconceivable!</td>\n",
       "      <td>Antelino</td>\n",
       "    </tr>\n",
       "    <tr>\n",
       "      <td>4</td>\n",
       "      <td>What do you think about the movie The Princess...</td>\n",
       "      <td>#Anybody want a peanut?</td>\n",
       "      <td>UHeardAboutPluto</td>\n",
       "    </tr>\n",
       "    <tr>\n",
       "      <td>...</td>\n",
       "      <td>...</td>\n",
       "      <td>...</td>\n",
       "      <td>...</td>\n",
       "    </tr>\n",
       "    <tr>\n",
       "      <td>496</td>\n",
       "      <td>What do you think about Del Toro's CRONOS ?</td>\n",
       "      <td>Great story and acting, and very moody</td>\n",
       "      <td>DrScientist812</td>\n",
       "    </tr>\n",
       "    <tr>\n",
       "      <td>497</td>\n",
       "      <td>What do you think about Matt Reeves remake, Le...</td>\n",
       "      <td>It might be alright. I haven't seen it yet. It...</td>\n",
       "      <td>None</td>\n",
       "    </tr>\n",
       "    <tr>\n",
       "      <td>498</td>\n",
       "      <td>What do you think about Matt Reeves remake, Le...</td>\n",
       "      <td>I'm *trying* not to think of it. It makes me m...</td>\n",
       "      <td>None</td>\n",
       "    </tr>\n",
       "    <tr>\n",
       "      <td>499</td>\n",
       "      <td>So what do you think about Nolan directing a b...</td>\n",
       "      <td>I'll allow it.*\\n\\n*as long as Bale/DiCaprio/J...</td>\n",
       "      <td>SithLard</td>\n",
       "    </tr>\n",
       "    <tr>\n",
       "      <td>500</td>\n",
       "      <td>So what do you think about Nolan directing a b...</td>\n",
       "      <td>I think it would have an epic soundtrack.</td>\n",
       "      <td>MFchimichanga</td>\n",
       "    </tr>\n",
       "  </tbody>\n",
       "</table>\n",
       "<p>501 rows × 3 columns</p>\n",
       "</div>"
      ],
      "text/plain": [
       "                                                 Title  \\\n",
       "0    What do you think about the movie The Princess...   \n",
       "1    What do you think about the movie The Princess...   \n",
       "2    What do you think about the movie The Princess...   \n",
       "3    What do you think about the movie The Princess...   \n",
       "4    What do you think about the movie The Princess...   \n",
       "..                                                 ...   \n",
       "496        What do you think about Del Toro's CRONOS ?   \n",
       "497  What do you think about Matt Reeves remake, Le...   \n",
       "498  What do you think about Matt Reeves remake, Le...   \n",
       "499  So what do you think about Nolan directing a b...   \n",
       "500  So what do you think about Nolan directing a b...   \n",
       "\n",
       "                                               Comment              User  \n",
       "0    It never fails to bring laughs, no matter how ...          vicky436  \n",
       "1    It's not a good movie, it's the best movie eve...   jakethesnake741  \n",
       "2    If your friend doesn't love this movie he does...      jrobertson50  \n",
       "3              Not liking the movie is inconceivable!           Antelino  \n",
       "4                              #Anybody want a peanut?  UHeardAboutPluto  \n",
       "..                                                 ...               ...  \n",
       "496             Great story and acting, and very moody    DrScientist812  \n",
       "497  It might be alright. I haven't seen it yet. It...              None  \n",
       "498  I'm *trying* not to think of it. It makes me m...              None  \n",
       "499  I'll allow it.*\\n\\n*as long as Bale/DiCaprio/J...          SithLard  \n",
       "500          I think it would have an epic soundtrack.     MFchimichanga  \n",
       "\n",
       "[501 rows x 3 columns]"
      ]
     },
     "execution_count": 4,
     "metadata": {},
     "output_type": "execute_result"
    }
   ],
   "source": [
    "#visualize some rows of the dataframe"
   ]
  },
  {
   "cell_type": "code",
   "execution_count": 1,
   "metadata": {
    "slideshow": {
     "slide_type": "subslide"
    }
   },
   "outputs": [
    {
     "name": "stdout",
     "output_type": "stream",
     "text": [
      "<class 'pandas.core.frame.DataFrame'>\n",
      "RangeIndex: 455 entries, 0 to 454\n",
      "Data columns (total 3 columns):\n",
      "Title      455 non-null object\n",
      "Comment    455 non-null object\n",
      "User       455 non-null object\n",
      "dtypes: object(3)\n",
      "memory usage: 10.8+ KB\n"
     ]
    },
    {
     "data": {
      "text/html": [
       "<div>\n",
       "<style scoped>\n",
       "    .dataframe tbody tr th:only-of-type {\n",
       "        vertical-align: middle;\n",
       "    }\n",
       "\n",
       "    .dataframe tbody tr th {\n",
       "        vertical-align: top;\n",
       "    }\n",
       "\n",
       "    .dataframe thead th {\n",
       "        text-align: right;\n",
       "    }\n",
       "</style>\n",
       "<table border=\"1\" class=\"dataframe\">\n",
       "  <thead>\n",
       "    <tr style=\"text-align: right;\">\n",
       "      <th></th>\n",
       "      <th>Title</th>\n",
       "      <th>Comment</th>\n",
       "      <th>User</th>\n",
       "    </tr>\n",
       "  </thead>\n",
       "  <tbody>\n",
       "    <tr>\n",
       "      <td>count</td>\n",
       "      <td>455</td>\n",
       "      <td>455</td>\n",
       "      <td>455</td>\n",
       "    </tr>\n",
       "    <tr>\n",
       "      <td>unique</td>\n",
       "      <td>34</td>\n",
       "      <td>452</td>\n",
       "      <td>388</td>\n",
       "    </tr>\n",
       "    <tr>\n",
       "      <td>top</td>\n",
       "      <td>The Princess Bride</td>\n",
       "      <td>[deleted]</td>\n",
       "      <td>None</td>\n",
       "    </tr>\n",
       "    <tr>\n",
       "      <td>freq</td>\n",
       "      <td>56</td>\n",
       "      <td>3</td>\n",
       "      <td>45</td>\n",
       "    </tr>\n",
       "  </tbody>\n",
       "</table>\n",
       "</div>"
      ],
      "text/plain": [
       "                     Title    Comment  User\n",
       "count                  455        455   455\n",
       "unique                  34        452   388\n",
       "top     The Princess Bride  [deleted]  None\n",
       "freq                    56          3    45"
      ]
     },
     "execution_count": 1,
     "metadata": {},
     "output_type": "execute_result"
    }
   ],
   "source": [
    "#get some info about dataframe"
   ]
  },
  {
   "cell_type": "code",
   "execution_count": 5,
   "metadata": {
    "scrolled": true,
    "slideshow": {
     "slide_type": "subslide"
    }
   },
   "outputs": [
    {
     "data": {
      "image/png": "[encoded data removed]",
      "text/plain": [
       "<Figure size 864x432 with 1 Axes>"
      ]
     },
     "metadata": {
      "needs_background": "light"
     },
     "output_type": "display_data"
    }
   ],
   "source": [
    "#plot the number of users per each discussion"
   ]
  },
  {
   "cell_type": "code",
   "execution_count": 4,
   "metadata": {
    "scrolled": true,
    "slideshow": {
     "slide_type": "subslide"
    }
   },
   "outputs": [
    {
     "data": {
      "image/png": "[encoded data removed]",
      "text/plain": [
       "<Figure size 8640x4320 with 1 Axes>"
      ]
     },
     "metadata": {
      "needs_background": "light"
     },
     "output_type": "display_data"
    }
   ],
   "source": [
    "#plot the number of comments per user"
   ]
  },
  {
   "cell_type": "markdown",
   "metadata": {
    "slideshow": {
     "slide_type": "slide"
    }
   },
   "source": [
    "# Transform the comments in a rating"
   ]
  },
  {
   "cell_type": "markdown",
   "metadata": {
    "slideshow": {
     "slide_type": "fragment"
    }
   },
   "source": [
    "Since we have just text comments, we need a way to transform those in a number which can express the user's opinion about that item."
   ]
  },
  {
   "cell_type": "markdown",
   "metadata": {
    "slideshow": {
     "slide_type": "slide"
    }
   },
   "source": [
    "# Convert comments into ratings using Sentiment Analysis\n",
    "After we have collected our data  from reddit, we can start to analyze the comments in order to get the relative sentiment. In order to do this, we are going to use VADER."
   ]
  },
  {
   "cell_type": "code",
   "execution_count": 1,
   "metadata": {
    "slideshow": {
     "slide_type": "fragment"
    }
   },
   "outputs": [
    {
     "name": "stdout",
     "output_type": "stream",
     "text": [
      "<class 'pandas.core.frame.DataFrame'>\n",
      "RangeIndex: 455 entries, 0 to 454\n",
      "Data columns (total 3 columns):\n",
      "Title      455 non-null object\n",
      "Comment    455 non-null object\n",
      "User       455 non-null object\n",
      "dtypes: object(3)\n",
      "memory usage: 10.8+ KB\n"
     ]
    }
   ],
   "source": [
    "import pandas as pd\n",
    "import nltk\n",
    "\n",
    "nltk.download('vader_lexicon')\n",
    "\n",
    "data_set = pd.read_csv('data_set.csv')\n",
    "data_set.info()"
   ]
  },
  {
   "cell_type": "markdown",
   "metadata": {
    "slideshow": {
     "slide_type": "slide"
    }
   },
   "source": [
    "# VADER\n",
    "We are now going to apply VADER's algorithm to each of our comments in the dataset, taking just the compound score which is a normalized sum of all the other scores (pos, neu, neg)."
   ]
  },
  {
   "cell_type": "code",
   "execution_count": 2,
   "metadata": {
    "slideshow": {
     "slide_type": "fragment"
    }
   },
   "outputs": [
    {
     "data": {
      "text/plain": [
       "0.5994"
      ]
     },
     "execution_count": 2,
     "metadata": {},
     "output_type": "execute_result"
    }
   ],
   "source": [
    "from nltk.sentiment.vader import SentimentIntensityAnalyzer\n",
    "\n",
    "sid = SentimentIntensityAnalyzer()\n",
    "\n",
    "#creating a lambda function which computes the scores for x and getting only the compound\n",
    "sentiment = lambda x: sid.polarity_scores(x)['compound']\n",
    "sentiment(data_set.loc[0]['Comment'])"
   ]
  },
  {
   "cell_type": "code",
   "execution_count": 3,
   "metadata": {
    "scrolled": true,
    "slideshow": {
     "slide_type": "subslide"
    }
   },
   "outputs": [
    {
     "name": "stderr",
     "output_type": "stream",
     "text": [
      "/home/default/anaconda3/lib/python3.7/site-packages/tqdm/std.py:648: FutureWarning: The Panel class is removed from pandas. Accessing it from the top-level namespace will also be removed in the next version\n",
      "  from pandas import Panel\n",
      "100%|██████████| 455/455 [00:00<00:00, 1621.74it/s]\n"
     ]
    },
    {
     "data": {
      "text/html": [
       "<div>\n",
       "<style scoped>\n",
       "    .dataframe tbody tr th:only-of-type {\n",
       "        vertical-align: middle;\n",
       "    }\n",
       "\n",
       "    .dataframe tbody tr th {\n",
       "        vertical-align: top;\n",
       "    }\n",
       "\n",
       "    .dataframe thead th {\n",
       "        text-align: right;\n",
       "    }\n",
       "</style>\n",
       "<table border=\"1\" class=\"dataframe\">\n",
       "  <thead>\n",
       "    <tr style=\"text-align: right;\">\n",
       "      <th></th>\n",
       "      <th>Title</th>\n",
       "      <th>Comment</th>\n",
       "      <th>User</th>\n",
       "      <th>Sentiment</th>\n",
       "    </tr>\n",
       "  </thead>\n",
       "  <tbody>\n",
       "    <tr>\n",
       "      <td>0</td>\n",
       "      <td>A Clockwork Orange</td>\n",
       "      <td>Loved the book, movie was mediocre</td>\n",
       "      <td>19lins90</td>\n",
       "      <td>0.5994</td>\n",
       "    </tr>\n",
       "    <tr>\n",
       "      <td>1</td>\n",
       "      <td>A Clockwork Orange</td>\n",
       "      <td>My buddy told me it was one of his all time fa...</td>\n",
       "      <td>Anefor</td>\n",
       "      <td>0.6369</td>\n",
       "    </tr>\n",
       "    <tr>\n",
       "      <td>2</td>\n",
       "      <td>A Clockwork Orange</td>\n",
       "      <td>I think it's hard to put the extreme emotions ...</td>\n",
       "      <td>cheddarfire</td>\n",
       "      <td>-0.4310</td>\n",
       "    </tr>\n",
       "    <tr>\n",
       "      <td>3</td>\n",
       "      <td>A Clockwork Orange</td>\n",
       "      <td>I haven't seen it but I'm tempted to watch it....</td>\n",
       "      <td>DanceFactory</td>\n",
       "      <td>-0.5965</td>\n",
       "    </tr>\n",
       "    <tr>\n",
       "      <td>4</td>\n",
       "      <td>A Clockwork Orange</td>\n",
       "      <td>I saw it once, and really enjoyed it but I've ...</td>\n",
       "      <td>High7323</td>\n",
       "      <td>0.1770</td>\n",
       "    </tr>\n",
       "  </tbody>\n",
       "</table>\n",
       "</div>"
      ],
      "text/plain": [
       "                Title                                            Comment  \\\n",
       "0  A Clockwork Orange                 Loved the book, movie was mediocre   \n",
       "1  A Clockwork Orange  My buddy told me it was one of his all time fa...   \n",
       "2  A Clockwork Orange  I think it's hard to put the extreme emotions ...   \n",
       "3  A Clockwork Orange  I haven't seen it but I'm tempted to watch it....   \n",
       "4  A Clockwork Orange  I saw it once, and really enjoyed it but I've ...   \n",
       "\n",
       "           User  Sentiment  \n",
       "0      19lins90     0.5994  \n",
       "1        Anefor     0.6369  \n",
       "2   cheddarfire    -0.4310  \n",
       "3  DanceFactory    -0.5965  \n",
       "4      High7323     0.1770  "
      ]
     },
     "execution_count": 3,
     "metadata": {},
     "output_type": "execute_result"
    }
   ],
   "source": [
    "from tqdm import tqdm\n",
    "tqdm.pandas()\n",
    "\n",
    "#applying that function to our dataset\n",
    "data_set['Sentiment'] = data_set['Comment'].progress_apply(sentiment)\n",
    "data_set.head()\n",
    "\n",
    "data_set.to_csv('Sentiment.csv', index=False)"
   ]
  },
  {
   "cell_type": "markdown",
   "metadata": {
    "slideshow": {
     "slide_type": "slide"
    }
   },
   "source": [
    "# Let's now build our recommendation system"
   ]
  },
  {
   "cell_type": "markdown",
   "metadata": {
    "slideshow": {
     "slide_type": "fragment"
    }
   },
   "source": [
    "First of all, let's load our new dataset created before"
   ]
  },
  {
   "cell_type": "code",
   "execution_count": 1,
   "metadata": {
    "slideshow": {
     "slide_type": "fragment"
    }
   },
   "outputs": [
    {
     "data": {
      "text/html": [
       "<div>\n",
       "<style scoped>\n",
       "    .dataframe tbody tr th:only-of-type {\n",
       "        vertical-align: middle;\n",
       "    }\n",
       "\n",
       "    .dataframe tbody tr th {\n",
       "        vertical-align: top;\n",
       "    }\n",
       "\n",
       "    .dataframe thead th {\n",
       "        text-align: right;\n",
       "    }\n",
       "</style>\n",
       "<table border=\"1\" class=\"dataframe\">\n",
       "  <thead>\n",
       "    <tr style=\"text-align: right;\">\n",
       "      <th></th>\n",
       "      <th>Title</th>\n",
       "      <th>Comment</th>\n",
       "      <th>User</th>\n",
       "      <th>Sentiment</th>\n",
       "    </tr>\n",
       "  </thead>\n",
       "  <tbody>\n",
       "    <tr>\n",
       "      <td>119</td>\n",
       "      <td>Edge of Tomorrow</td>\n",
       "      <td>Fantastic movie, I watched it for Emily Blunt ...</td>\n",
       "      <td>0and123</td>\n",
       "      <td>0.9201</td>\n",
       "    </tr>\n",
       "    <tr>\n",
       "      <td>177</td>\n",
       "      <td>Monuments Men</td>\n",
       "      <td>It looks very good, but I am concerned about t...</td>\n",
       "      <td>111584</td>\n",
       "      <td>-0.3514</td>\n",
       "    </tr>\n",
       "    <tr>\n",
       "      <td>162</td>\n",
       "      <td>Face/Off</td>\n",
       "      <td>I think you need to take it for what it is, it...</td>\n",
       "      <td>1900WPowerfulcleaner</td>\n",
       "      <td>0.8898</td>\n",
       "    </tr>\n",
       "    <tr>\n",
       "      <td>0</td>\n",
       "      <td>A Clockwork Orange</td>\n",
       "      <td>Loved the book, movie was mediocre</td>\n",
       "      <td>19lins90</td>\n",
       "      <td>0.5994</td>\n",
       "    </tr>\n",
       "    <tr>\n",
       "      <td>326</td>\n",
       "      <td>The Princess Bride</td>\n",
       "      <td>I broke up with a girl over this movie, after ...</td>\n",
       "      <td>1Q72</td>\n",
       "      <td>0.1154</td>\n",
       "    </tr>\n",
       "  </tbody>\n",
       "</table>\n",
       "</div>"
      ],
      "text/plain": [
       "                  Title                                            Comment  \\\n",
       "119    Edge of Tomorrow  Fantastic movie, I watched it for Emily Blunt ...   \n",
       "177       Monuments Men  It looks very good, but I am concerned about t...   \n",
       "162            Face/Off  I think you need to take it for what it is, it...   \n",
       "0    A Clockwork Orange                 Loved the book, movie was mediocre   \n",
       "326  The Princess Bride  I broke up with a girl over this movie, after ...   \n",
       "\n",
       "                     User  Sentiment  \n",
       "119               0and123     0.9201  \n",
       "177                111584    -0.3514  \n",
       "162  1900WPowerfulcleaner     0.8898  \n",
       "0                19lins90     0.5994  \n",
       "326                  1Q72     0.1154  "
      ]
     },
     "execution_count": 1,
     "metadata": {},
     "output_type": "execute_result"
    }
   ],
   "source": [
    "import pandas as pd\n",
    "import numpy as np\n",
    "\n",
    "data = pd.read_csv('Sentiment.csv')\n",
    "data = data[data.User != \"None\"].reset_index(drop=True)\n",
    "data = data.drop([329, 197, 112]).reset_index(drop=True).sort_values(by=['User']) #drop users who have commented the same post more than once\n",
    "data.head()"
   ]
  },
  {
   "cell_type": "markdown",
   "metadata": {
    "slideshow": {
     "slide_type": "slide"
    }
   },
   "source": [
    "# Transform titles and users into ids"
   ]
  },
  {
   "cell_type": "code",
   "execution_count": 2,
   "metadata": {
    "slideshow": {
     "slide_type": "fragment"
    }
   },
   "outputs": [
    {
     "name": "stdout",
     "output_type": "stream",
     "text": [
      "387\n"
     ]
    }
   ],
   "source": [
    "#get user unique ids\n",
    "users = data['User'].unique()\n",
    "print(len(users))\n",
    "users_id = {}\n",
    "\n",
    "for i in range(0, len(users)):\n",
    "    users_id.update({i:users[i]})\n",
    "    \n",
    "#assignign each comment author his id\n",
    "\n",
    "u_id = []\n",
    "for u in data['User']:\n",
    "    for i in range(0,len(users_id)):\n",
    "        if u == users_id[i]:\n",
    "            u_id.append(i)\n",
    "            \n",
    "data['User_id'] = u_id"
   ]
  },
  {
   "cell_type": "code",
   "execution_count": 3,
   "metadata": {
    "scrolled": true,
    "slideshow": {
     "slide_type": "subslide"
    }
   },
   "outputs": [
    {
     "data": {
      "text/html": [
       "<div>\n",
       "<style scoped>\n",
       "    .dataframe tbody tr th:only-of-type {\n",
       "        vertical-align: middle;\n",
       "    }\n",
       "\n",
       "    .dataframe tbody tr th {\n",
       "        vertical-align: top;\n",
       "    }\n",
       "\n",
       "    .dataframe thead th {\n",
       "        text-align: right;\n",
       "    }\n",
       "</style>\n",
       "<table border=\"1\" class=\"dataframe\">\n",
       "  <thead>\n",
       "    <tr style=\"text-align: right;\">\n",
       "      <th></th>\n",
       "      <th>Title</th>\n",
       "      <th>Comment</th>\n",
       "      <th>User</th>\n",
       "      <th>Sentiment</th>\n",
       "      <th>User_id</th>\n",
       "      <th>Title_id</th>\n",
       "    </tr>\n",
       "  </thead>\n",
       "  <tbody>\n",
       "    <tr>\n",
       "      <td>119</td>\n",
       "      <td>Edge of Tomorrow</td>\n",
       "      <td>Fantastic movie, I watched it for Emily Blunt ...</td>\n",
       "      <td>0and123</td>\n",
       "      <td>0.9201</td>\n",
       "      <td>0</td>\n",
       "      <td>0</td>\n",
       "    </tr>\n",
       "    <tr>\n",
       "      <td>177</td>\n",
       "      <td>Monuments Men</td>\n",
       "      <td>It looks very good, but I am concerned about t...</td>\n",
       "      <td>111584</td>\n",
       "      <td>-0.3514</td>\n",
       "      <td>1</td>\n",
       "      <td>1</td>\n",
       "    </tr>\n",
       "    <tr>\n",
       "      <td>162</td>\n",
       "      <td>Face/Off</td>\n",
       "      <td>I think you need to take it for what it is, it...</td>\n",
       "      <td>1900WPowerfulcleaner</td>\n",
       "      <td>0.8898</td>\n",
       "      <td>2</td>\n",
       "      <td>2</td>\n",
       "    </tr>\n",
       "    <tr>\n",
       "      <td>0</td>\n",
       "      <td>A Clockwork Orange</td>\n",
       "      <td>Loved the book, movie was mediocre</td>\n",
       "      <td>19lins90</td>\n",
       "      <td>0.5994</td>\n",
       "      <td>3</td>\n",
       "      <td>3</td>\n",
       "    </tr>\n",
       "    <tr>\n",
       "      <td>326</td>\n",
       "      <td>The Princess Bride</td>\n",
       "      <td>I broke up with a girl over this movie, after ...</td>\n",
       "      <td>1Q72</td>\n",
       "      <td>0.1154</td>\n",
       "      <td>4</td>\n",
       "      <td>4</td>\n",
       "    </tr>\n",
       "    <tr>\n",
       "      <td>...</td>\n",
       "      <td>...</td>\n",
       "      <td>...</td>\n",
       "      <td>...</td>\n",
       "      <td>...</td>\n",
       "      <td>...</td>\n",
       "      <td>...</td>\n",
       "    </tr>\n",
       "    <tr>\n",
       "      <td>292</td>\n",
       "      <td>The Godfather Part 3</td>\n",
       "      <td>&gt; Robert Duvall was also sorely missed as Tom ...</td>\n",
       "      <td>yokelwombat</td>\n",
       "      <td>-0.2960</td>\n",
       "      <td>382</td>\n",
       "      <td>7</td>\n",
       "    </tr>\n",
       "    <tr>\n",
       "      <td>80</td>\n",
       "      <td>Contagion</td>\n",
       "      <td>Terrifying and realistic. I assembled a small ...</td>\n",
       "      <td>zargalarg</td>\n",
       "      <td>-0.7430</td>\n",
       "      <td>383</td>\n",
       "      <td>16</td>\n",
       "    </tr>\n",
       "    <tr>\n",
       "      <td>395</td>\n",
       "      <td>Vader: Resurrection</td>\n",
       "      <td>I think it's a bad idea.  That being said, I a...</td>\n",
       "      <td>zeronullzero</td>\n",
       "      <td>-0.6459</td>\n",
       "      <td>384</td>\n",
       "      <td>8</td>\n",
       "    </tr>\n",
       "    <tr>\n",
       "      <td>70</td>\n",
       "      <td>Carlito's Way</td>\n",
       "      <td>Benny from the Bronx!!</td>\n",
       "      <td>ziplocfullacock</td>\n",
       "      <td>0.0000</td>\n",
       "      <td>385</td>\n",
       "      <td>5</td>\n",
       "    </tr>\n",
       "    <tr>\n",
       "      <td>233</td>\n",
       "      <td>Solo: a Star Wars Story</td>\n",
       "      <td>but Solo isn't an origin story</td>\n",
       "      <td>zmeul</td>\n",
       "      <td>0.0000</td>\n",
       "      <td>386</td>\n",
       "      <td>14</td>\n",
       "    </tr>\n",
       "  </tbody>\n",
       "</table>\n",
       "<p>407 rows × 6 columns</p>\n",
       "</div>"
      ],
      "text/plain": [
       "                       Title  \\\n",
       "119         Edge of Tomorrow   \n",
       "177            Monuments Men   \n",
       "162                 Face/Off   \n",
       "0         A Clockwork Orange   \n",
       "326       The Princess Bride   \n",
       "..                       ...   \n",
       "292     The Godfather Part 3   \n",
       "80                 Contagion   \n",
       "395      Vader: Resurrection   \n",
       "70             Carlito's Way   \n",
       "233  Solo: a Star Wars Story   \n",
       "\n",
       "                                               Comment                  User  \\\n",
       "119  Fantastic movie, I watched it for Emily Blunt ...               0and123   \n",
       "177  It looks very good, but I am concerned about t...                111584   \n",
       "162  I think you need to take it for what it is, it...  1900WPowerfulcleaner   \n",
       "0                   Loved the book, movie was mediocre              19lins90   \n",
       "326  I broke up with a girl over this movie, after ...                  1Q72   \n",
       "..                                                 ...                   ...   \n",
       "292  > Robert Duvall was also sorely missed as Tom ...           yokelwombat   \n",
       "80   Terrifying and realistic. I assembled a small ...             zargalarg   \n",
       "395  I think it's a bad idea.  That being said, I a...          zeronullzero   \n",
       "70                              Benny from the Bronx!!       ziplocfullacock   \n",
       "233                     but Solo isn't an origin story                 zmeul   \n",
       "\n",
       "     Sentiment  User_id  Title_id  \n",
       "119     0.9201        0         0  \n",
       "177    -0.3514        1         1  \n",
       "162     0.8898        2         2  \n",
       "0       0.5994        3         3  \n",
       "326     0.1154        4         4  \n",
       "..         ...      ...       ...  \n",
       "292    -0.2960      382         7  \n",
       "80     -0.7430      383        16  \n",
       "395    -0.6459      384         8  \n",
       "70      0.0000      385         5  \n",
       "233     0.0000      386        14  \n",
       "\n",
       "[407 rows x 6 columns]"
      ]
     },
     "execution_count": 3,
     "metadata": {},
     "output_type": "execute_result"
    }
   ],
   "source": [
    "#get title unique ids\n",
    "\n",
    "titles = data['Title'].unique() #makes an array of titles\n",
    "titles_id = {}\n",
    "\n",
    "for i in range(0, len(titles)):\n",
    "    titles_id.update({i:titles[i]})\n",
    "\n",
    "titles_id[0]\n",
    "\n",
    "#assignign each comment author his id\n",
    "\n",
    "t_id = []\n",
    "for t in data['Title']:\n",
    "    for i in range(0,len(titles_id)):\n",
    "        if t == titles_id[i]:\n",
    "            t_id.append(i)\n",
    "            \n",
    "\n",
    "data['Title_id'] = t_id\n",
    "data"
   ]
  },
  {
   "cell_type": "markdown",
   "metadata": {
    "slideshow": {
     "slide_type": "slide"
    }
   },
   "source": [
    "# Getting items profile"
   ]
  },
  {
   "cell_type": "markdown",
   "metadata": {
    "slideshow": {
     "slide_type": "fragment"
    }
   },
   "source": [
    "In order to get the item profiles we are going to create a BOW representation of all the comments, applying TF-IDF and represent each item with its representation vector."
   ]
  },
  {
   "cell_type": "code",
   "execution_count": 4,
   "metadata": {
    "slideshow": {
     "slide_type": "fragment"
    }
   },
   "outputs": [
    {
     "name": "stdout",
     "output_type": "stream",
     "text": [
      "[[0. 0. 0. ... 0. 0. 0.]]\n",
      "3096\n"
     ]
    },
    {
     "data": {
      "text/plain": [
       "(1, 3096)"
      ]
     },
     "execution_count": 4,
     "metadata": {},
     "output_type": "execute_result"
    }
   ],
   "source": [
    "from sklearn.feature_extraction.text import CountVectorizer\n",
    "from sklearn.feature_extraction.text import TfidfTransformer\n",
    "\n",
    "count_vec = CountVectorizer()\n",
    "comment_count = count_vec.fit_transform(data['Comment']) # Creating a BOW for all the comments\n",
    "\n",
    "\n",
    "tfidf = TfidfTransformer(smooth_idf=True, use_idf=True)\n",
    "tfidf.fit(comment_count) # Applying TF-IDF to our BOW model\n",
    "\n",
    "item_profiles = [] # Array where profiles will be stored\n",
    "\n",
    "for t in titles:\n",
    "    data1 = data[data['Title'] == t]\n",
    "    comments = [' '.join(data1['Comment'])]# Joins all the comments for that title, creating a document\n",
    "    item_profiles.append(tfidf.transform(count_vec.transform(comments))) # Append the BOW representation for that title\n",
    "    \n",
    "print(item_profiles[0].toarray())\n",
    "print(len(count_vec.vocabulary_))\n",
    "item_profiles[0].shape"
   ]
  },
  {
   "cell_type": "markdown",
   "metadata": {
    "slideshow": {
     "slide_type": "slide"
    }
   },
   "source": [
    "# Calculating users profile"
   ]
  },
  {
   "cell_type": "markdown",
   "metadata": {
    "slideshow": {
     "slide_type": "fragment"
    }
   },
   "source": [
    "Since we have got so few data about users (as we can see before in the plots,the majority of the users have just expressed one opinion for one item), we are not able to use a collaborative filtering approach. Instead, we are going to use a content-based filtering approach."
   ]
  },
  {
   "cell_type": "markdown",
   "metadata": {
    "slideshow": {
     "slide_type": "fragment"
    }
   },
   "source": [
    "We are going to calculate the user profile as the sum of each item he has \"rated\" multiplied by the relative sentiment.<br>\n",
    "For example: the user **A** has rated these items **{1,2,3}**. The user profile is calculated as:\n",
    "       <div align=\"center\">***(profile(1) * sentiment(1)) + (profile(2) * sentiment(2)) + (profile(3) * sentiment(3))***</div>\n",
    "Then, to have a normalized result, we are going to divide by the number of items he has rated."
   ]
  },
  {
   "cell_type": "markdown",
   "metadata": {
    "slideshow": {
     "slide_type": "slide"
    }
   },
   "source": [
    "# Code"
   ]
  },
  {
   "cell_type": "code",
   "execution_count": 5,
   "metadata": {},
   "outputs": [
    {
     "name": "stdout",
     "output_type": "stream",
     "text": [
      "(1, 3096)\n",
      "[[0. 0. 0. ... 0. 0. 0.]]\n"
     ]
    }
   ],
   "source": [
    "# Calculate user profiles as follow:\n",
    "# Sum all the item profiles for the films he gave a rating and multiply each of that for the corresponding sentiment\n",
    "\n",
    "user_profile = []\n",
    "\n",
    "# Getting the number of 'ratings' of users\n",
    "rating_count = data.groupby(['User_id'], as_index=True).size().tolist()\n",
    "\n",
    "for i in range (0,len(users)):\n",
    "    user_profile.append(0)\n",
    "\n",
    "# We are using this indexing so that we take the user's id from the df and insert in his corresponing item\n",
    "for index, row in data.iterrows():\n",
    "    user_profile[row['User_id']] += (item_profiles[row['Title_id']] * row['Sentiment'])\n",
    "    \n",
    "# Normalize dividing by rating_count \n",
    "for i in range(0, len(users)):\n",
    "    user_profile[i] = user_profile[i] / rating_count[i]\n",
    "      \n",
    "\n",
    "print(user_profile[0].shape)\n",
    "print(user_profile[26].toarray())"
   ]
  },
  {
   "cell_type": "markdown",
   "metadata": {
    "slideshow": {
     "slide_type": "slide"
    }
   },
   "source": [
    "# System's predictions"
   ]
  },
  {
   "cell_type": "markdown",
   "metadata": {
    "slideshow": {
     "slide_type": "fragment"
    }
   },
   "source": [
    "We are going to estimate the likelihood of a user appreciating an item he doesn't know just calculating the cosine similarity between the user profile and the item profile. \n",
    "This will give us a number cromprised between -1 and 1, just as the sentiment value.<br>\n",
    "Example:"
   ]
  },
  {
   "cell_type": "code",
   "execution_count": 6,
   "metadata": {
    "scrolled": true
   },
   "outputs": [
    {
     "data": {
      "text/plain": [
       "0.5655293825994097"
      ]
     },
     "execution_count": 6,
     "metadata": {},
     "output_type": "execute_result"
    }
   ],
   "source": [
    "#we are going to use the cosine function given by scipy library\n",
    "from scipy import spatial\n",
    "\n",
    "cd = 1 - spatial.distance.cosine(user_profile[0].toarray(), item_profiles[4].toarray())\n",
    "cd"
   ]
  },
  {
   "cell_type": "markdown",
   "metadata": {
    "slideshow": {
     "slide_type": "slide"
    }
   },
   "source": [
    "# Take a look at our utility matrix"
   ]
  },
  {
   "cell_type": "code",
   "execution_count": 7,
   "metadata": {
    "scrolled": true,
    "slideshow": {
     "slide_type": "fragment"
    }
   },
   "outputs": [
    {
     "data": {
      "text/html": [
       "<div>\n",
       "<style scoped>\n",
       "    .dataframe tbody tr th:only-of-type {\n",
       "        vertical-align: middle;\n",
       "    }\n",
       "\n",
       "    .dataframe tbody tr th {\n",
       "        vertical-align: top;\n",
       "    }\n",
       "\n",
       "    .dataframe thead th {\n",
       "        text-align: right;\n",
       "    }\n",
       "</style>\n",
       "<table border=\"1\" class=\"dataframe\">\n",
       "  <thead>\n",
       "    <tr style=\"text-align: right;\">\n",
       "      <th>Title_id</th>\n",
       "      <th>0</th>\n",
       "      <th>1</th>\n",
       "      <th>2</th>\n",
       "      <th>3</th>\n",
       "      <th>4</th>\n",
       "      <th>5</th>\n",
       "      <th>6</th>\n",
       "      <th>7</th>\n",
       "      <th>8</th>\n",
       "      <th>9</th>\n",
       "      <th>...</th>\n",
       "      <th>23</th>\n",
       "      <th>24</th>\n",
       "      <th>25</th>\n",
       "      <th>26</th>\n",
       "      <th>27</th>\n",
       "      <th>28</th>\n",
       "      <th>29</th>\n",
       "      <th>30</th>\n",
       "      <th>31</th>\n",
       "      <th>32</th>\n",
       "    </tr>\n",
       "    <tr>\n",
       "      <th>User_id</th>\n",
       "      <th></th>\n",
       "      <th></th>\n",
       "      <th></th>\n",
       "      <th></th>\n",
       "      <th></th>\n",
       "      <th></th>\n",
       "      <th></th>\n",
       "      <th></th>\n",
       "      <th></th>\n",
       "      <th></th>\n",
       "      <th></th>\n",
       "      <th></th>\n",
       "      <th></th>\n",
       "      <th></th>\n",
       "      <th></th>\n",
       "      <th></th>\n",
       "      <th></th>\n",
       "      <th></th>\n",
       "      <th></th>\n",
       "      <th></th>\n",
       "      <th></th>\n",
       "    </tr>\n",
       "  </thead>\n",
       "  <tbody>\n",
       "    <tr>\n",
       "      <td>0</td>\n",
       "      <td>0.9201</td>\n",
       "      <td>NaN</td>\n",
       "      <td>NaN</td>\n",
       "      <td>NaN</td>\n",
       "      <td>NaN</td>\n",
       "      <td>NaN</td>\n",
       "      <td>NaN</td>\n",
       "      <td>NaN</td>\n",
       "      <td>NaN</td>\n",
       "      <td>NaN</td>\n",
       "      <td>...</td>\n",
       "      <td>NaN</td>\n",
       "      <td>NaN</td>\n",
       "      <td>NaN</td>\n",
       "      <td>NaN</td>\n",
       "      <td>NaN</td>\n",
       "      <td>NaN</td>\n",
       "      <td>NaN</td>\n",
       "      <td>NaN</td>\n",
       "      <td>NaN</td>\n",
       "      <td>NaN</td>\n",
       "    </tr>\n",
       "    <tr>\n",
       "      <td>1</td>\n",
       "      <td>NaN</td>\n",
       "      <td>-0.3514</td>\n",
       "      <td>NaN</td>\n",
       "      <td>NaN</td>\n",
       "      <td>NaN</td>\n",
       "      <td>NaN</td>\n",
       "      <td>NaN</td>\n",
       "      <td>NaN</td>\n",
       "      <td>NaN</td>\n",
       "      <td>NaN</td>\n",
       "      <td>...</td>\n",
       "      <td>NaN</td>\n",
       "      <td>NaN</td>\n",
       "      <td>NaN</td>\n",
       "      <td>NaN</td>\n",
       "      <td>NaN</td>\n",
       "      <td>NaN</td>\n",
       "      <td>NaN</td>\n",
       "      <td>NaN</td>\n",
       "      <td>NaN</td>\n",
       "      <td>NaN</td>\n",
       "    </tr>\n",
       "    <tr>\n",
       "      <td>2</td>\n",
       "      <td>NaN</td>\n",
       "      <td>NaN</td>\n",
       "      <td>0.8898</td>\n",
       "      <td>NaN</td>\n",
       "      <td>NaN</td>\n",
       "      <td>NaN</td>\n",
       "      <td>NaN</td>\n",
       "      <td>NaN</td>\n",
       "      <td>NaN</td>\n",
       "      <td>NaN</td>\n",
       "      <td>...</td>\n",
       "      <td>NaN</td>\n",
       "      <td>NaN</td>\n",
       "      <td>NaN</td>\n",
       "      <td>NaN</td>\n",
       "      <td>NaN</td>\n",
       "      <td>NaN</td>\n",
       "      <td>NaN</td>\n",
       "      <td>NaN</td>\n",
       "      <td>NaN</td>\n",
       "      <td>NaN</td>\n",
       "    </tr>\n",
       "    <tr>\n",
       "      <td>3</td>\n",
       "      <td>NaN</td>\n",
       "      <td>NaN</td>\n",
       "      <td>NaN</td>\n",
       "      <td>0.5994</td>\n",
       "      <td>NaN</td>\n",
       "      <td>NaN</td>\n",
       "      <td>NaN</td>\n",
       "      <td>NaN</td>\n",
       "      <td>NaN</td>\n",
       "      <td>NaN</td>\n",
       "      <td>...</td>\n",
       "      <td>NaN</td>\n",
       "      <td>NaN</td>\n",
       "      <td>NaN</td>\n",
       "      <td>NaN</td>\n",
       "      <td>NaN</td>\n",
       "      <td>NaN</td>\n",
       "      <td>NaN</td>\n",
       "      <td>NaN</td>\n",
       "      <td>NaN</td>\n",
       "      <td>NaN</td>\n",
       "    </tr>\n",
       "    <tr>\n",
       "      <td>4</td>\n",
       "      <td>NaN</td>\n",
       "      <td>NaN</td>\n",
       "      <td>NaN</td>\n",
       "      <td>NaN</td>\n",
       "      <td>0.1154</td>\n",
       "      <td>NaN</td>\n",
       "      <td>NaN</td>\n",
       "      <td>NaN</td>\n",
       "      <td>NaN</td>\n",
       "      <td>NaN</td>\n",
       "      <td>...</td>\n",
       "      <td>NaN</td>\n",
       "      <td>NaN</td>\n",
       "      <td>NaN</td>\n",
       "      <td>NaN</td>\n",
       "      <td>NaN</td>\n",
       "      <td>NaN</td>\n",
       "      <td>NaN</td>\n",
       "      <td>NaN</td>\n",
       "      <td>NaN</td>\n",
       "      <td>NaN</td>\n",
       "    </tr>\n",
       "  </tbody>\n",
       "</table>\n",
       "<p>5 rows × 33 columns</p>\n",
       "</div>"
      ],
      "text/plain": [
       "Title_id      0       1       2       3       4   5   6   7   8   9   ...  23  \\\n",
       "User_id                                                               ...       \n",
       "0         0.9201     NaN     NaN     NaN     NaN NaN NaN NaN NaN NaN  ... NaN   \n",
       "1            NaN -0.3514     NaN     NaN     NaN NaN NaN NaN NaN NaN  ... NaN   \n",
       "2            NaN     NaN  0.8898     NaN     NaN NaN NaN NaN NaN NaN  ... NaN   \n",
       "3            NaN     NaN     NaN  0.5994     NaN NaN NaN NaN NaN NaN  ... NaN   \n",
       "4            NaN     NaN     NaN     NaN  0.1154 NaN NaN NaN NaN NaN  ... NaN   \n",
       "\n",
       "Title_id  24  25  26  27  28  29  30  31  32  \n",
       "User_id                                       \n",
       "0        NaN NaN NaN NaN NaN NaN NaN NaN NaN  \n",
       "1        NaN NaN NaN NaN NaN NaN NaN NaN NaN  \n",
       "2        NaN NaN NaN NaN NaN NaN NaN NaN NaN  \n",
       "3        NaN NaN NaN NaN NaN NaN NaN NaN NaN  \n",
       "4        NaN NaN NaN NaN NaN NaN NaN NaN NaN  \n",
       "\n",
       "[5 rows x 33 columns]"
      ]
     },
     "execution_count": 7,
     "metadata": {},
     "output_type": "execute_result"
    }
   ],
   "source": [
    "#creating our utility matrix\n",
    "um = data.pivot_table(index='User_id', columns='Title_id', values='Sentiment')\n",
    "um.head()"
   ]
  },
  {
   "cell_type": "markdown",
   "metadata": {
    "slideshow": {
     "slide_type": "slide"
    }
   },
   "source": [
    "# Let's fill our utility matrix!"
   ]
  },
  {
   "cell_type": "code",
   "execution_count": 9,
   "metadata": {
    "slideshow": {
     "slide_type": "fragment"
    }
   },
   "outputs": [],
   "source": [
    "#cosine similarity function\n",
    "def distance(user, item):\n",
    "        distance = 1 - spatial.distance.cosine(user_profile[user].toarray(), item_profiles[item].toarray())\n",
    "        return distance"
   ]
  },
  {
   "cell_type": "code",
   "execution_count": 10,
   "metadata": {
    "scrolled": true,
    "slideshow": {
     "slide_type": "fragment"
    }
   },
   "outputs": [
    {
     "name": "stderr",
     "output_type": "stream",
     "text": [
      "/home/guberlo/anaconda3/lib/python3.7/site-packages/scipy/spatial/distance.py:720: RuntimeWarning: invalid value encountered in double_scalars\n",
      "  dist = 1.0 - uv / np.sqrt(uu * vv)\n"
     ]
    },
    {
     "data": {
      "text/html": [
       "<div>\n",
       "<style scoped>\n",
       "    .dataframe tbody tr th:only-of-type {\n",
       "        vertical-align: middle;\n",
       "    }\n",
       "\n",
       "    .dataframe tbody tr th {\n",
       "        vertical-align: top;\n",
       "    }\n",
       "\n",
       "    .dataframe thead th {\n",
       "        text-align: right;\n",
       "    }\n",
       "</style>\n",
       "<table border=\"1\" class=\"dataframe\">\n",
       "  <thead>\n",
       "    <tr style=\"text-align: right;\">\n",
       "      <th>Title_id</th>\n",
       "      <th>0</th>\n",
       "      <th>1</th>\n",
       "      <th>2</th>\n",
       "      <th>3</th>\n",
       "      <th>4</th>\n",
       "      <th>5</th>\n",
       "      <th>6</th>\n",
       "      <th>7</th>\n",
       "      <th>8</th>\n",
       "      <th>9</th>\n",
       "      <th>...</th>\n",
       "      <th>23</th>\n",
       "      <th>24</th>\n",
       "      <th>25</th>\n",
       "      <th>26</th>\n",
       "      <th>27</th>\n",
       "      <th>28</th>\n",
       "      <th>29</th>\n",
       "      <th>30</th>\n",
       "      <th>31</th>\n",
       "      <th>32</th>\n",
       "    </tr>\n",
       "    <tr>\n",
       "      <th>User_id</th>\n",
       "      <th></th>\n",
       "      <th></th>\n",
       "      <th></th>\n",
       "      <th></th>\n",
       "      <th></th>\n",
       "      <th></th>\n",
       "      <th></th>\n",
       "      <th></th>\n",
       "      <th></th>\n",
       "      <th></th>\n",
       "      <th></th>\n",
       "      <th></th>\n",
       "      <th></th>\n",
       "      <th></th>\n",
       "      <th></th>\n",
       "      <th></th>\n",
       "      <th></th>\n",
       "      <th></th>\n",
       "      <th></th>\n",
       "      <th></th>\n",
       "      <th></th>\n",
       "    </tr>\n",
       "  </thead>\n",
       "  <tbody>\n",
       "    <tr>\n",
       "      <td>0</td>\n",
       "      <td>0.920100</td>\n",
       "      <td>0.264297</td>\n",
       "      <td>0.405923</td>\n",
       "      <td>0.530165</td>\n",
       "      <td>0.565529</td>\n",
       "      <td>0.539595</td>\n",
       "      <td>0.633302</td>\n",
       "      <td>0.560444</td>\n",
       "      <td>0.263590</td>\n",
       "      <td>0.255004</td>\n",
       "      <td>...</td>\n",
       "      <td>0.475519</td>\n",
       "      <td>0.645990</td>\n",
       "      <td>0.438511</td>\n",
       "      <td>0.452891</td>\n",
       "      <td>0.276400</td>\n",
       "      <td>0.372341</td>\n",
       "      <td>0.147490</td>\n",
       "      <td>0.414976</td>\n",
       "      <td>0.295669</td>\n",
       "      <td>0.450721</td>\n",
       "    </tr>\n",
       "    <tr>\n",
       "      <td>1</td>\n",
       "      <td>-0.264297</td>\n",
       "      <td>-0.351400</td>\n",
       "      <td>-0.165739</td>\n",
       "      <td>-0.246815</td>\n",
       "      <td>-0.243521</td>\n",
       "      <td>-0.212430</td>\n",
       "      <td>-0.279310</td>\n",
       "      <td>-0.254312</td>\n",
       "      <td>-0.131595</td>\n",
       "      <td>-0.087097</td>\n",
       "      <td>...</td>\n",
       "      <td>-0.222835</td>\n",
       "      <td>-0.285987</td>\n",
       "      <td>-0.234145</td>\n",
       "      <td>-0.205697</td>\n",
       "      <td>-0.100496</td>\n",
       "      <td>-0.172086</td>\n",
       "      <td>-0.063608</td>\n",
       "      <td>-0.181716</td>\n",
       "      <td>-0.108032</td>\n",
       "      <td>-0.199937</td>\n",
       "    </tr>\n",
       "    <tr>\n",
       "      <td>2</td>\n",
       "      <td>0.405923</td>\n",
       "      <td>0.165739</td>\n",
       "      <td>0.889800</td>\n",
       "      <td>0.367737</td>\n",
       "      <td>0.363838</td>\n",
       "      <td>0.338167</td>\n",
       "      <td>0.433341</td>\n",
       "      <td>0.359843</td>\n",
       "      <td>0.188811</td>\n",
       "      <td>0.136026</td>\n",
       "      <td>...</td>\n",
       "      <td>0.297574</td>\n",
       "      <td>0.412085</td>\n",
       "      <td>0.305322</td>\n",
       "      <td>0.318770</td>\n",
       "      <td>0.189797</td>\n",
       "      <td>0.281210</td>\n",
       "      <td>0.086764</td>\n",
       "      <td>0.274335</td>\n",
       "      <td>0.198783</td>\n",
       "      <td>0.300625</td>\n",
       "    </tr>\n",
       "    <tr>\n",
       "      <td>3</td>\n",
       "      <td>0.530165</td>\n",
       "      <td>0.246815</td>\n",
       "      <td>0.367737</td>\n",
       "      <td>0.599400</td>\n",
       "      <td>0.527194</td>\n",
       "      <td>0.472289</td>\n",
       "      <td>0.553433</td>\n",
       "      <td>0.507134</td>\n",
       "      <td>0.267033</td>\n",
       "      <td>0.199985</td>\n",
       "      <td>...</td>\n",
       "      <td>0.440031</td>\n",
       "      <td>0.577638</td>\n",
       "      <td>0.381888</td>\n",
       "      <td>0.417884</td>\n",
       "      <td>0.226031</td>\n",
       "      <td>0.329573</td>\n",
       "      <td>0.166558</td>\n",
       "      <td>0.387571</td>\n",
       "      <td>0.263145</td>\n",
       "      <td>0.417824</td>\n",
       "    </tr>\n",
       "    <tr>\n",
       "      <td>4</td>\n",
       "      <td>0.565529</td>\n",
       "      <td>0.243521</td>\n",
       "      <td>0.363838</td>\n",
       "      <td>0.527194</td>\n",
       "      <td>0.115400</td>\n",
       "      <td>0.539595</td>\n",
       "      <td>0.620647</td>\n",
       "      <td>0.559877</td>\n",
       "      <td>0.249857</td>\n",
       "      <td>0.206270</td>\n",
       "      <td>...</td>\n",
       "      <td>0.472118</td>\n",
       "      <td>0.636604</td>\n",
       "      <td>0.453969</td>\n",
       "      <td>0.508829</td>\n",
       "      <td>0.242414</td>\n",
       "      <td>0.331051</td>\n",
       "      <td>0.174369</td>\n",
       "      <td>0.432270</td>\n",
       "      <td>0.300916</td>\n",
       "      <td>0.477904</td>\n",
       "    </tr>\n",
       "  </tbody>\n",
       "</table>\n",
       "<p>5 rows × 33 columns</p>\n",
       "</div>"
      ],
      "text/plain": [
       "Title_id        0         1         2         3         4         5   \\\n",
       "User_id                                                                \n",
       "0         0.920100  0.264297  0.405923  0.530165  0.565529  0.539595   \n",
       "1        -0.264297 -0.351400 -0.165739 -0.246815 -0.243521 -0.212430   \n",
       "2         0.405923  0.165739  0.889800  0.367737  0.363838  0.338167   \n",
       "3         0.530165  0.246815  0.367737  0.599400  0.527194  0.472289   \n",
       "4         0.565529  0.243521  0.363838  0.527194  0.115400  0.539595   \n",
       "\n",
       "Title_id        6         7         8         9   ...        23        24  \\\n",
       "User_id                                           ...                       \n",
       "0         0.633302  0.560444  0.263590  0.255004  ...  0.475519  0.645990   \n",
       "1        -0.279310 -0.254312 -0.131595 -0.087097  ... -0.222835 -0.285987   \n",
       "2         0.433341  0.359843  0.188811  0.136026  ...  0.297574  0.412085   \n",
       "3         0.553433  0.507134  0.267033  0.199985  ...  0.440031  0.577638   \n",
       "4         0.620647  0.559877  0.249857  0.206270  ...  0.472118  0.636604   \n",
       "\n",
       "Title_id        25        26        27        28        29        30  \\\n",
       "User_id                                                                \n",
       "0         0.438511  0.452891  0.276400  0.372341  0.147490  0.414976   \n",
       "1        -0.234145 -0.205697 -0.100496 -0.172086 -0.063608 -0.181716   \n",
       "2         0.305322  0.318770  0.189797  0.281210  0.086764  0.274335   \n",
       "3         0.381888  0.417884  0.226031  0.329573  0.166558  0.387571   \n",
       "4         0.453969  0.508829  0.242414  0.331051  0.174369  0.432270   \n",
       "\n",
       "Title_id        31        32  \n",
       "User_id                       \n",
       "0         0.295669  0.450721  \n",
       "1        -0.108032 -0.199937  \n",
       "2         0.198783  0.300625  \n",
       "3         0.263145  0.417824  \n",
       "4         0.300916  0.477904  \n",
       "\n",
       "[5 rows x 33 columns]"
      ]
     },
     "execution_count": 10,
     "metadata": {},
     "output_type": "execute_result"
    }
   ],
   "source": [
    "import math\n",
    "\n",
    "# If the cell is NaN assign the cosine similarity between the user and the item\n",
    "for i in range(0, len(um)):\n",
    "    for j in range(0, len(titles)):\n",
    "        if(math.isnan(um.loc[i].loc[j])):\n",
    "            um.loc[i].loc[j] = distance(i, j)\n",
    "um.head()"
   ]
  },
  {
   "cell_type": "markdown",
   "metadata": {
    "slideshow": {
     "slide_type": "slide"
    }
   },
   "source": [
    "# Test if our algorithm is working or not"
   ]
  },
  {
   "cell_type": "markdown",
   "metadata": {
    "slideshow": {
     "slide_type": "fragment"
    }
   },
   "source": [
    "We have created our recommendation system but... will it work? In order to test it, we have to compare the predicted ratings with the known ratings for the users who gave more than one opinions. Let's take a look at those users:"
   ]
  },
  {
   "cell_type": "code",
   "execution_count": 11,
   "metadata": {
    "scrolled": true,
    "slideshow": {
     "slide_type": "fragment"
    }
   },
   "outputs": [
    {
     "data": {
      "text/html": [
       "<div>\n",
       "<style scoped>\n",
       "    .dataframe tbody tr th:only-of-type {\n",
       "        vertical-align: middle;\n",
       "    }\n",
       "\n",
       "    .dataframe tbody tr th {\n",
       "        vertical-align: top;\n",
       "    }\n",
       "\n",
       "    .dataframe thead th {\n",
       "        text-align: right;\n",
       "    }\n",
       "</style>\n",
       "<table border=\"1\" class=\"dataframe\">\n",
       "  <thead>\n",
       "    <tr style=\"text-align: right;\">\n",
       "      <th></th>\n",
       "      <th>Title</th>\n",
       "      <th>Comment</th>\n",
       "      <th>User</th>\n",
       "      <th>Sentiment</th>\n",
       "      <th>User_id</th>\n",
       "      <th>Title_id</th>\n",
       "    </tr>\n",
       "  </thead>\n",
       "  <tbody>\n",
       "    <tr>\n",
       "      <td>138</td>\n",
       "      <td>Edge of Tomorrow</td>\n",
       "      <td>It was great until Cruise and Blunt got to the...</td>\n",
       "      <td>IWW4</td>\n",
       "      <td>0.6249</td>\n",
       "      <td>86</td>\n",
       "      <td>0</td>\n",
       "    </tr>\n",
       "    <tr>\n",
       "      <td>222</td>\n",
       "      <td>Solo: a Star Wars Story</td>\n",
       "      <td>I have always found origin stories to be a was...</td>\n",
       "      <td>IWW4</td>\n",
       "      <td>-0.6486</td>\n",
       "      <td>86</td>\n",
       "      <td>14</td>\n",
       "    </tr>\n",
       "    <tr>\n",
       "      <td>26</td>\n",
       "      <td>Cannibal Holocaust</td>\n",
       "      <td>&gt;  Cannibal Holocaust\\n\\n\\nI really try not to.</td>\n",
       "      <td>IWW4</td>\n",
       "      <td>0.0000</td>\n",
       "      <td>86</td>\n",
       "      <td>23</td>\n",
       "    </tr>\n",
       "    <tr>\n",
       "      <td>400</td>\n",
       "      <td>Wild At Heart</td>\n",
       "      <td>I don't really like it all.</td>\n",
       "      <td>IWW4</td>\n",
       "      <td>-0.3241</td>\n",
       "      <td>86</td>\n",
       "      <td>20</td>\n",
       "    </tr>\n",
       "    <tr>\n",
       "      <td>100</td>\n",
       "      <td>Dunkirk</td>\n",
       "      <td>I liked it less and less the more times I saw it.</td>\n",
       "      <td>IWW4</td>\n",
       "      <td>0.4215</td>\n",
       "      <td>86</td>\n",
       "      <td>24</td>\n",
       "    </tr>\n",
       "  </tbody>\n",
       "</table>\n",
       "</div>"
      ],
      "text/plain": [
       "                       Title  \\\n",
       "138         Edge of Tomorrow   \n",
       "222  Solo: a Star Wars Story   \n",
       "26        Cannibal Holocaust   \n",
       "400            Wild At Heart   \n",
       "100                  Dunkirk   \n",
       "\n",
       "                                               Comment  User  Sentiment  \\\n",
       "138  It was great until Cruise and Blunt got to the...  IWW4     0.6249   \n",
       "222  I have always found origin stories to be a was...  IWW4    -0.6486   \n",
       "26     >  Cannibal Holocaust\\n\\n\\nI really try not to.  IWW4     0.0000   \n",
       "400                       I don't really like it all.   IWW4    -0.3241   \n",
       "100  I liked it less and less the more times I saw it.  IWW4     0.4215   \n",
       "\n",
       "     User_id  Title_id  \n",
       "138       86         0  \n",
       "222       86        14  \n",
       "26        86        23  \n",
       "400       86        20  \n",
       "100       86        24  "
      ]
     },
     "execution_count": 11,
     "metadata": {},
     "output_type": "execute_result"
    }
   ],
   "source": [
    "# Some data about users who wrote more than one comment\n",
    "d_u = data['User'] \n",
    "duplicated = data[d_u.isin(d_u[d_u.duplicated()])].sort_values(\"User\")\n",
    "\n",
    "duplicated.head()"
   ]
  },
  {
   "cell_type": "code",
   "execution_count": 12,
   "metadata": {
    "scrolled": true,
    "slideshow": {
     "slide_type": "fragment"
    }
   },
   "outputs": [
    {
     "data": {
      "text/plain": [
       "array([ 86,  99, 109, 158, 184, 206, 214, 264, 315, 328, 340, 372])"
      ]
     },
     "execution_count": 12,
     "metadata": {},
     "output_type": "execute_result"
    }
   ],
   "source": [
    "# Getting the id for users who wrote more than one comment \n",
    "d_users = duplicated['User_id'].unique()\n",
    "d_users"
   ]
  },
  {
   "cell_type": "markdown",
   "metadata": {
    "slideshow": {
     "slide_type": "slide"
    }
   },
   "source": [
    "# How to test?"
   ]
  },
  {
   "cell_type": "markdown",
   "metadata": {
    "slideshow": {
     "slide_type": "fragment"
    }
   },
   "source": [
    "Since we have so few data, we are going to use the Leave-one-out method in order to test. <br> We are going to calculate each score known, one at a time, for the users who reviewed more than one item."
   ]
  },
  {
   "cell_type": "markdown",
   "metadata": {
    "slideshow": {
     "slide_type": "fragment"
    }
   },
   "source": [
    "This is what we are going to do:\n",
    "* Take a user\n",
    "* Set one of his ratings to NaN\n",
    "* Calculate his user profile\n",
    "* Predict the ratings using cosine similarity\n",
    "* Compare the predicted value with the ground truth value stored in the dataframe\n",
    "\n",
    "This pipeline will be applied for each user who wrote more than one comment and for each item he gave an opinion"
   ]
  },
  {
   "cell_type": "markdown",
   "metadata": {
    "slideshow": {
     "slide_type": "slide"
    }
   },
   "source": [
    "# Code"
   ]
  },
  {
   "cell_type": "code",
   "execution_count": 13,
   "metadata": {
    "scrolled": false,
    "slideshow": {
     "slide_type": "fragment"
    }
   },
   "outputs": [
    {
     "data": {
      "text/plain": [
       "{86: [0, 14, 23, 20, 24, 17],\n",
       " 99: [28, 25, 19],\n",
       " 109: [14, 24],\n",
       " 158: [17, 0],\n",
       " 184: [24, 23, 4],\n",
       " 206: [5, 24],\n",
       " 214: [17, 31, 28, 18],\n",
       " 264: [2, 22],\n",
       " 315: [20, 25],\n",
       " 328: [10, 28],\n",
       " 340: [24, 4],\n",
       " 372: [18, 21]}"
      ]
     },
     "execution_count": 13,
     "metadata": {},
     "output_type": "execute_result"
    }
   ],
   "source": [
    "#in order to set each time only one value to null, we save user id as index and titles id for which he wrote a comment \n",
    "#as values so that we can choose which one to give null value \n",
    "\n",
    "dic = {}\n",
    "arr = []\n",
    "\n",
    "for u in d_users:\n",
    "    arr = []\n",
    "    for i, row in duplicated[duplicated['User_id'] == u].iterrows():\n",
    "        arr.append(row['Title_id'])\n",
    "        dic.update({u:arr})\n",
    "\n",
    "dic"
   ]
  },
  {
   "cell_type": "markdown",
   "metadata": {
    "slideshow": {
     "slide_type": "subslide"
    }
   },
   "source": [
    "# Filling the desidered cells"
   ]
  },
  {
   "cell_type": "code",
   "execution_count": 14,
   "metadata": {
    "slideshow": {
     "slide_type": "fragment"
    }
   },
   "outputs": [],
   "source": [
    "\n",
    "true_values = []\n",
    "predicted_values = []\n",
    "\n",
    "\n",
    "for i in dic: #get user id from duplicated users\n",
    "    for j in dic[i]: #get one of the item_id\n",
    "        user_profile[i] = 0 #reset the user's profile each time we set a new value to NaN\n",
    "        t_v = umt.iloc[i][j]\n",
    "        true_values.append(t_v) #store the truth value before deleting it\n",
    "        umt.iloc[i][j] = float('NaN')\n",
    "        count = 0\n",
    "        for l in titles_id:\n",
    "            if(not math.isnan(umt.iloc[i][l])): #building new user profile not considering the new nan\n",
    "                user_profile[i] += (item_profiles[l] * umt.iloc[i][l])\n",
    "                count = count + 1\n",
    "        user_profile[i] = user_profile[i] / count\n",
    "        \n",
    "        #print('User: {}, Item: {}'.format(i, j)) #debugging to see if we are calculating the right distances\n",
    "        \n",
    "        predicted_values.append(distance(i, j)) #store the predicted value which we have set before the value to nan\n",
    "        umt.iloc[i][j] = t_v #restore the original value"
   ]
  },
  {
   "cell_type": "markdown",
   "metadata": {
    "slideshow": {
     "slide_type": "slide"
    }
   },
   "source": [
    "# Compare the values"
   ]
  },
  {
   "cell_type": "code",
   "execution_count": 17,
   "metadata": {
    "scrolled": true,
    "slideshow": {
     "slide_type": "fragment"
    }
   },
   "outputs": [
    {
     "name": "stdout",
     "output_type": "stream",
     "text": [
      "Predicted score: -0.356 ----- True score: 0.625\n",
      "Predicted score: 0.368 ----- True score: -0.649\n",
      "Predicted score: 0.098 ----- True score: 0.000\n",
      "Predicted score: 0.197 ----- True score: -0.324\n",
      "Predicted score: -0.280 ----- True score: 0.421\n",
      "Predicted score: 0.151 ----- True score: -0.340\n",
      "Predicted score: -0.338 ----- True score: 0.713\n",
      "Predicted score: 0.230 ----- True score: -0.202\n",
      "Predicted score: 0.174 ----- True score: -0.235\n",
      "Predicted score: -0.527 ----- True score: 0.153\n",
      "Predicted score: 0.527 ----- True score: -0.649\n",
      "Predicted score: 0.371 ----- True score: 0.586\n",
      "Predicted score: 0.371 ----- True score: 0.840\n",
      "Predicted score: 0.518 ----- True score: 0.892\n",
      "Predicted score: 0.518 ----- True score: 0.815\n",
      "Predicted score: 0.640 ----- True score: 0.000\n",
      "Predicted score: 0.587 ----- True score: 0.206\n",
      "Predicted score: 0.587 ----- True score: 0.782\n",
      "Predicted score: 0.352 ----- True score: -0.802\n",
      "Predicted score: 0.122 ----- True score: 0.874\n",
      "Predicted score: 0.169 ----- True score: 0.493\n",
      "Predicted score: 0.086 ----- True score: 0.927\n",
      "Predicted score: 0.284 ----- True score: 0.964\n",
      "Predicted score: 0.284 ----- True score: 0.735\n",
      "Predicted score: 0.315 ----- True score: 0.948\n",
      "Predicted score: 0.315 ----- True score: 0.889\n",
      "Predicted score: 0.237 ----- True score: 0.939\n",
      "Predicted score: 0.237 ----- True score: 0.526\n",
      "Predicted score: -0.637 ----- True score: -0.714\n",
      "Predicted score: -0.637 ----- True score: -0.547\n",
      "Predicted score: -0.297 ----- True score: 0.625\n",
      "Predicted score: 0.297 ----- True score: -0.477\n"
     ]
    }
   ],
   "source": [
    "for i in range(0, len(true_values)):\n",
    "     print(\"Predicted score: {:.3f} ----- True score: {:.3f}\".format(predicted_values[i], true_values[i]))"
   ]
  },
  {
   "cell_type": "markdown",
   "metadata": {
    "slideshow": {
     "slide_type": "slide"
    }
   },
   "source": [
    "# MAE"
   ]
  },
  {
   "cell_type": "markdown",
   "metadata": {
    "slideshow": {
     "slide_type": "fragment"
    }
   },
   "source": [
    "Let's now calculate the Mean Absolute Error between our predictions and the truth value"
   ]
  },
  {
   "cell_type": "code",
   "execution_count": 18,
   "metadata": {
    "scrolled": true,
    "slideshow": {
     "slide_type": "fragment"
    }
   },
   "outputs": [
    {
     "data": {
      "text/plain": [
       "0.5747905734199232"
      ]
     },
     "execution_count": 18,
     "metadata": {},
     "output_type": "execute_result"
    }
   ],
   "source": [
    "#measure performance with mae\n",
    "def mae(y_true, y_pred):\n",
    "    return (y_true-y_pred).abs().mean()\n",
    "\n",
    "mae(pd.Series(true_values), pd.Series(predicted_values))"
   ]
  },
  {
   "cell_type": "markdown",
   "metadata": {
    "slideshow": {
     "slide_type": "slide"
    }
   },
   "source": [
    "# Plot to have a better understanding"
   ]
  },
  {
   "cell_type": "code",
   "execution_count": 19,
   "metadata": {
    "scrolled": true,
    "slideshow": {
     "slide_type": "fragment"
    }
   },
   "outputs": [
    {
     "data": {
      "text/plain": [
       "Text(0, 0.5, 'Ratings')"
      ]
     },
     "execution_count": 19,
     "metadata": {},
     "output_type": "execute_result"
    },
    {
     "data": {
      "image/png": "[encoded data removed]",
      "text/plain": [
       "<Figure size 432x288 with 1 Axes>"
      ]
     },
     "metadata": {
      "needs_background": "light"
     },
     "output_type": "display_data"
    }
   ],
   "source": [
    "import matplotlib.pyplot as plt\n",
    "\n",
    "rating_range = np.arange(-1, 1, 0.064)\n",
    "\n",
    "plt.hlines(y=rating_range, xmin=validation['y_true'], xmax=validation['y_pred'], color='grey', alpha=0.4)\n",
    "plt.scatter(validation['y_true'], rating_range, color='g', alpha=1, label='y_true')\n",
    "plt.scatter(validation['y_pred'], rating_range, color='r', alpha=0.8 , label='y_pred')\n",
    "plt.legend(loc='lower left')\n",
    "\n",
    "# Add title and axis names\n",
    "plt.title(\"Comparison of predicted and true values\", loc='center')\n",
    "plt.xlabel('Rating range')\n",
    "plt.ylabel('Ratings')"
   ]
  },
  {
   "cell_type": "markdown",
   "metadata": {
    "slideshow": {
     "slide_type": "slide"
    }
   },
   "source": [
    "# Does it work?"
   ]
  },
  {
   "cell_type": "markdown",
   "metadata": {
    "slideshow": {
     "slide_type": "fragment"
    }
   },
   "source": [
    "Actually, this is not the best result we'd like to get. The MAE score is too high to have a good reliability.\n",
    "What we can do now is checking whether our algorithm is better than calculating the ratings randomly or not."
   ]
  },
  {
   "cell_type": "markdown",
   "metadata": {
    "slideshow": {
     "slide_type": "fragment"
    }
   },
   "source": [
    "So instead of calculating the rating as the cosine similarity between user and item profile, we are going to calculate it as a random number between -1 and 1"
   ]
  },
  {
   "cell_type": "code",
   "execution_count": 8,
   "metadata": {
    "slideshow": {
     "slide_type": "fragment"
    }
   },
   "outputs": [],
   "source": [
    "# Random number between -1 and 1\n",
    "import random\n",
    "\n",
    "def predict():\n",
    "        y_pred = 1 - (random.uniform(0,1) * 2)\n",
    "        return y_pred"
   ]
  },
  {
   "cell_type": "markdown",
   "metadata": {
    "slideshow": {
     "slide_type": "slide"
    }
   },
   "source": [
    "# Filling the values\n",
    "\n",
    "Since this is a random algorithm, in order to have a stronger reliability we will test 40 different times."
   ]
  },
  {
   "cell_type": "code",
   "execution_count": 9,
   "metadata": {},
   "outputs": [],
   "source": [
    "true_values = []\n",
    "predicted_values = []\n",
    "\n",
    "for i in range(0,40): #this is done in order to have a stronger reliability since the algorithm is random\n",
    "    true_values.append([])#we will have 40 different values to test\n",
    "    predicted_values.append([])\n",
    "\n",
    "\n",
    "for p in range(0,len(true_values)):\n",
    "    for i in dic: #get user id from duplicated users\n",
    "        for j in dic[i]: #get one of the item_id\n",
    "            t_v = umt.iloc[i][j]\n",
    "            true_values[p].append(t_v) #store the truth value before deleting it\n",
    "            umt.iloc[i][j] = float('NaN')\n",
    "            #print('User: {}, Item: {}'.format(i, j)) #debugging to see if we are calculating the right distances\n",
    "\n",
    "            predicted_values[p].append(predict()) #store the predicted value which we have set before the value to nan\n",
    "            umt.iloc[i][j] = t_v #restore the original value"
   ]
  },
  {
   "cell_type": "markdown",
   "metadata": {
    "slideshow": {
     "slide_type": "slide"
    }
   },
   "source": [
    "# Compare the values"
   ]
  },
  {
   "cell_type": "code",
   "execution_count": 11,
   "metadata": {
    "slideshow": {
     "slide_type": "fragment"
    }
   },
   "outputs": [
    {
     "name": "stdout",
     "output_type": "stream",
     "text": [
      "Predicted score: 0.770 ----- True score: 0.625\n",
      "Predicted score: 0.523 ----- True score: -0.649\n",
      "Predicted score: -0.100 ----- True score: 0.000\n",
      "Predicted score: -0.756 ----- True score: -0.324\n",
      "Predicted score: -0.793 ----- True score: 0.421\n",
      "Predicted score: 0.444 ----- True score: -0.340\n",
      "Predicted score: 0.246 ----- True score: 0.713\n",
      "Predicted score: -0.250 ----- True score: -0.202\n",
      "Predicted score: 0.921 ----- True score: -0.235\n",
      "Predicted score: 0.114 ----- True score: 0.153\n",
      "Predicted score: 0.783 ----- True score: -0.649\n",
      "Predicted score: -0.627 ----- True score: 0.586\n",
      "Predicted score: 0.372 ----- True score: 0.840\n",
      "Predicted score: -0.017 ----- True score: 0.892\n",
      "Predicted score: 0.439 ----- True score: 0.815\n",
      "Predicted score: -0.873 ----- True score: 0.000\n",
      "Predicted score: -0.212 ----- True score: 0.206\n",
      "Predicted score: -0.101 ----- True score: 0.782\n",
      "Predicted score: -0.653 ----- True score: -0.802\n",
      "Predicted score: -0.207 ----- True score: 0.874\n",
      "Predicted score: -0.034 ----- True score: 0.493\n",
      "Predicted score: -0.226 ----- True score: 0.927\n",
      "Predicted score: 0.442 ----- True score: 0.964\n",
      "Predicted score: 0.347 ----- True score: 0.735\n",
      "Predicted score: -0.221 ----- True score: 0.948\n",
      "Predicted score: 0.341 ----- True score: 0.889\n",
      "Predicted score: -0.654 ----- True score: 0.939\n",
      "Predicted score: -0.879 ----- True score: 0.526\n",
      "Predicted score: 0.417 ----- True score: -0.714\n",
      "Predicted score: 0.408 ----- True score: -0.547\n",
      "Predicted score: -0.306 ----- True score: 0.625\n",
      "Predicted score: 0.255 ----- True score: -0.477\n",
      "\n",
      "######################################\n",
      "\n",
      "Predicted score: -0.360 ----- True score: 0.625\n",
      "Predicted score: -0.448 ----- True score: -0.649\n",
      "Predicted score: 0.569 ----- True score: 0.000\n",
      "Predicted score: -0.862 ----- True score: -0.324\n",
      "Predicted score: -0.041 ----- True score: 0.421\n",
      "Predicted score: -0.072 ----- True score: -0.340\n",
      "Predicted score: -0.652 ----- True score: 0.713\n",
      "Predicted score: 0.173 ----- True score: -0.202\n",
      "Predicted score: 0.595 ----- True score: -0.235\n",
      "Predicted score: 0.460 ----- True score: 0.153\n",
      "Predicted score: -0.699 ----- True score: -0.649\n",
      "Predicted score: -0.721 ----- True score: 0.586\n",
      "Predicted score: -0.818 ----- True score: 0.840\n",
      "Predicted score: -0.596 ----- True score: 0.892\n",
      "Predicted score: -0.099 ----- True score: 0.815\n",
      "Predicted score: -0.630 ----- True score: 0.000\n",
      "Predicted score: 0.581 ----- True score: 0.206\n",
      "Predicted score: 0.409 ----- True score: 0.782\n",
      "Predicted score: -0.170 ----- True score: -0.802\n",
      "Predicted score: 0.138 ----- True score: 0.874\n",
      "Predicted score: -0.588 ----- True score: 0.493\n",
      "Predicted score: -0.580 ----- True score: 0.927\n",
      "Predicted score: -0.409 ----- True score: 0.964\n",
      "Predicted score: -0.687 ----- True score: 0.735\n",
      "Predicted score: 0.059 ----- True score: 0.948\n",
      "Predicted score: -0.566 ----- True score: 0.889\n",
      "Predicted score: -0.474 ----- True score: 0.939\n",
      "Predicted score: 0.484 ----- True score: 0.526\n",
      "Predicted score: 0.820 ----- True score: -0.714\n",
      "Predicted score: -0.397 ----- True score: -0.547\n",
      "Predicted score: 0.772 ----- True score: 0.625\n",
      "Predicted score: -0.105 ----- True score: -0.477\n",
      "\n",
      "######################################\n",
      "\n",
      "Predicted score: 0.314 ----- True score: 0.625\n",
      "Predicted score: -0.177 ----- True score: -0.649\n",
      "Predicted score: -0.876 ----- True score: 0.000\n",
      "Predicted score: 0.586 ----- True score: -0.324\n",
      "Predicted score: -0.681 ----- True score: 0.421\n",
      "Predicted score: -0.964 ----- True score: -0.340\n",
      "Predicted score: 0.517 ----- True score: 0.713\n",
      "Predicted score: -0.976 ----- True score: -0.202\n",
      "Predicted score: 0.690 ----- True score: -0.235\n",
      "Predicted score: 0.725 ----- True score: 0.153\n",
      "Predicted score: -0.643 ----- True score: -0.649\n",
      "Predicted score: 0.025 ----- True score: 0.586\n",
      "Predicted score: -0.531 ----- True score: 0.840\n",
      "Predicted score: -0.155 ----- True score: 0.892\n",
      "Predicted score: -0.747 ----- True score: 0.815\n",
      "Predicted score: 0.654 ----- True score: 0.000\n",
      "Predicted score: -0.962 ----- True score: 0.206\n",
      "Predicted score: -0.184 ----- True score: 0.782\n",
      "Predicted score: 0.804 ----- True score: -0.802\n",
      "Predicted score: 0.336 ----- True score: 0.874\n",
      "Predicted score: 0.729 ----- True score: 0.493\n",
      "Predicted score: -0.971 ----- True score: 0.927\n",
      "Predicted score: 0.548 ----- True score: 0.964\n",
      "Predicted score: 0.091 ----- True score: 0.735\n",
      "Predicted score: 0.251 ----- True score: 0.948\n",
      "Predicted score: -0.018 ----- True score: 0.889\n",
      "Predicted score: 0.176 ----- True score: 0.939\n",
      "Predicted score: -0.726 ----- True score: 0.526\n",
      "Predicted score: 0.173 ----- True score: -0.714\n",
      "Predicted score: -0.139 ----- True score: -0.547\n",
      "Predicted score: 0.536 ----- True score: 0.625\n",
      "Predicted score: -0.369 ----- True score: -0.477\n",
      "\n",
      "######################################\n",
      "\n",
      "Predicted score: -0.205 ----- True score: 0.625\n",
      "Predicted score: 0.092 ----- True score: -0.649\n",
      "Predicted score: 0.001 ----- True score: 0.000\n",
      "Predicted score: 0.836 ----- True score: -0.324\n",
      "Predicted score: 0.454 ----- True score: 0.421\n",
      "Predicted score: -0.552 ----- True score: -0.340\n",
      "Predicted score: -0.599 ----- True score: 0.713\n",
      "Predicted score: 0.295 ----- True score: -0.202\n",
      "Predicted score: -0.410 ----- True score: -0.235\n",
      "Predicted score: 0.950 ----- True score: 0.153\n",
      "Predicted score: 0.672 ----- True score: -0.649\n",
      "Predicted score: 0.678 ----- True score: 0.586\n",
      "Predicted score: -0.741 ----- True score: 0.840\n",
      "Predicted score: 0.533 ----- True score: 0.892\n",
      "Predicted score: 0.284 ----- True score: 0.815\n",
      "Predicted score: 0.933 ----- True score: 0.000\n",
      "Predicted score: 0.243 ----- True score: 0.206\n",
      "Predicted score: -0.068 ----- True score: 0.782\n",
      "Predicted score: -0.168 ----- True score: -0.802\n",
      "Predicted score: 0.321 ----- True score: 0.874\n",
      "Predicted score: -0.997 ----- True score: 0.493\n",
      "Predicted score: -0.895 ----- True score: 0.927\n",
      "Predicted score: -0.832 ----- True score: 0.964\n",
      "Predicted score: 0.872 ----- True score: 0.735\n",
      "Predicted score: -0.084 ----- True score: 0.948\n",
      "Predicted score: 0.201 ----- True score: 0.889\n",
      "Predicted score: -0.167 ----- True score: 0.939\n",
      "Predicted score: 0.811 ----- True score: 0.526\n",
      "Predicted score: -0.454 ----- True score: -0.714\n",
      "Predicted score: 0.269 ----- True score: -0.547\n",
      "Predicted score: 0.341 ----- True score: 0.625\n",
      "Predicted score: 0.472 ----- True score: -0.477\n",
      "\n",
      "######################################\n",
      "\n",
      "Predicted score: -0.646 ----- True score: 0.625\n",
      "Predicted score: 0.205 ----- True score: -0.649\n",
      "Predicted score: -0.808 ----- True score: 0.000\n",
      "Predicted score: 0.563 ----- True score: -0.324\n",
      "Predicted score: 0.343 ----- True score: 0.421\n",
      "Predicted score: 0.308 ----- True score: -0.340\n",
      "Predicted score: 0.749 ----- True score: 0.713\n",
      "Predicted score: 0.076 ----- True score: -0.202\n",
      "Predicted score: 0.793 ----- True score: -0.235\n",
      "Predicted score: -0.865 ----- True score: 0.153\n",
      "Predicted score: -0.194 ----- True score: -0.649\n",
      "Predicted score: 0.779 ----- True score: 0.586\n",
      "Predicted score: 0.161 ----- True score: 0.840\n",
      "Predicted score: 0.387 ----- True score: 0.892\n",
      "Predicted score: -0.400 ----- True score: 0.815\n",
      "Predicted score: -0.452 ----- True score: 0.000\n",
      "Predicted score: 0.530 ----- True score: 0.206\n",
      "Predicted score: 0.138 ----- True score: 0.782\n",
      "Predicted score: 0.905 ----- True score: -0.802\n",
      "Predicted score: 0.940 ----- True score: 0.874\n",
      "Predicted score: -0.090 ----- True score: 0.493\n",
      "Predicted score: 0.972 ----- True score: 0.927\n",
      "Predicted score: 0.117 ----- True score: 0.964\n",
      "Predicted score: 0.406 ----- True score: 0.735\n",
      "Predicted score: -0.624 ----- True score: 0.948\n",
      "Predicted score: -0.671 ----- True score: 0.889\n",
      "Predicted score: 0.087 ----- True score: 0.939\n",
      "Predicted score: -0.569 ----- True score: 0.526\n",
      "Predicted score: 0.228 ----- True score: -0.714\n",
      "Predicted score: -0.426 ----- True score: -0.547\n",
      "Predicted score: 0.169 ----- True score: 0.625\n",
      "Predicted score: -0.748 ----- True score: -0.477\n",
      "\n",
      "######################################\n",
      "\n",
      "Predicted score: 0.889 ----- True score: 0.625\n",
      "Predicted score: -0.513 ----- True score: -0.649\n",
      "Predicted score: 0.706 ----- True score: 0.000\n",
      "Predicted score: 0.199 ----- True score: -0.324\n",
      "Predicted score: 0.525 ----- True score: 0.421\n",
      "Predicted score: 0.528 ----- True score: -0.340\n",
      "Predicted score: -0.058 ----- True score: 0.713\n",
      "Predicted score: 0.511 ----- True score: -0.202\n",
      "Predicted score: -0.432 ----- True score: -0.235\n",
      "Predicted score: -0.332 ----- True score: 0.153\n",
      "Predicted score: 0.837 ----- True score: -0.649\n",
      "Predicted score: -0.268 ----- True score: 0.586\n",
      "Predicted score: 0.894 ----- True score: 0.840\n",
      "Predicted score: -0.598 ----- True score: 0.892\n",
      "Predicted score: -0.129 ----- True score: 0.815\n",
      "Predicted score: 0.642 ----- True score: 0.000\n",
      "Predicted score: 0.928 ----- True score: 0.206\n",
      "Predicted score: -0.716 ----- True score: 0.782\n",
      "Predicted score: 0.048 ----- True score: -0.802\n",
      "Predicted score: -0.104 ----- True score: 0.874\n",
      "Predicted score: -0.467 ----- True score: 0.493\n",
      "Predicted score: -0.164 ----- True score: 0.927\n",
      "Predicted score: 0.045 ----- True score: 0.964\n",
      "Predicted score: -0.677 ----- True score: 0.735\n",
      "Predicted score: 0.420 ----- True score: 0.948\n",
      "Predicted score: -0.923 ----- True score: 0.889\n",
      "Predicted score: -0.288 ----- True score: 0.939\n",
      "Predicted score: -0.363 ----- True score: 0.526\n",
      "Predicted score: -0.490 ----- True score: -0.714\n",
      "Predicted score: -0.386 ----- True score: -0.547\n",
      "Predicted score: 0.048 ----- True score: 0.625\n",
      "Predicted score: -0.864 ----- True score: -0.477\n",
      "\n",
      "######################################\n",
      "\n",
      "Predicted score: -0.559 ----- True score: 0.625\n",
      "Predicted score: -0.609 ----- True score: -0.649\n",
      "Predicted score: 0.293 ----- True score: 0.000\n",
      "Predicted score: 0.231 ----- True score: -0.324\n",
      "Predicted score: -0.149 ----- True score: 0.421\n",
      "Predicted score: 0.316 ----- True score: -0.340\n",
      "Predicted score: -0.479 ----- True score: 0.713\n",
      "Predicted score: 0.408 ----- True score: -0.202\n",
      "Predicted score: -0.501 ----- True score: -0.235\n",
      "Predicted score: -0.799 ----- True score: 0.153\n",
      "Predicted score: 0.150 ----- True score: -0.649\n",
      "Predicted score: 0.203 ----- True score: 0.586\n",
      "Predicted score: 0.735 ----- True score: 0.840\n",
      "Predicted score: -0.960 ----- True score: 0.892\n",
      "Predicted score: -0.644 ----- True score: 0.815\n",
      "Predicted score: -0.233 ----- True score: 0.000\n",
      "Predicted score: -0.232 ----- True score: 0.206\n",
      "Predicted score: 0.893 ----- True score: 0.782\n",
      "Predicted score: -0.753 ----- True score: -0.802\n",
      "Predicted score: 0.360 ----- True score: 0.874\n",
      "Predicted score: 0.620 ----- True score: 0.493\n",
      "Predicted score: 0.200 ----- True score: 0.927\n",
      "Predicted score: -0.833 ----- True score: 0.964\n",
      "Predicted score: 0.885 ----- True score: 0.735\n",
      "Predicted score: -0.170 ----- True score: 0.948\n",
      "Predicted score: -0.848 ----- True score: 0.889\n",
      "Predicted score: -0.347 ----- True score: 0.939\n",
      "Predicted score: -0.921 ----- True score: 0.526\n",
      "Predicted score: -0.213 ----- True score: -0.714\n",
      "Predicted score: -0.314 ----- True score: -0.547\n",
      "Predicted score: 0.506 ----- True score: 0.625\n",
      "Predicted score: 0.849 ----- True score: -0.477\n",
      "\n",
      "######################################\n",
      "\n",
      "Predicted score: 0.793 ----- True score: 0.625\n",
      "Predicted score: -0.113 ----- True score: -0.649\n",
      "Predicted score: 0.065 ----- True score: 0.000\n",
      "Predicted score: 0.802 ----- True score: -0.324\n",
      "Predicted score: 0.323 ----- True score: 0.421\n",
      "Predicted score: 0.052 ----- True score: -0.340\n",
      "Predicted score: -0.019 ----- True score: 0.713\n",
      "Predicted score: -0.254 ----- True score: -0.202\n",
      "Predicted score: 0.984 ----- True score: -0.235\n",
      "Predicted score: 0.315 ----- True score: 0.153\n",
      "Predicted score: 0.202 ----- True score: -0.649\n",
      "Predicted score: 0.726 ----- True score: 0.586\n",
      "Predicted score: -0.608 ----- True score: 0.840\n",
      "Predicted score: -0.409 ----- True score: 0.892\n",
      "Predicted score: -0.109 ----- True score: 0.815\n",
      "Predicted score: -0.876 ----- True score: 0.000\n",
      "Predicted score: 0.237 ----- True score: 0.206\n",
      "Predicted score: 0.089 ----- True score: 0.782\n",
      "Predicted score: 0.233 ----- True score: -0.802\n",
      "Predicted score: 0.138 ----- True score: 0.874\n",
      "Predicted score: 0.594 ----- True score: 0.493\n",
      "Predicted score: -0.693 ----- True score: 0.927\n",
      "Predicted score: 0.682 ----- True score: 0.964\n",
      "Predicted score: -0.321 ----- True score: 0.735\n",
      "Predicted score: -0.350 ----- True score: 0.948\n",
      "Predicted score: -0.939 ----- True score: 0.889\n",
      "Predicted score: -0.316 ----- True score: 0.939\n",
      "Predicted score: -0.571 ----- True score: 0.526\n",
      "Predicted score: 0.627 ----- True score: -0.714\n",
      "Predicted score: -0.432 ----- True score: -0.547\n",
      "Predicted score: 0.472 ----- True score: 0.625\n",
      "Predicted score: 0.361 ----- True score: -0.477\n",
      "\n",
      "######################################\n",
      "\n",
      "Predicted score: 0.491 ----- True score: 0.625\n",
      "Predicted score: 0.870 ----- True score: -0.649\n",
      "Predicted score: 0.792 ----- True score: 0.000\n",
      "Predicted score: 0.685 ----- True score: -0.324\n",
      "Predicted score: -0.577 ----- True score: 0.421\n",
      "Predicted score: 0.503 ----- True score: -0.340\n",
      "Predicted score: -0.622 ----- True score: 0.713\n",
      "Predicted score: -0.866 ----- True score: -0.202\n",
      "Predicted score: -0.808 ----- True score: -0.235\n",
      "Predicted score: 0.223 ----- True score: 0.153\n",
      "Predicted score: 0.717 ----- True score: -0.649\n",
      "Predicted score: -0.780 ----- True score: 0.586\n",
      "Predicted score: -0.771 ----- True score: 0.840\n",
      "Predicted score: 0.293 ----- True score: 0.892\n",
      "Predicted score: 0.794 ----- True score: 0.815\n",
      "Predicted score: -0.453 ----- True score: 0.000\n",
      "Predicted score: -0.627 ----- True score: 0.206\n",
      "Predicted score: -0.619 ----- True score: 0.782\n",
      "Predicted score: 0.065 ----- True score: -0.802\n",
      "Predicted score: -0.095 ----- True score: 0.874\n",
      "Predicted score: 0.424 ----- True score: 0.493\n",
      "Predicted score: -0.730 ----- True score: 0.927\n",
      "Predicted score: -0.842 ----- True score: 0.964\n",
      "Predicted score: -0.153 ----- True score: 0.735\n",
      "Predicted score: 0.534 ----- True score: 0.948\n",
      "Predicted score: 0.079 ----- True score: 0.889\n",
      "Predicted score: 0.696 ----- True score: 0.939\n",
      "Predicted score: 0.206 ----- True score: 0.526\n",
      "Predicted score: -0.691 ----- True score: -0.714\n",
      "Predicted score: 0.444 ----- True score: -0.547\n",
      "Predicted score: -0.104 ----- True score: 0.625\n",
      "Predicted score: 0.458 ----- True score: -0.477\n",
      "\n",
      "######################################\n",
      "\n",
      "Predicted score: -0.273 ----- True score: 0.625\n",
      "Predicted score: -0.416 ----- True score: -0.649\n",
      "Predicted score: 0.407 ----- True score: 0.000\n",
      "Predicted score: -0.124 ----- True score: -0.324\n",
      "Predicted score: -0.907 ----- True score: 0.421\n",
      "Predicted score: 0.495 ----- True score: -0.340\n",
      "Predicted score: 0.998 ----- True score: 0.713\n",
      "Predicted score: 0.848 ----- True score: -0.202\n",
      "Predicted score: 0.997 ----- True score: -0.235\n",
      "Predicted score: 0.507 ----- True score: 0.153\n",
      "Predicted score: 0.587 ----- True score: -0.649\n",
      "Predicted score: -0.725 ----- True score: 0.586\n",
      "Predicted score: 0.826 ----- True score: 0.840\n",
      "Predicted score: 0.369 ----- True score: 0.892\n",
      "Predicted score: -0.225 ----- True score: 0.815\n",
      "Predicted score: -0.380 ----- True score: 0.000\n",
      "Predicted score: -0.253 ----- True score: 0.206\n",
      "Predicted score: 0.393 ----- True score: 0.782\n",
      "Predicted score: 0.748 ----- True score: -0.802\n",
      "Predicted score: -0.538 ----- True score: 0.874\n",
      "Predicted score: -0.654 ----- True score: 0.493\n",
      "Predicted score: -0.609 ----- True score: 0.927\n",
      "Predicted score: -0.439 ----- True score: 0.964\n",
      "Predicted score: 0.105 ----- True score: 0.735\n",
      "Predicted score: -0.453 ----- True score: 0.948\n",
      "Predicted score: -0.730 ----- True score: 0.889\n",
      "Predicted score: -0.647 ----- True score: 0.939\n",
      "Predicted score: -0.957 ----- True score: 0.526\n",
      "Predicted score: 0.401 ----- True score: -0.714\n",
      "Predicted score: 0.864 ----- True score: -0.547\n",
      "Predicted score: -0.456 ----- True score: 0.625\n",
      "Predicted score: 0.795 ----- True score: -0.477\n",
      "\n",
      "######################################\n",
      "\n",
      "Predicted score: -0.290 ----- True score: 0.625\n",
      "Predicted score: 0.674 ----- True score: -0.649\n",
      "Predicted score: 0.681 ----- True score: 0.000\n",
      "Predicted score: 0.912 ----- True score: -0.324\n",
      "Predicted score: 0.185 ----- True score: 0.421\n",
      "Predicted score: 0.307 ----- True score: -0.340\n",
      "Predicted score: 0.656 ----- True score: 0.713\n",
      "Predicted score: 0.083 ----- True score: -0.202\n",
      "Predicted score: -0.116 ----- True score: -0.235\n",
      "Predicted score: 0.848 ----- True score: 0.153\n",
      "Predicted score: -0.422 ----- True score: -0.649\n",
      "Predicted score: 0.806 ----- True score: 0.586\n",
      "Predicted score: 0.038 ----- True score: 0.840\n",
      "Predicted score: 0.414 ----- True score: 0.892\n",
      "Predicted score: -0.189 ----- True score: 0.815\n",
      "Predicted score: 0.352 ----- True score: 0.000\n",
      "Predicted score: 0.060 ----- True score: 0.206\n",
      "Predicted score: 0.636 ----- True score: 0.782\n",
      "Predicted score: 0.845 ----- True score: -0.802\n",
      "Predicted score: -0.939 ----- True score: 0.874\n",
      "Predicted score: 0.296 ----- True score: 0.493\n",
      "Predicted score: -0.193 ----- True score: 0.927\n",
      "Predicted score: -0.450 ----- True score: 0.964\n",
      "Predicted score: 0.342 ----- True score: 0.735\n",
      "Predicted score: 0.631 ----- True score: 0.948\n",
      "Predicted score: -0.693 ----- True score: 0.889\n",
      "Predicted score: -0.274 ----- True score: 0.939\n",
      "Predicted score: -0.026 ----- True score: 0.526\n",
      "Predicted score: 0.327 ----- True score: -0.714\n",
      "Predicted score: -0.602 ----- True score: -0.547\n",
      "Predicted score: -0.552 ----- True score: 0.625\n",
      "Predicted score: 0.936 ----- True score: -0.477\n",
      "\n",
      "######################################\n",
      "\n",
      "Predicted score: 0.414 ----- True score: 0.625\n",
      "Predicted score: 0.913 ----- True score: -0.649\n",
      "Predicted score: 0.840 ----- True score: 0.000\n",
      "Predicted score: 0.222 ----- True score: -0.324\n",
      "Predicted score: 0.191 ----- True score: 0.421\n",
      "Predicted score: -0.999 ----- True score: -0.340\n",
      "Predicted score: -0.454 ----- True score: 0.713\n",
      "Predicted score: 0.778 ----- True score: -0.202\n",
      "Predicted score: -0.727 ----- True score: -0.235\n",
      "Predicted score: 0.891 ----- True score: 0.153\n",
      "Predicted score: -0.184 ----- True score: -0.649\n",
      "Predicted score: -0.145 ----- True score: 0.586\n",
      "Predicted score: -0.379 ----- True score: 0.840\n",
      "Predicted score: 0.337 ----- True score: 0.892\n",
      "Predicted score: -0.463 ----- True score: 0.815\n",
      "Predicted score: 0.429 ----- True score: 0.000\n",
      "Predicted score: -0.821 ----- True score: 0.206\n",
      "Predicted score: -0.658 ----- True score: 0.782\n",
      "Predicted score: 0.732 ----- True score: -0.802\n",
      "Predicted score: 0.062 ----- True score: 0.874\n",
      "Predicted score: 0.958 ----- True score: 0.493\n",
      "Predicted score: -0.388 ----- True score: 0.927\n",
      "Predicted score: 0.816 ----- True score: 0.964\n",
      "Predicted score: 0.222 ----- True score: 0.735\n",
      "Predicted score: -0.382 ----- True score: 0.948\n",
      "Predicted score: -0.478 ----- True score: 0.889\n",
      "Predicted score: 0.483 ----- True score: 0.939\n",
      "Predicted score: 0.837 ----- True score: 0.526\n",
      "Predicted score: 0.461 ----- True score: -0.714\n",
      "Predicted score: -0.878 ----- True score: -0.547\n",
      "Predicted score: 0.344 ----- True score: 0.625\n",
      "Predicted score: 0.809 ----- True score: -0.477\n",
      "\n",
      "######################################\n",
      "\n",
      "Predicted score: 0.652 ----- True score: 0.625\n",
      "Predicted score: 0.387 ----- True score: -0.649\n",
      "Predicted score: 0.985 ----- True score: 0.000\n",
      "Predicted score: 0.452 ----- True score: -0.324\n",
      "Predicted score: -0.881 ----- True score: 0.421\n",
      "Predicted score: 0.879 ----- True score: -0.340\n",
      "Predicted score: 0.696 ----- True score: 0.713\n",
      "Predicted score: 0.063 ----- True score: -0.202\n",
      "Predicted score: 0.369 ----- True score: -0.235\n",
      "Predicted score: 0.168 ----- True score: 0.153\n",
      "Predicted score: -0.609 ----- True score: -0.649\n",
      "Predicted score: 0.559 ----- True score: 0.586\n",
      "Predicted score: 0.989 ----- True score: 0.840\n",
      "Predicted score: -0.969 ----- True score: 0.892\n",
      "Predicted score: 0.084 ----- True score: 0.815\n",
      "Predicted score: -0.577 ----- True score: 0.000\n",
      "Predicted score: -0.216 ----- True score: 0.206\n",
      "Predicted score: 0.448 ----- True score: 0.782\n",
      "Predicted score: 0.792 ----- True score: -0.802\n",
      "Predicted score: 0.083 ----- True score: 0.874\n",
      "Predicted score: 0.752 ----- True score: 0.493\n",
      "Predicted score: -0.976 ----- True score: 0.927\n",
      "Predicted score: 0.764 ----- True score: 0.964\n",
      "Predicted score: -0.702 ----- True score: 0.735\n",
      "Predicted score: -0.306 ----- True score: 0.948\n",
      "Predicted score: -0.279 ----- True score: 0.889\n",
      "Predicted score: -0.011 ----- True score: 0.939\n",
      "Predicted score: -0.441 ----- True score: 0.526\n",
      "Predicted score: 0.196 ----- True score: -0.714\n",
      "Predicted score: -0.260 ----- True score: -0.547\n",
      "Predicted score: 0.079 ----- True score: 0.625\n",
      "Predicted score: 0.451 ----- True score: -0.477\n",
      "\n",
      "######################################\n",
      "\n",
      "Predicted score: 0.185 ----- True score: 0.625\n",
      "Predicted score: 0.144 ----- True score: -0.649\n",
      "Predicted score: 0.264 ----- True score: 0.000\n",
      "Predicted score: 0.844 ----- True score: -0.324\n",
      "Predicted score: -0.211 ----- True score: 0.421\n",
      "Predicted score: -0.127 ----- True score: -0.340\n",
      "Predicted score: -0.734 ----- True score: 0.713\n",
      "Predicted score: 0.213 ----- True score: -0.202\n",
      "Predicted score: 0.411 ----- True score: -0.235\n",
      "Predicted score: 0.107 ----- True score: 0.153\n",
      "Predicted score: -0.832 ----- True score: -0.649\n",
      "Predicted score: 0.496 ----- True score: 0.586\n",
      "Predicted score: -0.538 ----- True score: 0.840\n",
      "Predicted score: -0.842 ----- True score: 0.892\n",
      "Predicted score: 0.348 ----- True score: 0.815\n",
      "Predicted score: -0.637 ----- True score: 0.000\n",
      "Predicted score: -0.246 ----- True score: 0.206\n",
      "Predicted score: -0.380 ----- True score: 0.782\n",
      "Predicted score: -0.833 ----- True score: -0.802\n",
      "Predicted score: 0.466 ----- True score: 0.874\n",
      "Predicted score: -0.325 ----- True score: 0.493\n",
      "Predicted score: -0.141 ----- True score: 0.927\n",
      "Predicted score: 0.854 ----- True score: 0.964\n",
      "Predicted score: -0.379 ----- True score: 0.735\n",
      "Predicted score: -0.808 ----- True score: 0.948\n",
      "Predicted score: 0.729 ----- True score: 0.889\n",
      "Predicted score: -0.466 ----- True score: 0.939\n",
      "Predicted score: -0.310 ----- True score: 0.526\n",
      "Predicted score: 0.561 ----- True score: -0.714\n",
      "Predicted score: -0.221 ----- True score: -0.547\n",
      "Predicted score: 0.214 ----- True score: 0.625\n",
      "Predicted score: 0.089 ----- True score: -0.477\n",
      "\n",
      "######################################\n",
      "\n",
      "Predicted score: 0.040 ----- True score: 0.625\n",
      "Predicted score: 0.200 ----- True score: -0.649\n",
      "Predicted score: 0.768 ----- True score: 0.000\n",
      "Predicted score: 0.526 ----- True score: -0.324\n",
      "Predicted score: 0.167 ----- True score: 0.421\n",
      "Predicted score: -0.113 ----- True score: -0.340\n",
      "Predicted score: -0.643 ----- True score: 0.713\n",
      "Predicted score: -0.941 ----- True score: -0.202\n",
      "Predicted score: -0.773 ----- True score: -0.235\n",
      "Predicted score: 0.385 ----- True score: 0.153\n",
      "Predicted score: -0.168 ----- True score: -0.649\n",
      "Predicted score: 0.423 ----- True score: 0.586\n",
      "Predicted score: 0.466 ----- True score: 0.840\n",
      "Predicted score: 0.139 ----- True score: 0.892\n",
      "Predicted score: -0.657 ----- True score: 0.815\n",
      "Predicted score: 0.494 ----- True score: 0.000\n",
      "Predicted score: -0.237 ----- True score: 0.206\n",
      "Predicted score: -0.467 ----- True score: 0.782\n",
      "Predicted score: 0.585 ----- True score: -0.802\n",
      "Predicted score: -0.099 ----- True score: 0.874\n",
      "Predicted score: -0.980 ----- True score: 0.493\n",
      "Predicted score: -0.919 ----- True score: 0.927\n",
      "Predicted score: -0.918 ----- True score: 0.964\n",
      "Predicted score: 0.810 ----- True score: 0.735\n",
      "Predicted score: -0.010 ----- True score: 0.948\n",
      "Predicted score: 0.969 ----- True score: 0.889\n",
      "Predicted score: -0.285 ----- True score: 0.939\n",
      "Predicted score: 0.397 ----- True score: 0.526\n",
      "Predicted score: 0.262 ----- True score: -0.714\n",
      "Predicted score: 0.223 ----- True score: -0.547\n",
      "Predicted score: 0.342 ----- True score: 0.625\n",
      "Predicted score: -0.267 ----- True score: -0.477\n",
      "\n",
      "######################################\n",
      "\n",
      "Predicted score: -0.979 ----- True score: 0.625\n",
      "Predicted score: -0.665 ----- True score: -0.649\n",
      "Predicted score: 0.891 ----- True score: 0.000\n",
      "Predicted score: -0.781 ----- True score: -0.324\n",
      "Predicted score: 0.854 ----- True score: 0.421\n",
      "Predicted score: -0.589 ----- True score: -0.340\n",
      "Predicted score: -0.215 ----- True score: 0.713\n",
      "Predicted score: -0.912 ----- True score: -0.202\n",
      "Predicted score: -0.134 ----- True score: -0.235\n",
      "Predicted score: 0.589 ----- True score: 0.153\n",
      "Predicted score: 0.049 ----- True score: -0.649\n",
      "Predicted score: -0.804 ----- True score: 0.586\n",
      "Predicted score: -0.146 ----- True score: 0.840\n",
      "Predicted score: -0.851 ----- True score: 0.892\n",
      "Predicted score: -0.102 ----- True score: 0.815\n",
      "Predicted score: 0.794 ----- True score: 0.000\n",
      "Predicted score: 0.715 ----- True score: 0.206\n",
      "Predicted score: -0.078 ----- True score: 0.782\n",
      "Predicted score: -0.543 ----- True score: -0.802\n",
      "Predicted score: -0.349 ----- True score: 0.874\n",
      "Predicted score: -0.449 ----- True score: 0.493\n",
      "Predicted score: -0.765 ----- True score: 0.927\n",
      "Predicted score: -0.850 ----- True score: 0.964\n",
      "Predicted score: -0.111 ----- True score: 0.735\n",
      "Predicted score: 0.082 ----- True score: 0.948\n",
      "Predicted score: 0.155 ----- True score: 0.889\n",
      "Predicted score: -0.403 ----- True score: 0.939\n",
      "Predicted score: -0.218 ----- True score: 0.526\n",
      "Predicted score: 0.249 ----- True score: -0.714\n",
      "Predicted score: -0.561 ----- True score: -0.547\n",
      "Predicted score: 0.247 ----- True score: 0.625\n",
      "Predicted score: -0.823 ----- True score: -0.477\n",
      "\n",
      "######################################\n",
      "\n",
      "Predicted score: 0.805 ----- True score: 0.625\n",
      "Predicted score: 0.905 ----- True score: -0.649\n",
      "Predicted score: 0.653 ----- True score: 0.000\n",
      "Predicted score: -0.337 ----- True score: -0.324\n",
      "Predicted score: 0.636 ----- True score: 0.421\n",
      "Predicted score: -0.526 ----- True score: -0.340\n",
      "Predicted score: 0.030 ----- True score: 0.713\n",
      "Predicted score: -0.745 ----- True score: -0.202\n",
      "Predicted score: 0.753 ----- True score: -0.235\n",
      "Predicted score: 0.201 ----- True score: 0.153\n",
      "Predicted score: 0.811 ----- True score: -0.649\n",
      "Predicted score: 0.683 ----- True score: 0.586\n",
      "Predicted score: -0.338 ----- True score: 0.840\n",
      "Predicted score: 0.815 ----- True score: 0.892\n",
      "Predicted score: 0.877 ----- True score: 0.815\n",
      "Predicted score: 0.135 ----- True score: 0.000\n",
      "Predicted score: 0.447 ----- True score: 0.206\n",
      "Predicted score: 0.626 ----- True score: 0.782\n",
      "Predicted score: -0.601 ----- True score: -0.802\n",
      "Predicted score: 0.746 ----- True score: 0.874\n",
      "Predicted score: 0.789 ----- True score: 0.493\n",
      "Predicted score: -0.138 ----- True score: 0.927\n",
      "Predicted score: -0.519 ----- True score: 0.964\n",
      "Predicted score: 0.935 ----- True score: 0.735\n",
      "Predicted score: 0.339 ----- True score: 0.948\n",
      "Predicted score: 0.517 ----- True score: 0.889\n",
      "Predicted score: 0.051 ----- True score: 0.939\n",
      "Predicted score: 0.947 ----- True score: 0.526\n",
      "Predicted score: -0.114 ----- True score: -0.714\n",
      "Predicted score: 0.618 ----- True score: -0.547\n",
      "Predicted score: 0.131 ----- True score: 0.625\n",
      "Predicted score: -0.784 ----- True score: -0.477\n",
      "\n",
      "######################################\n",
      "\n",
      "Predicted score: -0.133 ----- True score: 0.625\n",
      "Predicted score: -0.646 ----- True score: -0.649\n",
      "Predicted score: 0.050 ----- True score: 0.000\n",
      "Predicted score: -0.639 ----- True score: -0.324\n",
      "Predicted score: 0.760 ----- True score: 0.421\n",
      "Predicted score: -0.938 ----- True score: -0.340\n",
      "Predicted score: -0.987 ----- True score: 0.713\n",
      "Predicted score: -0.502 ----- True score: -0.202\n",
      "Predicted score: -0.287 ----- True score: -0.235\n",
      "Predicted score: -0.042 ----- True score: 0.153\n",
      "Predicted score: -0.214 ----- True score: -0.649\n",
      "Predicted score: -0.356 ----- True score: 0.586\n",
      "Predicted score: 0.536 ----- True score: 0.840\n",
      "Predicted score: -0.236 ----- True score: 0.892\n",
      "Predicted score: -0.465 ----- True score: 0.815\n",
      "Predicted score: -0.177 ----- True score: 0.000\n",
      "Predicted score: -0.616 ----- True score: 0.206\n",
      "Predicted score: 0.479 ----- True score: 0.782\n",
      "Predicted score: 0.609 ----- True score: -0.802\n",
      "Predicted score: 0.912 ----- True score: 0.874\n",
      "Predicted score: 0.084 ----- True score: 0.493\n",
      "Predicted score: 0.756 ----- True score: 0.927\n",
      "Predicted score: 0.669 ----- True score: 0.964\n",
      "Predicted score: -0.861 ----- True score: 0.735\n",
      "Predicted score: -0.767 ----- True score: 0.948\n",
      "Predicted score: 0.382 ----- True score: 0.889\n",
      "Predicted score: -0.643 ----- True score: 0.939\n",
      "Predicted score: 0.923 ----- True score: 0.526\n",
      "Predicted score: -0.130 ----- True score: -0.714\n",
      "Predicted score: 0.428 ----- True score: -0.547\n",
      "Predicted score: 0.842 ----- True score: 0.625\n",
      "Predicted score: -0.539 ----- True score: -0.477\n",
      "\n",
      "######################################\n",
      "\n",
      "Predicted score: -0.187 ----- True score: 0.625\n",
      "Predicted score: 0.648 ----- True score: -0.649\n",
      "Predicted score: 0.001 ----- True score: 0.000\n",
      "Predicted score: 0.992 ----- True score: -0.324\n",
      "Predicted score: -0.464 ----- True score: 0.421\n",
      "Predicted score: -0.076 ----- True score: -0.340\n",
      "Predicted score: -0.860 ----- True score: 0.713\n",
      "Predicted score: -0.630 ----- True score: -0.202\n",
      "Predicted score: 0.763 ----- True score: -0.235\n",
      "Predicted score: -0.632 ----- True score: 0.153\n",
      "Predicted score: -0.416 ----- True score: -0.649\n",
      "Predicted score: -0.007 ----- True score: 0.586\n",
      "Predicted score: 0.543 ----- True score: 0.840\n",
      "Predicted score: -0.956 ----- True score: 0.892\n",
      "Predicted score: 0.391 ----- True score: 0.815\n",
      "Predicted score: 0.994 ----- True score: 0.000\n",
      "Predicted score: -0.345 ----- True score: 0.206\n",
      "Predicted score: -0.207 ----- True score: 0.782\n",
      "Predicted score: -0.733 ----- True score: -0.802\n",
      "Predicted score: 0.720 ----- True score: 0.874\n",
      "Predicted score: -0.828 ----- True score: 0.493\n",
      "Predicted score: -0.511 ----- True score: 0.927\n",
      "Predicted score: -0.965 ----- True score: 0.964\n",
      "Predicted score: 0.141 ----- True score: 0.735\n",
      "Predicted score: 0.966 ----- True score: 0.948\n",
      "Predicted score: -0.535 ----- True score: 0.889\n",
      "Predicted score: -0.898 ----- True score: 0.939\n",
      "Predicted score: -0.078 ----- True score: 0.526\n",
      "Predicted score: -0.401 ----- True score: -0.714\n",
      "Predicted score: 0.357 ----- True score: -0.547\n",
      "Predicted score: -0.455 ----- True score: 0.625\n",
      "Predicted score: -0.566 ----- True score: -0.477\n",
      "\n",
      "######################################\n",
      "\n",
      "Predicted score: -0.468 ----- True score: 0.625\n",
      "Predicted score: 0.719 ----- True score: -0.649\n",
      "Predicted score: 0.724 ----- True score: 0.000\n",
      "Predicted score: -0.158 ----- True score: -0.324\n",
      "Predicted score: -0.877 ----- True score: 0.421\n",
      "Predicted score: 0.988 ----- True score: -0.340\n",
      "Predicted score: 0.408 ----- True score: 0.713\n",
      "Predicted score: 0.355 ----- True score: -0.202\n",
      "Predicted score: -0.086 ----- True score: -0.235\n",
      "Predicted score: -0.482 ----- True score: 0.153\n",
      "Predicted score: -0.880 ----- True score: -0.649\n",
      "Predicted score: 0.794 ----- True score: 0.586\n",
      "Predicted score: -0.599 ----- True score: 0.840\n",
      "Predicted score: 0.827 ----- True score: 0.892\n",
      "Predicted score: 0.683 ----- True score: 0.815\n",
      "Predicted score: 0.223 ----- True score: 0.000\n",
      "Predicted score: 0.248 ----- True score: 0.206\n",
      "Predicted score: 0.492 ----- True score: 0.782\n",
      "Predicted score: -0.785 ----- True score: -0.802\n",
      "Predicted score: 0.478 ----- True score: 0.874\n",
      "Predicted score: 0.568 ----- True score: 0.493\n",
      "Predicted score: -0.270 ----- True score: 0.927\n",
      "Predicted score: 0.999 ----- True score: 0.964\n",
      "Predicted score: 0.731 ----- True score: 0.735\n",
      "Predicted score: 0.903 ----- True score: 0.948\n",
      "Predicted score: 0.572 ----- True score: 0.889\n",
      "Predicted score: 0.702 ----- True score: 0.939\n",
      "Predicted score: -0.146 ----- True score: 0.526\n",
      "Predicted score: -0.226 ----- True score: -0.714\n",
      "Predicted score: 0.097 ----- True score: -0.547\n",
      "Predicted score: -0.732 ----- True score: 0.625\n",
      "Predicted score: 0.504 ----- True score: -0.477\n",
      "\n",
      "######################################\n",
      "\n",
      "Predicted score: -0.461 ----- True score: 0.625\n",
      "Predicted score: 0.362 ----- True score: -0.649\n",
      "Predicted score: -0.939 ----- True score: 0.000\n",
      "Predicted score: -0.333 ----- True score: -0.324\n",
      "Predicted score: -0.417 ----- True score: 0.421\n",
      "Predicted score: 0.978 ----- True score: -0.340\n",
      "Predicted score: -0.389 ----- True score: 0.713\n",
      "Predicted score: 0.542 ----- True score: -0.202\n",
      "Predicted score: 0.651 ----- True score: -0.235\n",
      "Predicted score: -0.196 ----- True score: 0.153\n",
      "Predicted score: 0.475 ----- True score: -0.649\n",
      "Predicted score: -0.971 ----- True score: 0.586\n",
      "Predicted score: 0.931 ----- True score: 0.840\n",
      "Predicted score: 0.887 ----- True score: 0.892\n",
      "Predicted score: -0.794 ----- True score: 0.815\n",
      "Predicted score: 0.294 ----- True score: 0.000\n",
      "Predicted score: 0.425 ----- True score: 0.206\n",
      "Predicted score: -0.146 ----- True score: 0.782\n",
      "Predicted score: -0.331 ----- True score: -0.802\n",
      "Predicted score: -0.822 ----- True score: 0.874\n",
      "Predicted score: 0.909 ----- True score: 0.493\n",
      "Predicted score: 0.299 ----- True score: 0.927\n",
      "Predicted score: -0.304 ----- True score: 0.964\n",
      "Predicted score: -0.188 ----- True score: 0.735\n",
      "Predicted score: 0.104 ----- True score: 0.948\n",
      "Predicted score: -0.120 ----- True score: 0.889\n",
      "Predicted score: 0.609 ----- True score: 0.939\n",
      "Predicted score: -0.020 ----- True score: 0.526\n",
      "Predicted score: 0.438 ----- True score: -0.714\n",
      "Predicted score: 0.188 ----- True score: -0.547\n",
      "Predicted score: -0.753 ----- True score: 0.625\n",
      "Predicted score: -0.028 ----- True score: -0.477\n",
      "\n",
      "######################################\n",
      "\n",
      "Predicted score: -0.600 ----- True score: 0.625\n",
      "Predicted score: 0.061 ----- True score: -0.649\n",
      "Predicted score: -0.963 ----- True score: 0.000\n",
      "Predicted score: 0.375 ----- True score: -0.324\n",
      "Predicted score: 0.184 ----- True score: 0.421\n",
      "Predicted score: -0.112 ----- True score: -0.340\n",
      "Predicted score: 0.767 ----- True score: 0.713\n",
      "Predicted score: -0.424 ----- True score: -0.202\n",
      "Predicted score: -0.672 ----- True score: -0.235\n",
      "Predicted score: 0.985 ----- True score: 0.153\n",
      "Predicted score: -0.317 ----- True score: -0.649\n",
      "Predicted score: -0.400 ----- True score: 0.586\n",
      "Predicted score: 0.928 ----- True score: 0.840\n",
      "Predicted score: -0.962 ----- True score: 0.892\n",
      "Predicted score: 0.210 ----- True score: 0.815\n",
      "Predicted score: -0.970 ----- True score: 0.000\n",
      "Predicted score: 0.792 ----- True score: 0.206\n",
      "Predicted score: 0.191 ----- True score: 0.782\n",
      "Predicted score: -0.765 ----- True score: -0.802\n",
      "Predicted score: -0.135 ----- True score: 0.874\n",
      "Predicted score: -0.035 ----- True score: 0.493\n",
      "Predicted score: 0.709 ----- True score: 0.927\n",
      "Predicted score: -0.108 ----- True score: 0.964\n",
      "Predicted score: 0.084 ----- True score: 0.735\n",
      "Predicted score: 0.278 ----- True score: 0.948\n",
      "Predicted score: 0.260 ----- True score: 0.889\n",
      "Predicted score: -0.315 ----- True score: 0.939\n",
      "Predicted score: -0.891 ----- True score: 0.526\n",
      "Predicted score: -0.962 ----- True score: -0.714\n",
      "Predicted score: -0.238 ----- True score: -0.547\n",
      "Predicted score: 0.218 ----- True score: 0.625\n",
      "Predicted score: 0.147 ----- True score: -0.477\n",
      "\n",
      "######################################\n",
      "\n",
      "Predicted score: -0.856 ----- True score: 0.625\n",
      "Predicted score: 0.474 ----- True score: -0.649\n",
      "Predicted score: 0.517 ----- True score: 0.000\n",
      "Predicted score: -0.811 ----- True score: -0.324\n",
      "Predicted score: -0.084 ----- True score: 0.421\n",
      "Predicted score: 0.966 ----- True score: -0.340\n",
      "Predicted score: -0.815 ----- True score: 0.713\n",
      "Predicted score: 0.059 ----- True score: -0.202\n",
      "Predicted score: -0.021 ----- True score: -0.235\n",
      "Predicted score: 0.231 ----- True score: 0.153\n",
      "Predicted score: -0.013 ----- True score: -0.649\n",
      "Predicted score: -0.318 ----- True score: 0.586\n",
      "Predicted score: 0.810 ----- True score: 0.840\n",
      "Predicted score: -0.393 ----- True score: 0.892\n",
      "Predicted score: 0.249 ----- True score: 0.815\n",
      "Predicted score: -0.231 ----- True score: 0.000\n",
      "Predicted score: -0.295 ----- True score: 0.206\n",
      "Predicted score: 0.214 ----- True score: 0.782\n",
      "Predicted score: 0.261 ----- True score: -0.802\n",
      "Predicted score: 0.924 ----- True score: 0.874\n",
      "Predicted score: -0.980 ----- True score: 0.493\n",
      "Predicted score: -0.845 ----- True score: 0.927\n",
      "Predicted score: -0.130 ----- True score: 0.964\n",
      "Predicted score: 0.132 ----- True score: 0.735\n",
      "Predicted score: 0.292 ----- True score: 0.948\n",
      "Predicted score: -0.380 ----- True score: 0.889\n",
      "Predicted score: 0.982 ----- True score: 0.939\n",
      "Predicted score: 0.636 ----- True score: 0.526\n",
      "Predicted score: 0.418 ----- True score: -0.714\n",
      "Predicted score: 0.626 ----- True score: -0.547\n",
      "Predicted score: -0.569 ----- True score: 0.625\n",
      "Predicted score: 0.120 ----- True score: -0.477\n",
      "\n",
      "######################################\n",
      "\n",
      "Predicted score: -0.600 ----- True score: 0.625\n",
      "Predicted score: 0.982 ----- True score: -0.649\n",
      "Predicted score: 0.295 ----- True score: 0.000\n",
      "Predicted score: 0.090 ----- True score: -0.324\n",
      "Predicted score: -0.993 ----- True score: 0.421\n",
      "Predicted score: 0.620 ----- True score: -0.340\n",
      "Predicted score: 0.608 ----- True score: 0.713\n",
      "Predicted score: -0.597 ----- True score: -0.202\n",
      "Predicted score: 0.439 ----- True score: -0.235\n",
      "Predicted score: -0.841 ----- True score: 0.153\n",
      "Predicted score: 0.848 ----- True score: -0.649\n",
      "Predicted score: 0.089 ----- True score: 0.586\n",
      "Predicted score: 0.251 ----- True score: 0.840\n",
      "Predicted score: -0.665 ----- True score: 0.892\n",
      "Predicted score: -0.538 ----- True score: 0.815\n",
      "Predicted score: -0.800 ----- True score: 0.000\n",
      "Predicted score: -0.218 ----- True score: 0.206\n",
      "Predicted score: 0.033 ----- True score: 0.782\n",
      "Predicted score: -0.936 ----- True score: -0.802\n",
      "Predicted score: -0.336 ----- True score: 0.874\n",
      "Predicted score: 0.315 ----- True score: 0.493\n",
      "Predicted score: 0.464 ----- True score: 0.927\n",
      "Predicted score: 0.642 ----- True score: 0.964\n",
      "Predicted score: -0.608 ----- True score: 0.735\n",
      "Predicted score: 0.893 ----- True score: 0.948\n",
      "Predicted score: 0.463 ----- True score: 0.889\n",
      "Predicted score: 0.271 ----- True score: 0.939\n",
      "Predicted score: 0.992 ----- True score: 0.526\n",
      "Predicted score: -0.829 ----- True score: -0.714\n",
      "Predicted score: 0.798 ----- True score: -0.547\n",
      "Predicted score: 0.015 ----- True score: 0.625\n",
      "Predicted score: 0.283 ----- True score: -0.477\n",
      "\n",
      "######################################\n",
      "\n",
      "Predicted score: 0.414 ----- True score: 0.625\n",
      "Predicted score: -0.040 ----- True score: -0.649\n",
      "Predicted score: 0.042 ----- True score: 0.000\n",
      "Predicted score: -0.215 ----- True score: -0.324\n",
      "Predicted score: 0.252 ----- True score: 0.421\n",
      "Predicted score: -0.900 ----- True score: -0.340\n",
      "Predicted score: -0.102 ----- True score: 0.713\n",
      "Predicted score: -0.912 ----- True score: -0.202\n",
      "Predicted score: 0.189 ----- True score: -0.235\n",
      "Predicted score: 0.217 ----- True score: 0.153\n",
      "Predicted score: -0.938 ----- True score: -0.649\n",
      "Predicted score: -0.397 ----- True score: 0.586\n",
      "Predicted score: 0.488 ----- True score: 0.840\n",
      "Predicted score: 0.331 ----- True score: 0.892\n",
      "Predicted score: 0.545 ----- True score: 0.815\n",
      "Predicted score: -0.737 ----- True score: 0.000\n",
      "Predicted score: 0.462 ----- True score: 0.206\n",
      "Predicted score: 0.500 ----- True score: 0.782\n",
      "Predicted score: 0.584 ----- True score: -0.802\n",
      "Predicted score: 0.385 ----- True score: 0.874\n",
      "Predicted score: 0.354 ----- True score: 0.493\n",
      "Predicted score: 0.482 ----- True score: 0.927\n",
      "Predicted score: -0.410 ----- True score: 0.964\n",
      "Predicted score: 0.461 ----- True score: 0.735\n",
      "Predicted score: -0.805 ----- True score: 0.948\n",
      "Predicted score: -0.180 ----- True score: 0.889\n",
      "Predicted score: 0.591 ----- True score: 0.939\n",
      "Predicted score: 0.841 ----- True score: 0.526\n",
      "Predicted score: -0.099 ----- True score: -0.714\n",
      "Predicted score: -0.071 ----- True score: -0.547\n",
      "Predicted score: -0.176 ----- True score: 0.625\n",
      "Predicted score: 0.204 ----- True score: -0.477\n",
      "\n",
      "######################################\n",
      "\n",
      "Predicted score: 0.870 ----- True score: 0.625\n",
      "Predicted score: 0.561 ----- True score: -0.649\n",
      "Predicted score: 0.779 ----- True score: 0.000\n",
      "Predicted score: 0.366 ----- True score: -0.324\n",
      "Predicted score: -0.134 ----- True score: 0.421\n",
      "Predicted score: -0.945 ----- True score: -0.340\n",
      "Predicted score: -0.176 ----- True score: 0.713\n",
      "Predicted score: 0.851 ----- True score: -0.202\n",
      "Predicted score: 0.254 ----- True score: -0.235\n",
      "Predicted score: -0.020 ----- True score: 0.153\n",
      "Predicted score: -0.647 ----- True score: -0.649\n",
      "Predicted score: -0.833 ----- True score: 0.586\n",
      "Predicted score: -0.930 ----- True score: 0.840\n",
      "Predicted score: 0.879 ----- True score: 0.892\n",
      "Predicted score: -0.282 ----- True score: 0.815\n",
      "Predicted score: -0.647 ----- True score: 0.000\n",
      "Predicted score: 0.034 ----- True score: 0.206\n",
      "Predicted score: 0.271 ----- True score: 0.782\n",
      "Predicted score: 0.564 ----- True score: -0.802\n",
      "Predicted score: 0.649 ----- True score: 0.874\n",
      "Predicted score: -0.101 ----- True score: 0.493\n",
      "Predicted score: 0.786 ----- True score: 0.927\n",
      "Predicted score: 0.236 ----- True score: 0.964\n",
      "Predicted score: -0.468 ----- True score: 0.735\n",
      "Predicted score: -0.299 ----- True score: 0.948\n",
      "Predicted score: -0.155 ----- True score: 0.889\n",
      "Predicted score: 0.635 ----- True score: 0.939\n",
      "Predicted score: -0.870 ----- True score: 0.526\n",
      "Predicted score: -0.655 ----- True score: -0.714\n",
      "Predicted score: 0.758 ----- True score: -0.547\n",
      "Predicted score: 0.172 ----- True score: 0.625\n",
      "Predicted score: -0.429 ----- True score: -0.477\n",
      "\n",
      "######################################\n",
      "\n",
      "Predicted score: 0.084 ----- True score: 0.625\n",
      "Predicted score: -0.823 ----- True score: -0.649\n",
      "Predicted score: -0.724 ----- True score: 0.000\n",
      "Predicted score: 0.372 ----- True score: -0.324\n",
      "Predicted score: 0.060 ----- True score: 0.421\n",
      "Predicted score: -0.528 ----- True score: -0.340\n",
      "Predicted score: -0.969 ----- True score: 0.713\n",
      "Predicted score: 0.487 ----- True score: -0.202\n",
      "Predicted score: -0.052 ----- True score: -0.235\n",
      "Predicted score: 0.627 ----- True score: 0.153\n",
      "Predicted score: 0.941 ----- True score: -0.649\n",
      "Predicted score: -0.081 ----- True score: 0.586\n",
      "Predicted score: 0.598 ----- True score: 0.840\n",
      "Predicted score: -0.670 ----- True score: 0.892\n",
      "Predicted score: 0.925 ----- True score: 0.815\n",
      "Predicted score: -0.125 ----- True score: 0.000\n",
      "Predicted score: -0.169 ----- True score: 0.206\n",
      "Predicted score: -0.785 ----- True score: 0.782\n",
      "Predicted score: 0.820 ----- True score: -0.802\n",
      "Predicted score: 0.190 ----- True score: 0.874\n",
      "Predicted score: -0.383 ----- True score: 0.493\n",
      "Predicted score: 0.952 ----- True score: 0.927\n",
      "Predicted score: -0.798 ----- True score: 0.964\n",
      "Predicted score: -0.282 ----- True score: 0.735\n",
      "Predicted score: 0.062 ----- True score: 0.948\n",
      "Predicted score: -0.367 ----- True score: 0.889\n",
      "Predicted score: -0.900 ----- True score: 0.939\n",
      "Predicted score: 0.554 ----- True score: 0.526\n",
      "Predicted score: 0.154 ----- True score: -0.714\n",
      "Predicted score: 0.746 ----- True score: -0.547\n",
      "Predicted score: 0.591 ----- True score: 0.625\n",
      "Predicted score: -0.516 ----- True score: -0.477\n",
      "\n",
      "######################################\n",
      "\n",
      "Predicted score: 0.890 ----- True score: 0.625\n",
      "Predicted score: 0.218 ----- True score: -0.649\n",
      "Predicted score: -0.178 ----- True score: 0.000\n",
      "Predicted score: -0.742 ----- True score: -0.324\n",
      "Predicted score: 0.292 ----- True score: 0.421\n",
      "Predicted score: 0.630 ----- True score: -0.340\n",
      "Predicted score: -0.141 ----- True score: 0.713\n",
      "Predicted score: 0.162 ----- True score: -0.202\n",
      "Predicted score: 0.398 ----- True score: -0.235\n",
      "Predicted score: -0.853 ----- True score: 0.153\n",
      "Predicted score: 0.062 ----- True score: -0.649\n",
      "Predicted score: -0.331 ----- True score: 0.586\n",
      "Predicted score: -0.664 ----- True score: 0.840\n",
      "Predicted score: -0.357 ----- True score: 0.892\n",
      "Predicted score: -0.423 ----- True score: 0.815\n",
      "Predicted score: 0.563 ----- True score: 0.000\n",
      "Predicted score: -0.699 ----- True score: 0.206\n",
      "Predicted score: -0.286 ----- True score: 0.782\n",
      "Predicted score: -0.122 ----- True score: -0.802\n",
      "Predicted score: -0.298 ----- True score: 0.874\n",
      "Predicted score: -0.924 ----- True score: 0.493\n",
      "Predicted score: 0.633 ----- True score: 0.927\n",
      "Predicted score: 0.098 ----- True score: 0.964\n",
      "Predicted score: 0.380 ----- True score: 0.735\n",
      "Predicted score: 0.207 ----- True score: 0.948\n",
      "Predicted score: -0.749 ----- True score: 0.889\n",
      "Predicted score: -0.781 ----- True score: 0.939\n",
      "Predicted score: 0.190 ----- True score: 0.526\n",
      "Predicted score: 0.200 ----- True score: -0.714\n",
      "Predicted score: -0.764 ----- True score: -0.547\n",
      "Predicted score: 0.555 ----- True score: 0.625\n",
      "Predicted score: -0.296 ----- True score: -0.477\n",
      "\n",
      "######################################\n",
      "\n",
      "Predicted score: -0.885 ----- True score: 0.625\n",
      "Predicted score: -0.247 ----- True score: -0.649\n",
      "Predicted score: 0.134 ----- True score: 0.000\n",
      "Predicted score: -0.226 ----- True score: -0.324\n",
      "Predicted score: -0.123 ----- True score: 0.421\n",
      "Predicted score: 0.828 ----- True score: -0.340\n",
      "Predicted score: -0.230 ----- True score: 0.713\n",
      "Predicted score: 0.542 ----- True score: -0.202\n",
      "Predicted score: -0.144 ----- True score: -0.235\n",
      "Predicted score: -0.803 ----- True score: 0.153\n",
      "Predicted score: 0.386 ----- True score: -0.649\n",
      "Predicted score: 0.885 ----- True score: 0.586\n",
      "Predicted score: 0.609 ----- True score: 0.840\n",
      "Predicted score: -0.251 ----- True score: 0.892\n",
      "Predicted score: 0.712 ----- True score: 0.815\n",
      "Predicted score: -0.244 ----- True score: 0.000\n",
      "Predicted score: -0.288 ----- True score: 0.206\n",
      "Predicted score: -0.501 ----- True score: 0.782\n",
      "Predicted score: 0.667 ----- True score: -0.802\n",
      "Predicted score: 0.755 ----- True score: 0.874\n",
      "Predicted score: 0.430 ----- True score: 0.493\n",
      "Predicted score: 0.192 ----- True score: 0.927\n",
      "Predicted score: 0.581 ----- True score: 0.964\n",
      "Predicted score: -0.648 ----- True score: 0.735\n",
      "Predicted score: 0.793 ----- True score: 0.948\n",
      "Predicted score: -0.094 ----- True score: 0.889\n",
      "Predicted score: 0.814 ----- True score: 0.939\n",
      "Predicted score: 0.264 ----- True score: 0.526\n",
      "Predicted score: 0.354 ----- True score: -0.714\n",
      "Predicted score: 0.663 ----- True score: -0.547\n",
      "Predicted score: 0.707 ----- True score: 0.625\n",
      "Predicted score: -0.301 ----- True score: -0.477\n",
      "\n",
      "######################################\n",
      "\n",
      "Predicted score: -0.027 ----- True score: 0.625\n",
      "Predicted score: -0.108 ----- True score: -0.649\n",
      "Predicted score: 0.353 ----- True score: 0.000\n",
      "Predicted score: -0.158 ----- True score: -0.324\n",
      "Predicted score: 0.108 ----- True score: 0.421\n",
      "Predicted score: -0.749 ----- True score: -0.340\n",
      "Predicted score: -0.265 ----- True score: 0.713\n",
      "Predicted score: -0.732 ----- True score: -0.202\n",
      "Predicted score: -0.314 ----- True score: -0.235\n",
      "Predicted score: -0.232 ----- True score: 0.153\n",
      "Predicted score: 0.872 ----- True score: -0.649\n",
      "Predicted score: -0.663 ----- True score: 0.586\n",
      "Predicted score: -0.911 ----- True score: 0.840\n",
      "Predicted score: -0.523 ----- True score: 0.892\n",
      "Predicted score: -0.309 ----- True score: 0.815\n",
      "Predicted score: -0.302 ----- True score: 0.000\n",
      "Predicted score: -0.798 ----- True score: 0.206\n",
      "Predicted score: -0.238 ----- True score: 0.782\n",
      "Predicted score: -0.635 ----- True score: -0.802\n",
      "Predicted score: -0.378 ----- True score: 0.874\n",
      "Predicted score: 0.622 ----- True score: 0.493\n",
      "Predicted score: -0.905 ----- True score: 0.927\n",
      "Predicted score: -0.559 ----- True score: 0.964\n",
      "Predicted score: -0.568 ----- True score: 0.735\n",
      "Predicted score: 0.075 ----- True score: 0.948\n",
      "Predicted score: 0.886 ----- True score: 0.889\n",
      "Predicted score: 0.748 ----- True score: 0.939\n",
      "Predicted score: 0.334 ----- True score: 0.526\n",
      "Predicted score: -0.562 ----- True score: -0.714\n",
      "Predicted score: 0.209 ----- True score: -0.547\n",
      "Predicted score: -0.855 ----- True score: 0.625\n",
      "Predicted score: -0.364 ----- True score: -0.477\n",
      "\n",
      "######################################\n",
      "\n",
      "Predicted score: 0.242 ----- True score: 0.625\n",
      "Predicted score: 0.091 ----- True score: -0.649\n",
      "Predicted score: 0.214 ----- True score: 0.000\n",
      "Predicted score: -0.657 ----- True score: -0.324\n",
      "Predicted score: -0.544 ----- True score: 0.421\n",
      "Predicted score: 0.061 ----- True score: -0.340\n",
      "Predicted score: -0.131 ----- True score: 0.713\n",
      "Predicted score: -0.983 ----- True score: -0.202\n",
      "Predicted score: 0.955 ----- True score: -0.235\n",
      "Predicted score: 0.866 ----- True score: 0.153\n",
      "Predicted score: -0.508 ----- True score: -0.649\n",
      "Predicted score: 0.254 ----- True score: 0.586\n",
      "Predicted score: -0.981 ----- True score: 0.840\n",
      "Predicted score: 0.926 ----- True score: 0.892\n",
      "Predicted score: -0.490 ----- True score: 0.815\n",
      "Predicted score: -0.919 ----- True score: 0.000\n",
      "Predicted score: 0.651 ----- True score: 0.206\n",
      "Predicted score: 0.581 ----- True score: 0.782\n",
      "Predicted score: -0.265 ----- True score: -0.802\n",
      "Predicted score: 0.344 ----- True score: 0.874\n",
      "Predicted score: -0.254 ----- True score: 0.493\n",
      "Predicted score: 0.322 ----- True score: 0.927\n",
      "Predicted score: -0.247 ----- True score: 0.964\n",
      "Predicted score: -0.520 ----- True score: 0.735\n",
      "Predicted score: 0.388 ----- True score: 0.948\n",
      "Predicted score: -0.335 ----- True score: 0.889\n",
      "Predicted score: 0.956 ----- True score: 0.939\n",
      "Predicted score: 0.797 ----- True score: 0.526\n",
      "Predicted score: 0.998 ----- True score: -0.714\n",
      "Predicted score: -0.456 ----- True score: -0.547\n",
      "Predicted score: 0.559 ----- True score: 0.625\n",
      "Predicted score: -0.175 ----- True score: -0.477\n",
      "\n",
      "######################################\n",
      "\n",
      "Predicted score: -0.777 ----- True score: 0.625\n",
      "Predicted score: 0.715 ----- True score: -0.649\n",
      "Predicted score: 0.878 ----- True score: 0.000\n",
      "Predicted score: 0.272 ----- True score: -0.324\n",
      "Predicted score: 0.373 ----- True score: 0.421\n",
      "Predicted score: -0.681 ----- True score: -0.340\n",
      "Predicted score: -0.333 ----- True score: 0.713\n",
      "Predicted score: -0.947 ----- True score: -0.202\n",
      "Predicted score: -0.115 ----- True score: -0.235\n",
      "Predicted score: 0.291 ----- True score: 0.153\n",
      "Predicted score: -0.438 ----- True score: -0.649\n",
      "Predicted score: 0.114 ----- True score: 0.586\n",
      "Predicted score: 0.667 ----- True score: 0.840\n",
      "Predicted score: 0.226 ----- True score: 0.892\n",
      "Predicted score: -0.408 ----- True score: 0.815\n",
      "Predicted score: 0.128 ----- True score: 0.000\n",
      "Predicted score: -0.673 ----- True score: 0.206\n",
      "Predicted score: 0.349 ----- True score: 0.782\n",
      "Predicted score: -0.016 ----- True score: -0.802\n",
      "Predicted score: 0.355 ----- True score: 0.874\n",
      "Predicted score: -0.800 ----- True score: 0.493\n",
      "Predicted score: -0.277 ----- True score: 0.927\n",
      "Predicted score: 0.189 ----- True score: 0.964\n",
      "Predicted score: 0.633 ----- True score: 0.735\n",
      "Predicted score: 0.986 ----- True score: 0.948\n",
      "Predicted score: 0.018 ----- True score: 0.889\n",
      "Predicted score: -0.646 ----- True score: 0.939\n",
      "Predicted score: -0.417 ----- True score: 0.526\n",
      "Predicted score: 0.058 ----- True score: -0.714\n",
      "Predicted score: 0.340 ----- True score: -0.547\n",
      "Predicted score: 0.283 ----- True score: 0.625\n",
      "Predicted score: -0.002 ----- True score: -0.477\n",
      "\n",
      "######################################\n",
      "\n",
      "Predicted score: -0.097 ----- True score: 0.625\n",
      "Predicted score: 0.385 ----- True score: -0.649\n",
      "Predicted score: -0.087 ----- True score: 0.000\n",
      "Predicted score: -0.503 ----- True score: -0.324\n",
      "Predicted score: 0.003 ----- True score: 0.421\n",
      "Predicted score: -0.957 ----- True score: -0.340\n",
      "Predicted score: -0.630 ----- True score: 0.713\n",
      "Predicted score: -0.499 ----- True score: -0.202\n",
      "Predicted score: -0.485 ----- True score: -0.235\n",
      "Predicted score: -0.935 ----- True score: 0.153\n",
      "Predicted score: 0.764 ----- True score: -0.649\n",
      "Predicted score: -0.549 ----- True score: 0.586\n",
      "Predicted score: 0.919 ----- True score: 0.840\n",
      "Predicted score: -0.518 ----- True score: 0.892\n",
      "Predicted score: -0.317 ----- True score: 0.815\n",
      "Predicted score: 0.250 ----- True score: 0.000\n",
      "Predicted score: -0.623 ----- True score: 0.206\n",
      "Predicted score: 0.598 ----- True score: 0.782\n",
      "Predicted score: 0.438 ----- True score: -0.802\n",
      "Predicted score: 0.499 ----- True score: 0.874\n",
      "Predicted score: 0.168 ----- True score: 0.493\n",
      "Predicted score: -0.552 ----- True score: 0.927\n",
      "Predicted score: -0.079 ----- True score: 0.964\n",
      "Predicted score: 0.919 ----- True score: 0.735\n",
      "Predicted score: 0.353 ----- True score: 0.948\n",
      "Predicted score: -0.250 ----- True score: 0.889\n",
      "Predicted score: 0.739 ----- True score: 0.939\n",
      "Predicted score: 0.616 ----- True score: 0.526\n",
      "Predicted score: -0.121 ----- True score: -0.714\n",
      "Predicted score: 0.655 ----- True score: -0.547\n",
      "Predicted score: -0.139 ----- True score: 0.625\n",
      "Predicted score: 0.103 ----- True score: -0.477\n",
      "\n",
      "######################################\n",
      "\n",
      "Predicted score: 0.560 ----- True score: 0.625\n",
      "Predicted score: -0.021 ----- True score: -0.649\n",
      "Predicted score: 0.191 ----- True score: 0.000\n",
      "Predicted score: 0.107 ----- True score: -0.324\n",
      "Predicted score: -0.678 ----- True score: 0.421\n",
      "Predicted score: -0.300 ----- True score: -0.340\n",
      "Predicted score: -0.447 ----- True score: 0.713\n",
      "Predicted score: -0.886 ----- True score: -0.202\n",
      "Predicted score: -0.549 ----- True score: -0.235\n",
      "Predicted score: -0.543 ----- True score: 0.153\n",
      "Predicted score: -0.840 ----- True score: -0.649\n",
      "Predicted score: -0.905 ----- True score: 0.586\n",
      "Predicted score: 0.834 ----- True score: 0.840\n",
      "Predicted score: 0.777 ----- True score: 0.892\n",
      "Predicted score: 0.472 ----- True score: 0.815\n",
      "Predicted score: 0.885 ----- True score: 0.000\n",
      "Predicted score: 0.127 ----- True score: 0.206\n",
      "Predicted score: -0.093 ----- True score: 0.782\n",
      "Predicted score: -0.437 ----- True score: -0.802\n",
      "Predicted score: 0.695 ----- True score: 0.874\n",
      "Predicted score: -0.885 ----- True score: 0.493\n",
      "Predicted score: 0.190 ----- True score: 0.927\n",
      "Predicted score: 0.940 ----- True score: 0.964\n",
      "Predicted score: -0.475 ----- True score: 0.735\n",
      "Predicted score: 0.649 ----- True score: 0.948\n",
      "Predicted score: 0.178 ----- True score: 0.889\n",
      "Predicted score: -0.167 ----- True score: 0.939\n",
      "Predicted score: 0.838 ----- True score: 0.526\n",
      "Predicted score: -0.253 ----- True score: -0.714\n",
      "Predicted score: 0.674 ----- True score: -0.547\n",
      "Predicted score: -0.729 ----- True score: 0.625\n",
      "Predicted score: 0.463 ----- True score: -0.477\n",
      "\n",
      "######################################\n",
      "\n",
      "Predicted score: 0.217 ----- True score: 0.625\n",
      "Predicted score: 0.687 ----- True score: -0.649\n",
      "Predicted score: 0.787 ----- True score: 0.000\n",
      "Predicted score: 0.050 ----- True score: -0.324\n",
      "Predicted score: -0.892 ----- True score: 0.421\n",
      "Predicted score: 0.585 ----- True score: -0.340\n",
      "Predicted score: -0.112 ----- True score: 0.713\n",
      "Predicted score: 0.997 ----- True score: -0.202\n",
      "Predicted score: -0.670 ----- True score: -0.235\n",
      "Predicted score: 0.311 ----- True score: 0.153\n",
      "Predicted score: 0.705 ----- True score: -0.649\n",
      "Predicted score: -0.187 ----- True score: 0.586\n",
      "Predicted score: 0.157 ----- True score: 0.840\n",
      "Predicted score: 0.546 ----- True score: 0.892\n",
      "Predicted score: 0.271 ----- True score: 0.815\n",
      "Predicted score: -0.801 ----- True score: 0.000\n",
      "Predicted score: -0.327 ----- True score: 0.206\n",
      "Predicted score: -0.610 ----- True score: 0.782\n",
      "Predicted score: 0.444 ----- True score: -0.802\n",
      "Predicted score: -0.232 ----- True score: 0.874\n",
      "Predicted score: -0.025 ----- True score: 0.493\n",
      "Predicted score: -0.815 ----- True score: 0.927\n",
      "Predicted score: 0.999 ----- True score: 0.964\n",
      "Predicted score: 0.196 ----- True score: 0.735\n",
      "Predicted score: 0.001 ----- True score: 0.948\n",
      "Predicted score: 0.933 ----- True score: 0.889\n",
      "Predicted score: 0.809 ----- True score: 0.939\n",
      "Predicted score: -0.443 ----- True score: 0.526\n",
      "Predicted score: -0.292 ----- True score: -0.714\n",
      "Predicted score: 0.857 ----- True score: -0.547\n",
      "Predicted score: 0.027 ----- True score: 0.625\n",
      "Predicted score: 0.728 ----- True score: -0.477\n",
      "\n",
      "######################################\n",
      "\n",
      "Predicted score: -0.852 ----- True score: 0.625\n",
      "Predicted score: 0.985 ----- True score: -0.649\n",
      "Predicted score: 0.412 ----- True score: 0.000\n",
      "Predicted score: 0.953 ----- True score: -0.324\n",
      "Predicted score: -0.179 ----- True score: 0.421\n",
      "Predicted score: -0.506 ----- True score: -0.340\n",
      "Predicted score: 0.668 ----- True score: 0.713\n",
      "Predicted score: -0.648 ----- True score: -0.202\n",
      "Predicted score: 0.324 ----- True score: -0.235\n",
      "Predicted score: -0.354 ----- True score: 0.153\n",
      "Predicted score: -0.945 ----- True score: -0.649\n",
      "Predicted score: -0.235 ----- True score: 0.586\n",
      "Predicted score: 0.375 ----- True score: 0.840\n",
      "Predicted score: 0.979 ----- True score: 0.892\n",
      "Predicted score: 0.436 ----- True score: 0.815\n",
      "Predicted score: 0.594 ----- True score: 0.000\n",
      "Predicted score: 0.263 ----- True score: 0.206\n",
      "Predicted score: 0.813 ----- True score: 0.782\n",
      "Predicted score: 0.645 ----- True score: -0.802\n",
      "Predicted score: 0.499 ----- True score: 0.874\n",
      "Predicted score: 0.888 ----- True score: 0.493\n",
      "Predicted score: -0.255 ----- True score: 0.927\n",
      "Predicted score: 0.464 ----- True score: 0.964\n",
      "Predicted score: 0.997 ----- True score: 0.735\n",
      "Predicted score: 0.211 ----- True score: 0.948\n",
      "Predicted score: -0.617 ----- True score: 0.889\n",
      "Predicted score: 0.299 ----- True score: 0.939\n",
      "Predicted score: 0.328 ----- True score: 0.526\n",
      "Predicted score: -0.178 ----- True score: -0.714\n",
      "Predicted score: 0.631 ----- True score: -0.547\n",
      "Predicted score: -0.088 ----- True score: 0.625\n",
      "Predicted score: 0.675 ----- True score: -0.477\n",
      "\n",
      "######################################\n",
      "\n",
      "Predicted score: 0.172 ----- True score: 0.625\n",
      "Predicted score: -0.646 ----- True score: -0.649\n",
      "Predicted score: 0.966 ----- True score: 0.000\n",
      "Predicted score: 0.038 ----- True score: -0.324\n",
      "Predicted score: -0.191 ----- True score: 0.421\n",
      "Predicted score: 0.310 ----- True score: -0.340\n",
      "Predicted score: -0.859 ----- True score: 0.713\n",
      "Predicted score: -0.210 ----- True score: -0.202\n",
      "Predicted score: 0.713 ----- True score: -0.235\n",
      "Predicted score: 0.400 ----- True score: 0.153\n",
      "Predicted score: 0.423 ----- True score: -0.649\n",
      "Predicted score: -0.972 ----- True score: 0.586\n",
      "Predicted score: 0.677 ----- True score: 0.840\n",
      "Predicted score: -0.744 ----- True score: 0.892\n",
      "Predicted score: -0.539 ----- True score: 0.815\n",
      "Predicted score: 0.974 ----- True score: 0.000\n",
      "Predicted score: 0.871 ----- True score: 0.206\n",
      "Predicted score: -0.233 ----- True score: 0.782\n",
      "Predicted score: 0.025 ----- True score: -0.802\n",
      "Predicted score: -0.775 ----- True score: 0.874\n",
      "Predicted score: 0.955 ----- True score: 0.493\n",
      "Predicted score: -0.224 ----- True score: 0.927\n",
      "Predicted score: 0.017 ----- True score: 0.964\n",
      "Predicted score: -0.481 ----- True score: 0.735\n",
      "Predicted score: -0.197 ----- True score: 0.948\n",
      "Predicted score: 0.622 ----- True score: 0.889\n",
      "Predicted score: 0.425 ----- True score: 0.939\n",
      "Predicted score: -0.393 ----- True score: 0.526\n",
      "Predicted score: -0.867 ----- True score: -0.714\n",
      "Predicted score: 0.720 ----- True score: -0.547\n",
      "Predicted score: 0.628 ----- True score: 0.625\n",
      "Predicted score: -0.875 ----- True score: -0.477\n",
      "\n",
      "######################################\n",
      "\n",
      "Predicted score: 0.604 ----- True score: 0.625\n",
      "Predicted score: 0.256 ----- True score: -0.649\n",
      "Predicted score: -0.194 ----- True score: 0.000\n",
      "Predicted score: 0.476 ----- True score: -0.324\n",
      "Predicted score: -0.170 ----- True score: 0.421\n",
      "Predicted score: 0.779 ----- True score: -0.340\n",
      "Predicted score: -0.158 ----- True score: 0.713\n",
      "Predicted score: -0.898 ----- True score: -0.202\n",
      "Predicted score: -0.966 ----- True score: -0.235\n",
      "Predicted score: -0.152 ----- True score: 0.153\n",
      "Predicted score: -0.669 ----- True score: -0.649\n",
      "Predicted score: 0.720 ----- True score: 0.586\n",
      "Predicted score: 0.281 ----- True score: 0.840\n",
      "Predicted score: 0.650 ----- True score: 0.892\n",
      "Predicted score: 0.636 ----- True score: 0.815\n",
      "Predicted score: -0.971 ----- True score: 0.000\n",
      "Predicted score: -0.868 ----- True score: 0.206\n",
      "Predicted score: -0.100 ----- True score: 0.782\n",
      "Predicted score: -0.642 ----- True score: -0.802\n",
      "Predicted score: 0.481 ----- True score: 0.874\n",
      "Predicted score: 0.233 ----- True score: 0.493\n",
      "Predicted score: 0.124 ----- True score: 0.927\n",
      "Predicted score: -0.864 ----- True score: 0.964\n",
      "Predicted score: 0.396 ----- True score: 0.735\n",
      "Predicted score: 0.822 ----- True score: 0.948\n",
      "Predicted score: 0.502 ----- True score: 0.889\n",
      "Predicted score: 0.261 ----- True score: 0.939\n",
      "Predicted score: -0.824 ----- True score: 0.526\n",
      "Predicted score: -0.113 ----- True score: -0.714\n",
      "Predicted score: -0.346 ----- True score: -0.547\n",
      "Predicted score: 0.793 ----- True score: 0.625\n",
      "Predicted score: 0.109 ----- True score: -0.477\n",
      "\n",
      "######################################\n",
      "\n",
      "Predicted score: 0.714 ----- True score: 0.625\n",
      "Predicted score: 0.328 ----- True score: -0.649\n",
      "Predicted score: -0.798 ----- True score: 0.000\n",
      "Predicted score: 0.172 ----- True score: -0.324\n",
      "Predicted score: -0.463 ----- True score: 0.421\n",
      "Predicted score: -0.269 ----- True score: -0.340\n",
      "Predicted score: -0.887 ----- True score: 0.713\n",
      "Predicted score: 0.991 ----- True score: -0.202\n",
      "Predicted score: -0.932 ----- True score: -0.235\n",
      "Predicted score: -0.964 ----- True score: 0.153\n",
      "Predicted score: 0.284 ----- True score: -0.649\n",
      "Predicted score: -0.591 ----- True score: 0.586\n",
      "Predicted score: 0.423 ----- True score: 0.840\n",
      "Predicted score: -0.846 ----- True score: 0.892\n",
      "Predicted score: -0.161 ----- True score: 0.815\n",
      "Predicted score: 0.702 ----- True score: 0.000\n",
      "Predicted score: 0.050 ----- True score: 0.206\n",
      "Predicted score: 0.360 ----- True score: 0.782\n",
      "Predicted score: -0.073 ----- True score: -0.802\n",
      "Predicted score: 0.772 ----- True score: 0.874\n",
      "Predicted score: 0.116 ----- True score: 0.493\n",
      "Predicted score: -0.575 ----- True score: 0.927\n",
      "Predicted score: -0.026 ----- True score: 0.964\n",
      "Predicted score: 0.222 ----- True score: 0.735\n",
      "Predicted score: 0.785 ----- True score: 0.948\n",
      "Predicted score: 0.281 ----- True score: 0.889\n",
      "Predicted score: -0.461 ----- True score: 0.939\n",
      "Predicted score: 0.977 ----- True score: 0.526\n",
      "Predicted score: 0.185 ----- True score: -0.714\n",
      "Predicted score: -0.660 ----- True score: -0.547\n",
      "Predicted score: -0.363 ----- True score: 0.625\n",
      "Predicted score: -0.142 ----- True score: -0.477\n",
      "\n",
      "######################################\n",
      "\n",
      "Predicted score: 0.801 ----- True score: 0.625\n",
      "Predicted score: -0.800 ----- True score: -0.649\n",
      "Predicted score: 0.632 ----- True score: 0.000\n",
      "Predicted score: -0.368 ----- True score: -0.324\n",
      "Predicted score: -0.345 ----- True score: 0.421\n",
      "Predicted score: -0.894 ----- True score: -0.340\n",
      "Predicted score: -0.992 ----- True score: 0.713\n",
      "Predicted score: 0.898 ----- True score: -0.202\n",
      "Predicted score: -0.497 ----- True score: -0.235\n",
      "Predicted score: 0.853 ----- True score: 0.153\n",
      "Predicted score: 0.040 ----- True score: -0.649\n",
      "Predicted score: -0.416 ----- True score: 0.586\n",
      "Predicted score: -0.344 ----- True score: 0.840\n",
      "Predicted score: 0.526 ----- True score: 0.892\n",
      "Predicted score: -0.145 ----- True score: 0.815\n",
      "Predicted score: -0.687 ----- True score: 0.000\n",
      "Predicted score: -0.362 ----- True score: 0.206\n",
      "Predicted score: -0.477 ----- True score: 0.782\n",
      "Predicted score: -0.873 ----- True score: -0.802\n",
      "Predicted score: 0.757 ----- True score: 0.874\n",
      "Predicted score: 0.136 ----- True score: 0.493\n",
      "Predicted score: 0.694 ----- True score: 0.927\n",
      "Predicted score: 0.060 ----- True score: 0.964\n",
      "Predicted score: -0.685 ----- True score: 0.735\n",
      "Predicted score: 0.298 ----- True score: 0.948\n",
      "Predicted score: 0.402 ----- True score: 0.889\n",
      "Predicted score: -0.783 ----- True score: 0.939\n",
      "Predicted score: -0.524 ----- True score: 0.526\n",
      "Predicted score: -0.423 ----- True score: -0.714\n",
      "Predicted score: 0.999 ----- True score: -0.547\n",
      "Predicted score: 0.620 ----- True score: 0.625\n",
      "Predicted score: -0.345 ----- True score: -0.477\n",
      "\n",
      "######################################\n",
      "\n"
     ]
    }
   ],
   "source": [
    "for i in range(0, len(true_values)):\n",
    "    for j in range(0,len(true_values[i])):\n",
    "        print(\"Predicted score: {:.3f} ----- True score: {:.3f}\".format(predicted_values[i][j], true_values[i][j]))\n",
    "    print('\\n######################################\\n')"
   ]
  },
  {
   "cell_type": "markdown",
   "metadata": {
    "slideshow": {
     "slide_type": "slide"
    }
   },
   "source": [
    "# MAE for each iteration"
   ]
  },
  {
   "cell_type": "code",
   "execution_count": 12,
   "metadata": {
    "scrolled": true,
    "slideshow": {
     "slide_type": "fragment"
    }
   },
   "outputs": [
    {
     "name": "stdout",
     "output_type": "stream",
     "text": [
      "1). MAE: 0.762960766165393\n",
      "\n",
      "2). MAE: 0.7953170469282193\n",
      "\n",
      "3). MAE: 0.7670256720110713\n",
      "\n",
      "4). MAE: 0.7285598057045028\n",
      "\n",
      "5). MAE: 0.6819337595437465\n",
      "\n",
      "6). MAE: 0.7646435204228411\n",
      "\n",
      "7). MAE: 0.7133298213326495\n",
      "\n",
      "8). MAE: 0.7365268671710558\n",
      "\n",
      "9). MAE: 0.8221376898501577\n",
      "\n",
      "10). MAE: 0.9631514555532544\n",
      "\n",
      "11). MAE: 0.7345095491651649\n",
      "\n",
      "12). MAE: 0.8091404470255695\n",
      "\n",
      "13). MAE: 0.7369181369377436\n",
      "\n",
      "14). MAE: 0.701615874128006\n",
      "\n",
      "15). MAE: 0.7529262292409338\n",
      "\n",
      "16). MAE: 0.808990413000826\n",
      "\n",
      "17). MAE: 0.5218124141308754\n",
      "\n",
      "18). MAE: 0.6142489666248703\n",
      "\n",
      "19). MAE: 0.8144310993389973\n",
      "\n",
      "20). MAE: 0.522452237310738\n",
      "\n",
      "21). MAE: 0.811128529732073\n",
      "\n",
      "22). MAE: 0.6465587244442621\n",
      "\n",
      "23). MAE: 0.7640146311331133\n",
      "\n",
      "24). MAE: 0.739660462499448\n",
      "\n",
      "25). MAE: 0.5501914768861852\n",
      "\n",
      "26). MAE: 0.7009656141984687\n",
      "\n",
      "27). MAE: 0.7555975750385838\n",
      "\n",
      "28). MAE: 0.7637694171259557\n",
      "\n",
      "29). MAE: 0.6136452317555596\n",
      "\n",
      "30). MAE: 0.7425012792140305\n",
      "\n",
      "31). MAE: 0.6527543737113077\n",
      "\n",
      "32). MAE: 0.670500637959913\n",
      "\n",
      "33). MAE: 0.6960413116799321\n",
      "\n",
      "34). MAE: 0.6120376411188462\n",
      "\n",
      "35). MAE: 0.7841501425775212\n",
      "\n",
      "36). MAE: 0.6460086476384058\n",
      "\n",
      "37). MAE: 0.7867769692725195\n",
      "\n",
      "38). MAE: 0.5678385983164195\n",
      "\n",
      "39). MAE: 0.7378712785835582\n",
      "\n",
      "40). MAE: 0.6809438171862223\n",
      "\n"
     ]
    }
   ],
   "source": [
    "#measure performance with mae\n",
    "def mae(y_true, y_pred):\n",
    "    return (y_true-y_pred).abs().mean()\n",
    "\n",
    "mae_values = []\n",
    "\n",
    "for i in range(0,len(true_values)):\n",
    "    mae_values.append(mae(pd.Series(true_values[i]), pd.Series(predicted_values[i])))\n",
    "    print(\"{}). MAE: {}\\n\".format(i+1, mae_values[i]))"
   ]
  },
  {
   "cell_type": "markdown",
   "metadata": {
    "slideshow": {
     "slide_type": "slide"
    }
   },
   "source": [
    "# Mean MAE for all the iterations"
   ]
  },
  {
   "cell_type": "code",
   "execution_count": 20,
   "metadata": {
    "slideshow": {
     "slide_type": "fragment"
    }
   },
   "outputs": [
    {
     "name": "stdout",
     "output_type": "stream",
     "text": [
      "Mean MAE: 0.7169\n"
     ]
    }
   ],
   "source": [
    "#calculating mean MAE from above\n",
    "\n",
    "print(\"Mean MAE: {:.4f}\".format(pd.Series(mae_values).mean()))"
   ]
  },
  {
   "cell_type": "markdown",
   "metadata": {
    "slideshow": {
     "slide_type": "slide"
    }
   },
   "source": [
    "# Understand if we have done better than random"
   ]
  },
  {
   "cell_type": "markdown",
   "metadata": {
    "slideshow": {
     "slide_type": "fragment"
    }
   },
   "source": [
    "To do this we are just going to subtract this mean to our original MAE. If a positive number comes up, we are doing better than the random algorithm."
   ]
  },
  {
   "cell_type": "code",
   "execution_count": 14,
   "metadata": {},
   "outputs": [
    {
     "name": "stdout",
     "output_type": "stream",
     "text": [
      "Mean variation: 0.1421\n"
     ]
    }
   ],
   "source": [
    "#calculating the mean of the variations \n",
    "dif = mae(pd.Series(true_values), pd.Series(predicted_values)) - pd.Series(mae_values).mean()\n",
    "print(\"Mean variation: {:.4f}\".format(dif))"
   ]
  },
  {
   "cell_type": "markdown",
   "metadata": {
    "slideshow": {
     "slide_type": "slide"
    }
   },
   "source": [
    "# Conclusions"
   ]
  },
  {
   "cell_type": "markdown",
   "metadata": {
    "slideshow": {
     "slide_type": "fragment"
    }
   },
   "source": [
    "We are doing slightly better than a random algorithm... which is at least something!"
   ]
  },
  {
   "cell_type": "markdown",
   "metadata": {},
   "source": [
    "Probably with more data we would have achieved different results but, we can still say that our algorithm is doing something good since we have obtained better results than the baseline. "
   ]
  }
 ],
 "metadata": {
  "celltoolbar": "Slideshow",
  "kernelspec": {
   "display_name": "Python 3",
   "language": "python",
   "name": "python3"
  },
  "language_info": {
   "codemirror_mode": {
    "name": "ipython",
    "version": 3
   },
   "file_extension": ".py",
   "mimetype": "text/x-python",
   "name": "python",
   "nbconvert_exporter": "python",
   "pygments_lexer": "ipython3",
   "version": "3.7.4"
  }
 },
 "nbformat": 4,
 "nbformat_minor": 2
}
