{
 "cells": [
  {
   "cell_type": "code",
   "execution_count": null,
   "metadata": {},
   "outputs": [],
   "source": [
    "import praw\n",
    "import pandas as pd\n",
    "import config\n",
    "\n",
    "#create a reddit instance\n",
    "reddit = praw.Reddit(config.client_id,\n",
    "                     config.client_secret,\n",
    "                     config.username,\n",
    "                     config.password,\n",
    "                     config.user_agent)\n",
    "\n",
    "#get the subreddit we are interested in\n",
    "subreddit = reddit.subreddit('movies').search('what do you think about') #not iterable, we need to sort\n",
    "\n",
    "#sort by hot\n",
    "\n",
    "ids = []\n",
    "titles = []\n",
    "n_comments = [] #we will need this in order to create the DataFrame\n",
    "c_authors = [] #same for this one\n",
    "data = pd.DataFrame(columns=['ID','Title','Comments'])\n",
    "\n",
    "for s in subreddit:\n",
    "    #get only what contains our interested keyword\n",
    "    #if 'buy' in s.title:\n",
    "    ids.append(s)\n",
    "    titles.append(s.title)\n",
    "    n_comments.append(len(s.comments))\n",
    "        #print('---------------')\n",
    "        #print(s)\n",
    "        #print(\"Comments: {}\".format(len(s.comments))) #show how many comments a topic has\n",
    "        \n",
    "        #comments = s.comments\n",
    "        #for c in comments:\n",
    "            #print('***************')\n",
    "            #print(c.body)\n",
    "            #r_comments.append(c.body)\n",
    "            #print(\"Author: {}\".format(c.author))\n",
    "            #c_authors.append(str(c.author))\n",
    "data['ID'] = ids\n",
    "data['Title'] = titles\n",
    "data['Comments'] = n_comments\n",
    "\n",
    "data.sort_values(by=['Comments'])\n",
    "data.info()\n",
    "data.head()"
   ]
  }
 ],
 "metadata": {
  "kernelspec": {
   "display_name": "Python 3",
   "language": "python",
   "name": "python3"
  },
  "language_info": {
   "codemirror_mode": {
    "name": "ipython",
    "version": 3
   },
   "file_extension": ".py",
   "mimetype": "text/x-python",
   "name": "python",
   "nbconvert_exporter": "python",
   "pygments_lexer": "ipython3",
   "version": "3.7.4"
  }
 },
 "nbformat": 4,
 "nbformat_minor": 2
}
